{
  "nbformat": 4,
  "nbformat_minor": 0,
  "metadata": {
    "colab": {
      "provenance": []
    },
    "kernelspec": {
      "name": "python3",
      "display_name": "Python 3"
    },
    "language_info": {
      "name": "python"
    }
  },
  "cells": [
    {
      "cell_type": "markdown",
      "source": [
        "Importing the Dependencies"
      ],
      "metadata": {
        "id": "R0ngYWBSgcvg"
      }
    },
    {
      "cell_type": "code",
      "execution_count": null,
      "metadata": {
        "id": "qLqC1kkZf4_N"
      },
      "outputs": [],
      "source": [
        "import numpy as np\n",
        "import pandas as pd\n",
        "import difflib\n",
        "from sklearn.feature_extraction.text import TfidfVectorizer\n",
        "from sklearn.metrics.pairwise import cosine_similarity"
      ]
    },
    {
      "cell_type": "markdown",
      "source": [
        "Data collection and pre processing"
      ],
      "metadata": {
        "id": "614T2Ildhc3e"
      }
    },
    {
      "cell_type": "code",
      "source": [
        "data=pd.read_csv('/content/movies.csv')"
      ],
      "metadata": {
        "id": "YlTEHohGhZZm"
      },
      "execution_count": null,
      "outputs": []
    },
    {
      "cell_type": "code",
      "source": [
        "data.head()"
      ],
      "metadata": {
        "colab": {
          "base_uri": "https://localhost:8080/",
          "height": 793
        },
        "id": "D3CyfqNPhwF3",
        "outputId": "295b802c-455c-46dd-d138-bd14e5122714"
      },
      "execution_count": null,
      "outputs": [
        {
          "output_type": "execute_result",
          "data": {
            "text/plain": [
              "   index     budget                                    genres  \\\n",
              "0      0  237000000  Action Adventure Fantasy Science Fiction   \n",
              "1      1  300000000                  Adventure Fantasy Action   \n",
              "2      2  245000000                    Action Adventure Crime   \n",
              "3      3  250000000               Action Crime Drama Thriller   \n",
              "4      4  260000000          Action Adventure Science Fiction   \n",
              "\n",
              "                                       homepage      id  \\\n",
              "0                   http://www.avatarmovie.com/   19995   \n",
              "1  http://disney.go.com/disneypictures/pirates/     285   \n",
              "2   http://www.sonypictures.com/movies/spectre/  206647   \n",
              "3            http://www.thedarkknightrises.com/   49026   \n",
              "4          http://movies.disney.com/john-carter   49529   \n",
              "\n",
              "                                            keywords original_language  \\\n",
              "0  culture clash future space war space colony so...                en   \n",
              "1  ocean drug abuse exotic island east india trad...                en   \n",
              "2         spy based on novel secret agent sequel mi6                en   \n",
              "3  dc comics crime fighter terrorist secret ident...                en   \n",
              "4  based on novel mars medallion space travel pri...                en   \n",
              "\n",
              "                             original_title  \\\n",
              "0                                    Avatar   \n",
              "1  Pirates of the Caribbean: At World's End   \n",
              "2                                   Spectre   \n",
              "3                     The Dark Knight Rises   \n",
              "4                               John Carter   \n",
              "\n",
              "                                            overview  popularity  ... runtime  \\\n",
              "0  In the 22nd century, a paraplegic Marine is di...  150.437577  ...   162.0   \n",
              "1  Captain Barbossa, long believed to be dead, ha...  139.082615  ...   169.0   \n",
              "2  A cryptic message from Bond’s past sends him o...  107.376788  ...   148.0   \n",
              "3  Following the death of District Attorney Harve...  112.312950  ...   165.0   \n",
              "4  John Carter is a war-weary, former military ca...   43.926995  ...   132.0   \n",
              "\n",
              "                                    spoken_languages    status  \\\n",
              "0  [{\"iso_639_1\": \"en\", \"name\": \"English\"}, {\"iso...  Released   \n",
              "1           [{\"iso_639_1\": \"en\", \"name\": \"English\"}]  Released   \n",
              "2  [{\"iso_639_1\": \"fr\", \"name\": \"Fran\\u00e7ais\"},...  Released   \n",
              "3           [{\"iso_639_1\": \"en\", \"name\": \"English\"}]  Released   \n",
              "4           [{\"iso_639_1\": \"en\", \"name\": \"English\"}]  Released   \n",
              "\n",
              "                                          tagline  \\\n",
              "0                     Enter the World of Pandora.   \n",
              "1  At the end of the world, the adventure begins.   \n",
              "2                           A Plan No One Escapes   \n",
              "3                                 The Legend Ends   \n",
              "4            Lost in our world, found in another.   \n",
              "\n",
              "                                      title vote_average vote_count  \\\n",
              "0                                    Avatar          7.2      11800   \n",
              "1  Pirates of the Caribbean: At World's End          6.9       4500   \n",
              "2                                   Spectre          6.3       4466   \n",
              "3                     The Dark Knight Rises          7.6       9106   \n",
              "4                               John Carter          6.1       2124   \n",
              "\n",
              "                                                cast  \\\n",
              "0  Sam Worthington Zoe Saldana Sigourney Weaver S...   \n",
              "1  Johnny Depp Orlando Bloom Keira Knightley Stel...   \n",
              "2  Daniel Craig Christoph Waltz L\\u00e9a Seydoux ...   \n",
              "3  Christian Bale Michael Caine Gary Oldman Anne ...   \n",
              "4  Taylor Kitsch Lynn Collins Samantha Morton Wil...   \n",
              "\n",
              "                                                crew           director  \n",
              "0  [{'name': 'Stephen E. Rivkin', 'gender': 0, 'd...      James Cameron  \n",
              "1  [{'name': 'Dariusz Wolski', 'gender': 2, 'depa...     Gore Verbinski  \n",
              "2  [{'name': 'Thomas Newman', 'gender': 2, 'depar...         Sam Mendes  \n",
              "3  [{'name': 'Hans Zimmer', 'gender': 2, 'departm...  Christopher Nolan  \n",
              "4  [{'name': 'Andrew Stanton', 'gender': 2, 'depa...     Andrew Stanton  \n",
              "\n",
              "[5 rows x 24 columns]"
            ],
            "text/html": [
              "\n",
              "  <div id=\"df-ff1b6a20-5868-4d12-a87b-e92c6d455ba7\" class=\"colab-df-container\">\n",
              "    <div>\n",
              "<style scoped>\n",
              "    .dataframe tbody tr th:only-of-type {\n",
              "        vertical-align: middle;\n",
              "    }\n",
              "\n",
              "    .dataframe tbody tr th {\n",
              "        vertical-align: top;\n",
              "    }\n",
              "\n",
              "    .dataframe thead th {\n",
              "        text-align: right;\n",
              "    }\n",
              "</style>\n",
              "<table border=\"1\" class=\"dataframe\">\n",
              "  <thead>\n",
              "    <tr style=\"text-align: right;\">\n",
              "      <th></th>\n",
              "      <th>index</th>\n",
              "      <th>budget</th>\n",
              "      <th>genres</th>\n",
              "      <th>homepage</th>\n",
              "      <th>id</th>\n",
              "      <th>keywords</th>\n",
              "      <th>original_language</th>\n",
              "      <th>original_title</th>\n",
              "      <th>overview</th>\n",
              "      <th>popularity</th>\n",
              "      <th>...</th>\n",
              "      <th>runtime</th>\n",
              "      <th>spoken_languages</th>\n",
              "      <th>status</th>\n",
              "      <th>tagline</th>\n",
              "      <th>title</th>\n",
              "      <th>vote_average</th>\n",
              "      <th>vote_count</th>\n",
              "      <th>cast</th>\n",
              "      <th>crew</th>\n",
              "      <th>director</th>\n",
              "    </tr>\n",
              "  </thead>\n",
              "  <tbody>\n",
              "    <tr>\n",
              "      <th>0</th>\n",
              "      <td>0</td>\n",
              "      <td>237000000</td>\n",
              "      <td>Action Adventure Fantasy Science Fiction</td>\n",
              "      <td>http://www.avatarmovie.com/</td>\n",
              "      <td>19995</td>\n",
              "      <td>culture clash future space war space colony so...</td>\n",
              "      <td>en</td>\n",
              "      <td>Avatar</td>\n",
              "      <td>In the 22nd century, a paraplegic Marine is di...</td>\n",
              "      <td>150.437577</td>\n",
              "      <td>...</td>\n",
              "      <td>162.0</td>\n",
              "      <td>[{\"iso_639_1\": \"en\", \"name\": \"English\"}, {\"iso...</td>\n",
              "      <td>Released</td>\n",
              "      <td>Enter the World of Pandora.</td>\n",
              "      <td>Avatar</td>\n",
              "      <td>7.2</td>\n",
              "      <td>11800</td>\n",
              "      <td>Sam Worthington Zoe Saldana Sigourney Weaver S...</td>\n",
              "      <td>[{'name': 'Stephen E. Rivkin', 'gender': 0, 'd...</td>\n",
              "      <td>James Cameron</td>\n",
              "    </tr>\n",
              "    <tr>\n",
              "      <th>1</th>\n",
              "      <td>1</td>\n",
              "      <td>300000000</td>\n",
              "      <td>Adventure Fantasy Action</td>\n",
              "      <td>http://disney.go.com/disneypictures/pirates/</td>\n",
              "      <td>285</td>\n",
              "      <td>ocean drug abuse exotic island east india trad...</td>\n",
              "      <td>en</td>\n",
              "      <td>Pirates of the Caribbean: At World's End</td>\n",
              "      <td>Captain Barbossa, long believed to be dead, ha...</td>\n",
              "      <td>139.082615</td>\n",
              "      <td>...</td>\n",
              "      <td>169.0</td>\n",
              "      <td>[{\"iso_639_1\": \"en\", \"name\": \"English\"}]</td>\n",
              "      <td>Released</td>\n",
              "      <td>At the end of the world, the adventure begins.</td>\n",
              "      <td>Pirates of the Caribbean: At World's End</td>\n",
              "      <td>6.9</td>\n",
              "      <td>4500</td>\n",
              "      <td>Johnny Depp Orlando Bloom Keira Knightley Stel...</td>\n",
              "      <td>[{'name': 'Dariusz Wolski', 'gender': 2, 'depa...</td>\n",
              "      <td>Gore Verbinski</td>\n",
              "    </tr>\n",
              "    <tr>\n",
              "      <th>2</th>\n",
              "      <td>2</td>\n",
              "      <td>245000000</td>\n",
              "      <td>Action Adventure Crime</td>\n",
              "      <td>http://www.sonypictures.com/movies/spectre/</td>\n",
              "      <td>206647</td>\n",
              "      <td>spy based on novel secret agent sequel mi6</td>\n",
              "      <td>en</td>\n",
              "      <td>Spectre</td>\n",
              "      <td>A cryptic message from Bond’s past sends him o...</td>\n",
              "      <td>107.376788</td>\n",
              "      <td>...</td>\n",
              "      <td>148.0</td>\n",
              "      <td>[{\"iso_639_1\": \"fr\", \"name\": \"Fran\\u00e7ais\"},...</td>\n",
              "      <td>Released</td>\n",
              "      <td>A Plan No One Escapes</td>\n",
              "      <td>Spectre</td>\n",
              "      <td>6.3</td>\n",
              "      <td>4466</td>\n",
              "      <td>Daniel Craig Christoph Waltz L\\u00e9a Seydoux ...</td>\n",
              "      <td>[{'name': 'Thomas Newman', 'gender': 2, 'depar...</td>\n",
              "      <td>Sam Mendes</td>\n",
              "    </tr>\n",
              "    <tr>\n",
              "      <th>3</th>\n",
              "      <td>3</td>\n",
              "      <td>250000000</td>\n",
              "      <td>Action Crime Drama Thriller</td>\n",
              "      <td>http://www.thedarkknightrises.com/</td>\n",
              "      <td>49026</td>\n",
              "      <td>dc comics crime fighter terrorist secret ident...</td>\n",
              "      <td>en</td>\n",
              "      <td>The Dark Knight Rises</td>\n",
              "      <td>Following the death of District Attorney Harve...</td>\n",
              "      <td>112.312950</td>\n",
              "      <td>...</td>\n",
              "      <td>165.0</td>\n",
              "      <td>[{\"iso_639_1\": \"en\", \"name\": \"English\"}]</td>\n",
              "      <td>Released</td>\n",
              "      <td>The Legend Ends</td>\n",
              "      <td>The Dark Knight Rises</td>\n",
              "      <td>7.6</td>\n",
              "      <td>9106</td>\n",
              "      <td>Christian Bale Michael Caine Gary Oldman Anne ...</td>\n",
              "      <td>[{'name': 'Hans Zimmer', 'gender': 2, 'departm...</td>\n",
              "      <td>Christopher Nolan</td>\n",
              "    </tr>\n",
              "    <tr>\n",
              "      <th>4</th>\n",
              "      <td>4</td>\n",
              "      <td>260000000</td>\n",
              "      <td>Action Adventure Science Fiction</td>\n",
              "      <td>http://movies.disney.com/john-carter</td>\n",
              "      <td>49529</td>\n",
              "      <td>based on novel mars medallion space travel pri...</td>\n",
              "      <td>en</td>\n",
              "      <td>John Carter</td>\n",
              "      <td>John Carter is a war-weary, former military ca...</td>\n",
              "      <td>43.926995</td>\n",
              "      <td>...</td>\n",
              "      <td>132.0</td>\n",
              "      <td>[{\"iso_639_1\": \"en\", \"name\": \"English\"}]</td>\n",
              "      <td>Released</td>\n",
              "      <td>Lost in our world, found in another.</td>\n",
              "      <td>John Carter</td>\n",
              "      <td>6.1</td>\n",
              "      <td>2124</td>\n",
              "      <td>Taylor Kitsch Lynn Collins Samantha Morton Wil...</td>\n",
              "      <td>[{'name': 'Andrew Stanton', 'gender': 2, 'depa...</td>\n",
              "      <td>Andrew Stanton</td>\n",
              "    </tr>\n",
              "  </tbody>\n",
              "</table>\n",
              "<p>5 rows × 24 columns</p>\n",
              "</div>\n",
              "    <div class=\"colab-df-buttons\">\n",
              "\n",
              "  <div class=\"colab-df-container\">\n",
              "    <button class=\"colab-df-convert\" onclick=\"convertToInteractive('df-ff1b6a20-5868-4d12-a87b-e92c6d455ba7')\"\n",
              "            title=\"Convert this dataframe to an interactive table.\"\n",
              "            style=\"display:none;\">\n",
              "\n",
              "  <svg xmlns=\"http://www.w3.org/2000/svg\" height=\"24px\" viewBox=\"0 -960 960 960\">\n",
              "    <path d=\"M120-120v-720h720v720H120Zm60-500h600v-160H180v160Zm220 220h160v-160H400v160Zm0 220h160v-160H400v160ZM180-400h160v-160H180v160Zm440 0h160v-160H620v160ZM180-180h160v-160H180v160Zm440 0h160v-160H620v160Z\"/>\n",
              "  </svg>\n",
              "    </button>\n",
              "\n",
              "  <style>\n",
              "    .colab-df-container {\n",
              "      display:flex;\n",
              "      gap: 12px;\n",
              "    }\n",
              "\n",
              "    .colab-df-convert {\n",
              "      background-color: #E8F0FE;\n",
              "      border: none;\n",
              "      border-radius: 50%;\n",
              "      cursor: pointer;\n",
              "      display: none;\n",
              "      fill: #1967D2;\n",
              "      height: 32px;\n",
              "      padding: 0 0 0 0;\n",
              "      width: 32px;\n",
              "    }\n",
              "\n",
              "    .colab-df-convert:hover {\n",
              "      background-color: #E2EBFA;\n",
              "      box-shadow: 0px 1px 2px rgba(60, 64, 67, 0.3), 0px 1px 3px 1px rgba(60, 64, 67, 0.15);\n",
              "      fill: #174EA6;\n",
              "    }\n",
              "\n",
              "    .colab-df-buttons div {\n",
              "      margin-bottom: 4px;\n",
              "    }\n",
              "\n",
              "    [theme=dark] .colab-df-convert {\n",
              "      background-color: #3B4455;\n",
              "      fill: #D2E3FC;\n",
              "    }\n",
              "\n",
              "    [theme=dark] .colab-df-convert:hover {\n",
              "      background-color: #434B5C;\n",
              "      box-shadow: 0px 1px 3px 1px rgba(0, 0, 0, 0.15);\n",
              "      filter: drop-shadow(0px 1px 2px rgba(0, 0, 0, 0.3));\n",
              "      fill: #FFFFFF;\n",
              "    }\n",
              "  </style>\n",
              "\n",
              "    <script>\n",
              "      const buttonEl =\n",
              "        document.querySelector('#df-ff1b6a20-5868-4d12-a87b-e92c6d455ba7 button.colab-df-convert');\n",
              "      buttonEl.style.display =\n",
              "        google.colab.kernel.accessAllowed ? 'block' : 'none';\n",
              "\n",
              "      async function convertToInteractive(key) {\n",
              "        const element = document.querySelector('#df-ff1b6a20-5868-4d12-a87b-e92c6d455ba7');\n",
              "        const dataTable =\n",
              "          await google.colab.kernel.invokeFunction('convertToInteractive',\n",
              "                                                    [key], {});\n",
              "        if (!dataTable) return;\n",
              "\n",
              "        const docLinkHtml = 'Like what you see? Visit the ' +\n",
              "          '<a target=\"_blank\" href=https://colab.research.google.com/notebooks/data_table.ipynb>data table notebook</a>'\n",
              "          + ' to learn more about interactive tables.';\n",
              "        element.innerHTML = '';\n",
              "        dataTable['output_type'] = 'display_data';\n",
              "        await google.colab.output.renderOutput(dataTable, element);\n",
              "        const docLink = document.createElement('div');\n",
              "        docLink.innerHTML = docLinkHtml;\n",
              "        element.appendChild(docLink);\n",
              "      }\n",
              "    </script>\n",
              "  </div>\n",
              "\n",
              "\n",
              "<div id=\"df-fd502bdf-6b78-4095-8297-281867717b1f\">\n",
              "  <button class=\"colab-df-quickchart\" onclick=\"quickchart('df-fd502bdf-6b78-4095-8297-281867717b1f')\"\n",
              "            title=\"Suggest charts\"\n",
              "            style=\"display:none;\">\n",
              "\n",
              "<svg xmlns=\"http://www.w3.org/2000/svg\" height=\"24px\"viewBox=\"0 0 24 24\"\n",
              "     width=\"24px\">\n",
              "    <g>\n",
              "        <path d=\"M19 3H5c-1.1 0-2 .9-2 2v14c0 1.1.9 2 2 2h14c1.1 0 2-.9 2-2V5c0-1.1-.9-2-2-2zM9 17H7v-7h2v7zm4 0h-2V7h2v10zm4 0h-2v-4h2v4z\"/>\n",
              "    </g>\n",
              "</svg>\n",
              "  </button>\n",
              "\n",
              "<style>\n",
              "  .colab-df-quickchart {\n",
              "      --bg-color: #E8F0FE;\n",
              "      --fill-color: #1967D2;\n",
              "      --hover-bg-color: #E2EBFA;\n",
              "      --hover-fill-color: #174EA6;\n",
              "      --disabled-fill-color: #AAA;\n",
              "      --disabled-bg-color: #DDD;\n",
              "  }\n",
              "\n",
              "  [theme=dark] .colab-df-quickchart {\n",
              "      --bg-color: #3B4455;\n",
              "      --fill-color: #D2E3FC;\n",
              "      --hover-bg-color: #434B5C;\n",
              "      --hover-fill-color: #FFFFFF;\n",
              "      --disabled-bg-color: #3B4455;\n",
              "      --disabled-fill-color: #666;\n",
              "  }\n",
              "\n",
              "  .colab-df-quickchart {\n",
              "    background-color: var(--bg-color);\n",
              "    border: none;\n",
              "    border-radius: 50%;\n",
              "    cursor: pointer;\n",
              "    display: none;\n",
              "    fill: var(--fill-color);\n",
              "    height: 32px;\n",
              "    padding: 0;\n",
              "    width: 32px;\n",
              "  }\n",
              "\n",
              "  .colab-df-quickchart:hover {\n",
              "    background-color: var(--hover-bg-color);\n",
              "    box-shadow: 0 1px 2px rgba(60, 64, 67, 0.3), 0 1px 3px 1px rgba(60, 64, 67, 0.15);\n",
              "    fill: var(--button-hover-fill-color);\n",
              "  }\n",
              "\n",
              "  .colab-df-quickchart-complete:disabled,\n",
              "  .colab-df-quickchart-complete:disabled:hover {\n",
              "    background-color: var(--disabled-bg-color);\n",
              "    fill: var(--disabled-fill-color);\n",
              "    box-shadow: none;\n",
              "  }\n",
              "\n",
              "  .colab-df-spinner {\n",
              "    border: 2px solid var(--fill-color);\n",
              "    border-color: transparent;\n",
              "    border-bottom-color: var(--fill-color);\n",
              "    animation:\n",
              "      spin 1s steps(1) infinite;\n",
              "  }\n",
              "\n",
              "  @keyframes spin {\n",
              "    0% {\n",
              "      border-color: transparent;\n",
              "      border-bottom-color: var(--fill-color);\n",
              "      border-left-color: var(--fill-color);\n",
              "    }\n",
              "    20% {\n",
              "      border-color: transparent;\n",
              "      border-left-color: var(--fill-color);\n",
              "      border-top-color: var(--fill-color);\n",
              "    }\n",
              "    30% {\n",
              "      border-color: transparent;\n",
              "      border-left-color: var(--fill-color);\n",
              "      border-top-color: var(--fill-color);\n",
              "      border-right-color: var(--fill-color);\n",
              "    }\n",
              "    40% {\n",
              "      border-color: transparent;\n",
              "      border-right-color: var(--fill-color);\n",
              "      border-top-color: var(--fill-color);\n",
              "    }\n",
              "    60% {\n",
              "      border-color: transparent;\n",
              "      border-right-color: var(--fill-color);\n",
              "    }\n",
              "    80% {\n",
              "      border-color: transparent;\n",
              "      border-right-color: var(--fill-color);\n",
              "      border-bottom-color: var(--fill-color);\n",
              "    }\n",
              "    90% {\n",
              "      border-color: transparent;\n",
              "      border-bottom-color: var(--fill-color);\n",
              "    }\n",
              "  }\n",
              "</style>\n",
              "\n",
              "  <script>\n",
              "    async function quickchart(key) {\n",
              "      const quickchartButtonEl =\n",
              "        document.querySelector('#' + key + ' button');\n",
              "      quickchartButtonEl.disabled = true;  // To prevent multiple clicks.\n",
              "      quickchartButtonEl.classList.add('colab-df-spinner');\n",
              "      try {\n",
              "        const charts = await google.colab.kernel.invokeFunction(\n",
              "            'suggestCharts', [key], {});\n",
              "      } catch (error) {\n",
              "        console.error('Error during call to suggestCharts:', error);\n",
              "      }\n",
              "      quickchartButtonEl.classList.remove('colab-df-spinner');\n",
              "      quickchartButtonEl.classList.add('colab-df-quickchart-complete');\n",
              "    }\n",
              "    (() => {\n",
              "      let quickchartButtonEl =\n",
              "        document.querySelector('#df-fd502bdf-6b78-4095-8297-281867717b1f button');\n",
              "      quickchartButtonEl.style.display =\n",
              "        google.colab.kernel.accessAllowed ? 'block' : 'none';\n",
              "    })();\n",
              "  </script>\n",
              "</div>\n",
              "\n",
              "    </div>\n",
              "  </div>\n"
            ],
            "application/vnd.google.colaboratory.intrinsic+json": {
              "type": "dataframe",
              "variable_name": "data"
            }
          },
          "metadata": {},
          "execution_count": 5
        }
      ]
    },
    {
      "cell_type": "code",
      "source": [
        "data.shape"
      ],
      "metadata": {
        "colab": {
          "base_uri": "https://localhost:8080/"
        },
        "id": "BvMZRt4Ohy8l",
        "outputId": "5f0f7418-2dd3-4c8c-9f89-723ab297213d"
      },
      "execution_count": null,
      "outputs": [
        {
          "output_type": "execute_result",
          "data": {
            "text/plain": [
              "(4803, 24)"
            ]
          },
          "metadata": {},
          "execution_count": 6
        }
      ]
    },
    {
      "cell_type": "code",
      "source": [
        "# selecting teh relavent features for recomendation\n",
        "selected_features=['genres','keywords','tagline','cast','director']\n",
        "print(selected_features)\n"
      ],
      "metadata": {
        "colab": {
          "base_uri": "https://localhost:8080/"
        },
        "id": "VQYn3V6Ri6rO",
        "outputId": "6bf05056-a3b5-4629-acf5-d9adc94a337e"
      },
      "execution_count": null,
      "outputs": [
        {
          "output_type": "stream",
          "name": "stdout",
          "text": [
            "['genres', 'keywords', 'tagline', 'cast', 'director']\n"
          ]
        }
      ]
    },
    {
      "cell_type": "code",
      "source": [
        "# replacing the null values with null string\n",
        "for feature in selected_features:\n",
        "  data[feature]=data[feature].fillna('')"
      ],
      "metadata": {
        "id": "RA8537SSk8Yu"
      },
      "execution_count": null,
      "outputs": []
    },
    {
      "cell_type": "code",
      "source": [
        "# combinning all the 5 selected features\n",
        "combined_features=data['genres']+' '+data['keywords']+' '+data['tagline']+' '+data['cast']+' '+data['director']"
      ],
      "metadata": {
        "id": "c6BYUqESl73F"
      },
      "execution_count": null,
      "outputs": []
    },
    {
      "cell_type": "code",
      "source": [
        "print(combined_features)"
      ],
      "metadata": {
        "colab": {
          "base_uri": "https://localhost:8080/"
        },
        "id": "MbJTOGGumyiW",
        "outputId": "9a31c5b1-1f1e-41b5-e39d-03c7b98f99a0"
      },
      "execution_count": null,
      "outputs": [
        {
          "output_type": "stream",
          "name": "stdout",
          "text": [
            "0       Action Adventure Fantasy Science Fiction cultu...\n",
            "1       Adventure Fantasy Action ocean drug abuse exot...\n",
            "2       Action Adventure Crime spy based on novel secr...\n",
            "3       Action Crime Drama Thriller dc comics crime fi...\n",
            "4       Action Adventure Science Fiction based on nove...\n",
            "                              ...                        \n",
            "4798    Action Crime Thriller united states\\u2013mexic...\n",
            "4799    Comedy Romance  A newlywed couple's honeymoon ...\n",
            "4800    Comedy Drama Romance TV Movie date love at fir...\n",
            "4801      A New Yorker in Shanghai Daniel Henney Eliza...\n",
            "4802    Documentary obsession camcorder crush dream gi...\n",
            "Length: 4803, dtype: object\n"
          ]
        }
      ]
    },
    {
      "cell_type": "code",
      "source": [
        "# converting the text data to feature vector\n",
        "vectorizer=TfidfVectorizer()"
      ],
      "metadata": {
        "id": "Y6xIe-Mom6Jk"
      },
      "execution_count": null,
      "outputs": []
    },
    {
      "cell_type": "code",
      "source": [
        "feature_vectors=vectorizer.fit_transform(combined_features)"
      ],
      "metadata": {
        "id": "RCxI_a0XnUDU"
      },
      "execution_count": null,
      "outputs": []
    },
    {
      "cell_type": "code",
      "source": [
        "print(feature_vectors)"
      ],
      "metadata": {
        "colab": {
          "base_uri": "https://localhost:8080/"
        },
        "id": "7FE9Rt8MoH38",
        "outputId": "73e0728c-096f-4480-fc62-545e46696853"
      },
      "execution_count": null,
      "outputs": [
        {
          "output_type": "stream",
          "name": "stdout",
          "text": [
            "  (0, 2432)\t0.17272411194153\n",
            "  (0, 7755)\t0.1128035714854756\n",
            "  (0, 13024)\t0.1942362060108871\n",
            "  (0, 10229)\t0.16058685400095302\n",
            "  (0, 8756)\t0.22709015857011816\n",
            "  (0, 14608)\t0.15150672398763912\n",
            "  (0, 16668)\t0.19843263965100372\n",
            "  (0, 14064)\t0.20596090415084142\n",
            "  (0, 13319)\t0.2177470539412484\n",
            "  (0, 17290)\t0.20197912553916567\n",
            "  (0, 17007)\t0.23643326319898797\n",
            "  (0, 13349)\t0.15021264094167086\n",
            "  (0, 11503)\t0.27211310056983656\n",
            "  (0, 11192)\t0.09049319826481456\n",
            "  (0, 16998)\t0.1282126322850579\n",
            "  (0, 15261)\t0.07095833561276566\n",
            "  (0, 4945)\t0.24025852494110758\n",
            "  (0, 14271)\t0.21392179219912877\n",
            "  (0, 3225)\t0.24960162956997736\n",
            "  (0, 16587)\t0.12549432354918996\n",
            "  (0, 14378)\t0.33962752210959823\n",
            "  (0, 5836)\t0.1646750903586285\n",
            "  (0, 3065)\t0.22208377802661425\n",
            "  (0, 3678)\t0.21392179219912877\n",
            "  (0, 5437)\t0.1036413987316636\n",
            "  :\t:\n",
            "  (4801, 17266)\t0.2886098184932947\n",
            "  (4801, 4835)\t0.24713765026963996\n",
            "  (4801, 403)\t0.17727585190343226\n",
            "  (4801, 6935)\t0.2886098184932947\n",
            "  (4801, 11663)\t0.21557500762727902\n",
            "  (4801, 1672)\t0.1564793427630879\n",
            "  (4801, 10929)\t0.13504166990041588\n",
            "  (4801, 7474)\t0.11307961713172225\n",
            "  (4801, 3796)\t0.3342808988877418\n",
            "  (4802, 6996)\t0.5700048226105303\n",
            "  (4802, 5367)\t0.22969114490410403\n",
            "  (4802, 3654)\t0.262512960498006\n",
            "  (4802, 2425)\t0.24002350969074696\n",
            "  (4802, 4608)\t0.24002350969074696\n",
            "  (4802, 6417)\t0.21753405888348784\n",
            "  (4802, 4371)\t0.1538239182675544\n",
            "  (4802, 12989)\t0.1696476532191718\n",
            "  (4802, 1316)\t0.1960747079005741\n",
            "  (4802, 4528)\t0.19504460807622875\n",
            "  (4802, 3436)\t0.21753405888348784\n",
            "  (4802, 6155)\t0.18056463596934083\n",
            "  (4802, 4980)\t0.16078053641367315\n",
            "  (4802, 2129)\t0.3099656128577656\n",
            "  (4802, 4518)\t0.16784466610624255\n",
            "  (4802, 11161)\t0.17867407682173203\n"
          ]
        }
      ]
    },
    {
      "cell_type": "markdown",
      "source": [
        "Cosine Similarity"
      ],
      "metadata": {
        "id": "EjyU2YaZoXBH"
      }
    },
    {
      "cell_type": "code",
      "source": [
        "# getting the similarity scores using cosine similarity\n",
        "similarity=cosine_similarity(feature_vectors)"
      ],
      "metadata": {
        "id": "1qLrNijsoMBM"
      },
      "execution_count": null,
      "outputs": []
    },
    {
      "cell_type": "code",
      "source": [
        "print(similarity)"
      ],
      "metadata": {
        "colab": {
          "base_uri": "https://localhost:8080/"
        },
        "id": "6Uxk7R7io4br",
        "outputId": "c7a6fb4a-3777-42c3-a45b-54debf5cead8"
      },
      "execution_count": null,
      "outputs": [
        {
          "output_type": "stream",
          "name": "stdout",
          "text": [
            "[[1.         0.07219487 0.037733   ... 0.         0.         0.        ]\n",
            " [0.07219487 1.         0.03281499 ... 0.03575545 0.         0.        ]\n",
            " [0.037733   0.03281499 1.         ... 0.         0.05389661 0.        ]\n",
            " ...\n",
            " [0.         0.03575545 0.         ... 1.         0.         0.02651502]\n",
            " [0.         0.         0.05389661 ... 0.         1.         0.        ]\n",
            " [0.         0.         0.         ... 0.02651502 0.         1.        ]]\n"
          ]
        }
      ]
    },
    {
      "cell_type": "code",
      "source": [
        "similarity.shape"
      ],
      "metadata": {
        "colab": {
          "base_uri": "https://localhost:8080/"
        },
        "id": "Wm6kOLUdo8fE",
        "outputId": "eea59abe-86fd-4f8d-9427-27be1a78b1be"
      },
      "execution_count": null,
      "outputs": [
        {
          "output_type": "execute_result",
          "data": {
            "text/plain": [
              "(4803, 4803)"
            ]
          },
          "metadata": {},
          "execution_count": 16
        }
      ]
    },
    {
      "cell_type": "code",
      "source": [
        "# getting the movie name from the user\n",
        "movie_name=input(\"Enter your favourite movie name: \")"
      ],
      "metadata": {
        "colab": {
          "base_uri": "https://localhost:8080/"
        },
        "id": "eHu9cgXVo_-c",
        "outputId": "4ecf6168-b000-4347-85a7-3e69f8f73f6c"
      },
      "execution_count": null,
      "outputs": [
        {
          "name": "stdout",
          "output_type": "stream",
          "text": [
            "Enter your favourite movie name: islam\n"
          ]
        }
      ]
    },
    {
      "cell_type": "code",
      "source": [
        "# creating a list with all the movies names given in the data set\n",
        "list_of_all_titles=data['title'].tolist()\n",
        "print(list_of_all_titles)\n"
      ],
      "metadata": {
        "colab": {
          "base_uri": "https://localhost:8080/"
        },
        "id": "nmHcybc2pqgM",
        "outputId": "790ba9e8-2792-4419-dc08-6135e535d873"
      },
      "execution_count": null,
      "outputs": [
        {
          "output_type": "stream",
          "name": "stdout",
          "text": [
            "['Avatar', \"Pirates of the Caribbean: At World's End\", 'Spectre', 'The Dark Knight Rises', 'John Carter', 'Spider-Man 3', 'Tangled', 'Avengers: Age of Ultron', 'Harry Potter and the Half-Blood Prince', 'Batman v Superman: Dawn of Justice', 'Superman Returns', 'Quantum of Solace', \"Pirates of the Caribbean: Dead Man's Chest\", 'The Lone Ranger', 'Man of Steel', 'The Chronicles of Narnia: Prince Caspian', 'The Avengers', 'Pirates of the Caribbean: On Stranger Tides', 'Men in Black 3', 'The Hobbit: The Battle of the Five Armies', 'The Amazing Spider-Man', 'Robin Hood', 'The Hobbit: The Desolation of Smaug', 'The Golden Compass', 'King Kong', 'Titanic', 'Captain America: Civil War', 'Battleship', 'Jurassic World', 'Skyfall', 'Spider-Man 2', 'Iron Man 3', 'Alice in Wonderland', 'X-Men: The Last Stand', 'Monsters University', 'Transformers: Revenge of the Fallen', 'Transformers: Age of Extinction', 'Oz: The Great and Powerful', 'The Amazing Spider-Man 2', 'TRON: Legacy', 'Cars 2', 'Green Lantern', 'Toy Story 3', 'Terminator Salvation', 'Furious 7', 'World War Z', 'X-Men: Days of Future Past', 'Star Trek Into Darkness', 'Jack the Giant Slayer', 'The Great Gatsby', 'Prince of Persia: The Sands of Time', 'Pacific Rim', 'Transformers: Dark of the Moon', 'Indiana Jones and the Kingdom of the Crystal Skull', 'The Good Dinosaur', 'Brave', 'Star Trek Beyond', 'WALL·E', 'Rush Hour 3', '2012', 'A Christmas Carol', 'Jupiter Ascending', 'The Legend of Tarzan', 'The Chronicles of Narnia: The Lion, the Witch and the Wardrobe', 'X-Men: Apocalypse', 'The Dark Knight', 'Up', 'Monsters vs Aliens', 'Iron Man', 'Hugo', 'Wild Wild West', 'The Mummy: Tomb of the Dragon Emperor', 'Suicide Squad', 'Evan Almighty', 'Edge of Tomorrow', 'Waterworld', 'G.I. Joe: The Rise of Cobra', 'Inside Out', 'The Jungle Book', 'Iron Man 2', 'Snow White and the Huntsman', 'Maleficent', 'Dawn of the Planet of the Apes', 'The Lovers', '47 Ronin', 'Captain America: The Winter Soldier', 'Shrek Forever After', 'Tomorrowland', 'Big Hero 6', 'Wreck-It Ralph', 'The Polar Express', 'Independence Day: Resurgence', 'How to Train Your Dragon', 'Terminator 3: Rise of the Machines', 'Guardians of the Galaxy', 'Interstellar', 'Inception', 'Shin Godzilla', 'The Hobbit: An Unexpected Journey', 'The Fast and the Furious', 'The Curious Case of Benjamin Button', 'X-Men: First Class', 'The Hunger Games: Mockingjay - Part 2', \"The Sorcerer's Apprentice\", 'Poseidon', 'Alice Through the Looking Glass', 'Shrek the Third', 'Warcraft', 'Terminator Genisys', 'The Chronicles of Narnia: The Voyage of the Dawn Treader', 'Pearl Harbor', 'Transformers', 'Alexander', 'Harry Potter and the Order of the Phoenix', 'Harry Potter and the Goblet of Fire', 'Hancock', 'I Am Legend', 'Charlie and the Chocolate Factory', 'Ratatouille', 'Batman Begins', 'Madagascar: Escape 2 Africa', 'Night at the Museum: Battle of the Smithsonian', 'X-Men Origins: Wolverine', 'The Matrix Revolutions', 'Frozen', 'The Matrix Reloaded', 'Thor: The Dark World', 'Mad Max: Fury Road', 'Angels & Demons', 'Thor', 'Bolt', 'G-Force', 'Wrath of the Titans', 'Dark Shadows', 'Mission: Impossible - Rogue Nation', 'The Wolfman', 'Bee Movie', 'Kung Fu Panda 2', 'The Last Airbender', 'Mission: Impossible III', 'White House Down', 'Mars Needs Moms', 'Flushed Away', 'Pan', 'Mr. Peabody & Sherman', 'Troy', \"Madagascar 3: Europe's Most Wanted\", 'Die Another Day', 'Ghostbusters', 'Armageddon', 'Men in Black II', 'Beowulf', 'Kung Fu Panda 3', 'Mission: Impossible - Ghost Protocol', 'Rise of the Guardians', 'Fun with Dick and Jane', 'The Last Samurai', 'Exodus: Gods and Kings', 'Star Trek', 'Spider-Man', 'How to Train Your Dragon 2', 'Gods of Egypt', 'Stealth', 'Watchmen', 'Lethal Weapon 4', 'Hulk', 'G.I. Joe: Retaliation', 'Sahara', 'Final Fantasy: The Spirits Within', 'Captain America: The First Avenger', 'The World Is Not Enough', 'Master and Commander: The Far Side of the World', 'The Twilight Saga: Breaking Dawn - Part 2', 'Happy Feet Two', 'The Incredible Hulk', 'The BFG', 'The Revenant', 'Turbo', 'Rango', 'Penguins of Madagascar', 'The Bourne Ultimatum', 'Kung Fu Panda', 'Ant-Man', 'The Hunger Games: Catching Fire', 'Home', 'War of the Worlds', 'Bad Boys II', 'Puss in Boots', 'Salt', 'Noah', 'The Adventures of Tintin', 'Harry Potter and the Prisoner of Azkaban', 'Australia', 'After Earth', 'Dinosaur', 'Night at the Museum: Secret of the Tomb', 'Megamind', \"Harry Potter and the Philosopher's Stone\", 'R.I.P.D.', 'Pirates of the Caribbean: The Curse of the Black Pearl', 'The Hunger Games: Mockingjay - Part 1', 'The Da Vinci Code', 'Rio 2', 'X2', 'Fast Five', 'Sherlock Holmes: A Game of Shadows', 'Clash of the Titans', 'Total Recall', 'The 13th Warrior', 'The Bourne Legacy', 'Batman & Robin', 'How the Grinch Stole Christmas', 'The Day After Tomorrow', 'Mission: Impossible II', 'The Perfect Storm', 'Fantastic 4: Rise of the Silver Surfer', 'Life of Pi', 'Ghost Rider', 'Jason Bourne', \"Charlie's Angels: Full Throttle\", 'Prometheus', 'Stuart Little 2', 'Elysium', 'The Chronicles of Riddick', 'RoboCop', 'Speed Racer', 'How Do You Know', 'Knight and Day', 'Oblivion', 'Star Wars: Episode III - Revenge of the Sith', 'Star Wars: Episode II - Attack of the Clones', 'Monsters, Inc.', 'The Wolverine', 'Star Wars: Episode I - The Phantom Menace', 'The Croods', 'Asterix at the Olympic Games', 'Windtalkers', \"The Huntsman: Winter's War\", 'Teenage Mutant Ninja Turtles', 'Gravity', \"Dante's Peak\", 'Teenage Mutant Ninja Turtles: Out of the Shadows', 'Fantastic Four', 'Night at the Museum', 'San Andreas', 'Tomorrow Never Dies', 'The Patriot', \"Ocean's Twelve\", 'Mr. & Mrs. Smith', 'Insurgent', 'The Aviator', \"Gulliver's Travels\", 'The Green Hornet', '300: Rise of an Empire', 'The Smurfs', 'Home on the Range', 'Allegiant', 'Real Steel', 'The Smurfs 2', 'Speed 2: Cruise Control', \"Ender's Game\", 'Live Free or Die Hard', 'The Lord of the Rings: The Fellowship of the Ring', 'Around the World in 80 Days', 'Ali', 'The Cat in the Hat', 'I, Robot', 'Kingdom of Heaven', 'Stuart Little', 'The Princess and the Frog', 'The Martian', 'The Island', 'Town & Country', 'Gone in Sixty Seconds', 'Gladiator', 'Minority Report', 'Harry Potter and the Chamber of Secrets', 'Casino Royale', 'Planet of the Apes', 'Terminator 2: Judgment Day', 'Public Enemies', 'American Gangster', 'True Lies', 'The Taking of Pelham 1 2 3', 'Little Fockers', 'The Other Guys', 'Eraser', 'Django Unchained', 'The Hunchback of Notre Dame', \"The Emperor's New Groove\", 'The Expendables 2', 'National Treasure', 'Eragon', 'Where the Wild Things Are', 'Epic', 'The Tourist', 'End of Days', 'Blood Diamond', 'The Wolf of Wall Street', 'Batman Forever', 'Starship Troopers', 'Cloud Atlas', \"Legend of the Guardians: The Owls of Ga'Hoole\", 'Catwoman', 'Hercules', 'Treasure Planet', 'Land of the Lost', 'The Expendables 3', 'Point Break', 'Son of the Mask', 'In the Heart of the Sea', 'The Adventures of Pluto Nash', 'Green Zone', 'The Peanuts Movie', 'The Spanish Prisoner', 'The Mummy Returns', 'Gangs of New York', 'The Flowers of War', \"Surf's Up\", 'The Stepford Wives', 'Black Hawk Down', 'The Campaign', 'The Fifth Element', 'Sex and the City 2', 'The Road to El Dorado', 'Ice Age: Continental Drift', 'Cinderella', 'The Lovely Bones', 'Finding Nemo', 'The Lord of the Rings: The Return of the King', 'The Lord of the Rings: The Two Towers', 'Seventh Son', 'Lara Croft: Tomb Raider', 'Transcendence', 'Jurassic Park III', 'Rise of the Planet of the Apes', 'The Spiderwick Chronicles', 'A Good Day to Die Hard', 'The Alamo', 'The Incredibles', 'Cutthroat Island', 'Percy Jackson & the Olympians: The Lightning Thief', 'Men in Black', 'Toy Story 2', 'Unstoppable', 'Rush Hour 2', 'What Lies Beneath', 'Cloudy with a Chance of Meatballs', 'Ice Age: Dawn of the Dinosaurs', 'The Secret Life of Walter Mitty', \"Charlie's Angels\", 'The Departed', 'Mulan', 'Tropic Thunder', 'The Girl with the Dragon Tattoo', 'Die Hard: With a Vengeance', 'Sherlock Holmes', 'Ben-Hur', 'Atlantis: The Lost Empire', 'Alvin and the Chipmunks: The Road Chip', 'Valkyrie', \"You Don't Mess with the Zohan\", 'Pixels', 'A.I. Artificial Intelligence', 'The Haunted Mansion', 'Contact', 'Hollow Man', 'The Interpreter', 'Percy Jackson: Sea of Monsters', 'Lara Croft Tomb Raider: The Cradle of Life', 'Now You See Me 2', 'The Saint', 'Spy Game', 'Mission to Mars', 'Rio', 'Bicentennial Man', 'Volcano', \"The Devil's Own\", 'K-19: The Widowmaker', 'Conan the Barbarian', 'Cinderella Man', 'The Nutcracker: The Untold Story', 'Seabiscuit', 'Twister', 'Cast Away', 'Happy Feet', 'The Bourne Supremacy', 'Air Force One', \"Ocean's Eleven\", 'The Three Musketeers', 'Hotel Transylvania', 'Enchanted', 'Safe House', '102 Dalmatians', 'Tower Heist', 'The Holiday', 'Enemy of the State', \"It's Complicated\", \"Ocean's Thirteen\", 'Open Season', 'Divergent', 'Enemy at the Gates', 'The Rundown', 'Last Action Hero', 'Memoirs of a Geisha', 'The Fast and the Furious: Tokyo Drift', 'Arthur Christmas', 'Meet Joe Black', 'Collateral Damage', 'All That Jazz', 'Mirror Mirror', 'Scott Pilgrim vs. the World', 'The Core', 'Nutty Professor II: The Klumps', 'Scooby-Doo', 'Dredd', 'Click', 'Creepshow', 'Cats & Dogs 2 : The Revenge of Kitty Galore', 'Jumper', 'Hellboy II: The Golden Army', 'Zodiac', 'The 6th Day', 'Bruce Almighty', 'The Expendables', 'Mission: Impossible', 'The Hunger Games', 'The Hangover Part II', 'Batman Returns', 'Over the Hedge', 'Lilo & Stitch', \"Charlotte's Web\", 'Deep Impact', 'RED 2', 'The Longest Yard', 'Alvin and the Chipmunks: Chipwrecked', 'Grown Ups 2', 'Get Smart', \"Something's Gotta Give\", 'Shutter Island', 'Four Christmases', 'Robots', 'Face/Off', 'Bedtime Stories', 'Road to Perdition', 'Just Go with It', 'Con Air', 'Eagle Eye', 'Cold Mountain', 'The Book of Eli', 'Flubber', 'The Haunting', 'Space Jam', 'The Pink Panther', 'The Day the Earth Stood Still', 'Conspiracy Theory', 'Fury', 'Six Days Seven Nights', 'Yogi Bear', 'Spirit: Stallion of the Cimarron', 'Zookeeper', 'Lost in Space', 'The Manchurian Candidate', 'Déjà Vu', 'Hotel Transylvania 2', 'Fantasia 2000', 'The Time Machine', 'Mighty Joe Young', 'Swordfish', 'The Legend of Zorro', 'What Dreams May Come', 'Little Nicky', 'The Brothers Grimm', 'Mars Attacks!', 'Evolution', 'The Edge', 'Surrogates', 'Thirteen Days', 'Daylight', 'Walking With Dinosaurs', 'Battlefield Earth', 'Looney Tunes: Back in Action', 'Nine', 'Timeline', 'The Postman', 'Babe: Pig in the City', 'The Last Witch Hunter', 'Red Planet', 'Arthur and the Invisibles', 'Oceans', 'A Sound of Thunder', 'Pompeii', 'Top Cat Begins', 'A Beautiful Mind', 'The Lion King', 'Journey 2: The Mysterious Island', 'Cloudy with a Chance of Meatballs 2', 'Red Dragon', 'Hidalgo', 'Jack and Jill', '2 Fast 2 Furious', 'The Little Prince', 'The Invasion', 'The Adventures of Rocky & Bullwinkle', 'The Secret Life of Pets', 'The League of Extraordinary Gentlemen', 'Despicable Me 2', 'Independence Day', 'The Lost World: Jurassic Park', 'Madagascar', 'Children of Men', 'X-Men', 'Wanted', 'The Rock', 'Ice Age: The Meltdown', '50 First Dates', 'Hairspray', 'Exorcist: The Beginning', 'Inspector Gadget', 'Now You See Me', 'Grown Ups', 'The Terminal', 'Hotel for Dogs', 'Vertical Limit', \"Charlie Wilson's War\", 'Shark Tale', 'Dreamgirls', 'Be Cool', 'Munich', 'Tears of the Sun', 'Killers', 'The Man from U.N.C.L.E.', 'Spanglish', 'Monster House', 'Bandits', 'First Knight', 'Anna and the King', 'Immortals', 'Hostage', 'Titan A.E.', 'Hollywood Homicide', 'Soldier', 'Carriers', 'Monkeybone', 'Flight of the Phoenix', 'Unbreakable', 'Minions', 'Sucker Punch', 'Snake Eyes', 'Sphere', 'The Angry Birds Movie', \"Fool's Gold\", 'Funny People', 'The Kingdom', 'Talladega Nights: The Ballad of Ricky Bobby', 'Dr. Dolittle 2', 'Braveheart', 'Jarhead', 'The Simpsons Movie', 'The Majestic', 'Driven', 'Two Brothers', 'The Village', 'Doctor Dolittle', 'Signs', 'Shrek 2', 'Cars', 'Runaway Bride', 'xXx', 'The SpongeBob Movie: Sponge Out of Water', 'Ransom', 'Inglourious Basterds', 'Hook', 'Die Hard 2', 'S.W.A.T.', 'Vanilla Sky', 'Lady in the Water', 'AVP: Alien vs. Predator', 'Alvin and the Chipmunks: The Squeakquel', 'We Were Soldiers', 'Olympus Has Fallen', 'Star Trek: Insurrection', 'Battle: Los Angeles', 'Big Fish', 'Wolf', 'War Horse', 'The Monuments Men', 'The Abyss', 'Wall Street: Money Never Sleeps', 'Dracula Untold', 'The Siege', 'Stardust', 'Seven Years in Tibet', 'The Dilemma', 'Bad Company', 'Doom', 'I Spy', 'Underworld: Awakening', 'Rock of Ages', \"Hart's War\", 'Killer Elite', 'Rollerball', 'Ballistic: Ecks vs. Sever', 'Hard Rain', 'Osmosis Jones', \"Legends of Oz: Dorothy's Return\", 'Blackhat', 'Sky Captain and the World of Tomorrow', 'Basic Instinct 2', 'Escape Plan', 'The Legend of Hercules', 'The Sum of All Fears', 'The Twilight Saga: Eclipse', 'The Score', 'Despicable Me', 'Money Train', 'Ted 2', 'Agora', 'Mystery Men', 'Hall Pass', 'The Insider', 'The Finest Hours', 'Body of Lies', 'Dinner for Schmucks', 'Abraham Lincoln: Vampire Hunter', 'Entrapment', 'The X Files', 'The Last Legion', 'Saving Private Ryan', 'Need for Speed', 'What Women Want', 'Ice Age', 'Dreamcatcher', 'Lincoln', 'The Matrix', 'Apollo 13', 'The Santa Clause 2', 'Les Misérables', \"You've Got Mail\", 'Step Brothers', 'The Mask of Zorro', 'Due Date', 'Unbroken', 'Space Cowboys', 'Cliffhanger', 'Broken Arrow', 'The Kid', 'World Trade Center', 'Mona Lisa Smile', 'The Dictator', 'Eyes Wide Shut', 'Annie', 'Focus', 'This Means War', 'Blade: Trinity', 'Red Dawn', 'Primary Colors', 'Resident Evil: Retribution', 'Death Race', 'The Long Kiss Goodnight', 'Proof of Life', 'Zathura: A Space Adventure', 'Fight Club', 'We Are Marshall', 'Hudson Hawk', 'Lucky Numbers', 'I, Frankenstein', 'Oliver Twist', 'Elektra', 'Sin City: A Dame to Kill For', 'Random Hearts', 'Everest', 'Perfume: The Story of a Murderer', 'Austin Powers in Goldmember', 'Astro Boy', 'Jurassic Park', 'Wyatt Earp', 'Clear and Present Danger', 'Dragon Blade', 'Little Man', 'U-571', 'The American President', 'The Love Guru', '3000 Miles to Graceland', 'The Hateful Eight', 'Blades of Glory', 'Hop', '300', 'Meet the Fockers', 'Marley & Me', 'The Green Mile', 'Wild Hogs', 'Chicken Little', 'Gone Girl', 'The Bourne Identity', 'GoldenEye', \"The General's Daughter\", 'The Truman Show', 'The Prince of Egypt', 'Daddy Day Care', '2 Guns', 'Cats & Dogs', 'The Italian Job', 'Two Weeks Notice', 'Antz', 'Couples Retreat', 'Days of Thunder', 'Cheaper by the Dozen 2', 'Maze Runner: The Scorch Trials', 'Eat Pray Love', 'The Family Man', 'RED', 'Any Given Sunday', 'The Horse Whisperer', 'Collateral', 'The Scorpion King', 'Ladder 49', 'Jack Reacher', 'Deep Blue Sea', 'This Is It', 'Contagion', 'Kangaroo Jack', 'Coraline', 'The Happening', 'Man on Fire', 'The Shaggy Dog', 'Starsky & Hutch', 'Jingle All the Way', 'Hellboy', 'A Civil Action', 'ParaNorman', 'The Jackal', 'Paycheck', 'Up Close & Personal', 'The Tale of Despereaux', 'The Tuxedo', 'Under Siege 2: Dark Territory', 'Jack Ryan: Shadow Recruit', 'Joy', 'London Has Fallen', 'Alien: Resurrection', 'Shooter', 'The Boxtrolls', 'Practical Magic', 'The Lego Movie', 'Miss Congeniality 2: Armed and Fabulous', 'Reign of Fire', 'Gangster Squad', 'Year One', 'Invictus', 'State of Play', 'Duplicity', 'My Favorite Martian', 'The Sentinel', 'Planet 51', 'Star Trek: Nemesis', 'Intolerable Cruelty', 'Trouble with the Curve', 'Edge of Darkness', 'The Relic', 'Analyze That', 'Righteous Kill', 'Mercury Rising', 'The Soloist', 'The Legend of Bagger Vance', 'Almost Famous', 'Garfield: A Tail of Two Kitties', 'xXx: State of the Union', 'Priest', 'Sinbad: Legend of the Seven Seas', 'Event Horizon', 'Dragonfly', 'The Black Dahlia', 'Flyboys', 'The Last Castle', 'Supernova', \"Winter's Tale\", 'The Mortal Instruments: City of Bones', 'Meet Dave', 'Dark Water', 'Edtv', 'Inkheart', 'The Spirit', 'Mortdecai', 'In the Name of the King: A Dungeon Siege Tale', 'Beyond Borders', 'The Monkey King 2', 'The Great Raid', 'Deadpool', 'Holy Man', 'American Sniper', 'Goosebumps', 'Just Like Heaven', 'The Flintstones in Viva Rock Vegas', 'Rambo III', 'Leatherheads', 'The Ridiculous 6', 'Did You Hear About the Morgans?', 'The Internship', 'Resident Evil: Afterlife', 'Red Tails', \"The Devil's Advocate\", \"That's My Boy\", 'DragonHeart', 'After the Sunset', 'Ghost Rider: Spirit of Vengeance', \"Captain Corelli's Mandolin\", 'The Pacifier', 'Walking Tall', 'Forrest Gump', 'Alvin and the Chipmunks', 'Meet the Parents', 'Pocahontas', 'Superman', 'The Nutty Professor', 'Hitch', 'George of the Jungle', 'American Wedding', 'Captain Phillips', 'Date Night', 'Casper', 'The Equalizer', 'Maid in Manhattan', 'Crimson Tide', 'The Pursuit of Happyness', 'Flightplan', 'Disclosure', 'City of Angels', 'Kill Bill: Vol. 1', 'Bowfinger', 'Kill Bill: Vol. 2', 'Tango & Cash', 'Death Becomes Her', 'Shanghai Noon', 'Executive Decision', \"Mr. Popper's Penguins\", 'The Forbidden Kingdom', 'Free Birds', 'Alien³', 'Evita', 'Ronin', 'The Ghost and the Darkness', 'Paddington', 'The Watch', 'The Hunted', 'Instinct', 'Stuck on You', 'Semi-Pro', 'The Pirates! In an Adventure with Scientists!', 'Changeling', 'Chain Reaction', 'The Fan', 'The Phantom of the Opera', 'Elizabeth: The Golden Age', 'Æon Flux', 'Gods and Generals', 'Turbulence', 'Imagine That', 'Muppets Most Wanted', 'Thunderbirds', 'Burlesque', 'A Very Long Engagement', 'Lolita', 'D-Tox', 'Blade II', 'Seven Pounds', 'Bullet to the Head', 'The Godfather: Part III', 'Elizabethtown', 'You, Me and Dupree', 'Superman II', 'Gigli', \"All the King's Men\", 'Shaft', 'Anastasia', 'Moulin Rouge!', 'Domestic Disturbance', 'Black Mass', 'Flags of Our Fathers', 'Law Abiding Citizen', 'Grindhouse', 'Beloved', 'Lucky You', 'Catch Me If You Can', 'Zero Dark Thirty', 'The Break-Up', 'Mamma Mia!', \"Valentine's Day\", 'The Dukes of Hazzard', 'The Thin Red Line', 'The Change-Up', 'Man on the Moon', 'Casino', 'From Paris with Love', 'Bulletproof Monk', 'Me, Myself & Irene', 'Barnyard', 'Deck the Halls', 'The Twilight Saga: New Moon', 'Shrek', 'The Adjustment Bureau', 'Robin Hood: Prince of Thieves', 'Jerry Maguire', 'Ted', 'As Good as It Gets', 'Patch Adams', 'Anchorman 2: The Legend Continues', 'Mr. Deeds', 'Super 8', 'Erin Brockovich', 'How to Lose a Guy in 10 Days', '22 Jump Street', 'Interview with the Vampire', 'Yes Man', 'Central Intelligence', 'Stepmom', \"Daddy's Home\", 'Into the Woods', 'Inside Man', 'Payback', 'Congo', 'We Bought a Zoo', 'Knowing', 'Failure to Launch', 'The Ring Two', 'Crazy, Stupid, Love.', 'Garfield', 'Christmas with the Kranks', 'Moneyball', 'Outbreak', 'Non-Stop', 'Race to Witch Mountain', 'V for Vendetta', 'Shanghai Knights', 'Curious George', 'Herbie Fully Loaded', \"Don't Say a Word\", 'Hansel & Gretel: Witch Hunters', 'Unfaithful', 'I Am Number Four', 'Syriana', '13 Hours: The Secret Soldiers of Benghazi', 'The Book of Life', 'Firewall', 'Absolute Power', 'G.I. Jane', 'The Game', 'Silent Hill', 'The Replacements', 'American Reunion', 'The Negotiator', 'Into the Storm', 'Beverly Hills Cop III', 'Gremlins 2: The New Batch', 'The Judge', 'The Peacemaker', 'Resident Evil: Apocalypse', 'Bridget Jones: The Edge of Reason', 'Out of Time', 'On Deadly Ground', 'The Adventures of Sharkboy and Lavagirl', 'The Beach', 'Raising Helen', 'Ninja Assassin', 'For Love of the Game', 'Striptease', 'Marmaduke', 'Hereafter', 'Murder by Numbers', 'Assassins', 'Hannibal Rising', 'The Story of Us', 'The Host', 'Basic', 'Blood Work', 'The International', 'Escape from L.A.', 'The Iron Giant', 'The Life Aquatic with Steve Zissou', 'Free State of Jones', 'The Life of David Gale', 'Man of the House', 'Run All Night', 'Eastern Promises', 'Into the Blue', 'The Messenger: The Story of Joan of Arc', 'Your Highness', 'Dream House', 'Mad City', \"Baby's Day Out\", 'The Scarlet Letter', 'Fair Game', 'Domino', 'Jade', 'Gamer', 'Beautiful Creatures', 'Death to Smoochy', 'Zoolander 2', 'The Big Bounce', 'What Planet Are You From?', 'Drive Angry', 'Street Fighter: The Legend of Chun-Li', 'The One', 'The Adventures of Ford Fairlane', 'The Boat That Rocked', 'Traffic', 'Indiana Jones and the Last Crusade', 'Anna Karenina', 'Chappie', 'The Bone Collector', 'Panic Room', 'The Tooth Fairy', 'Three Kings', 'Child 44', 'Rat Race', 'K-PAX', 'Kate & Leopold', 'Bedazzled', 'The Cotton Club', '3:10 to Yuma', 'Taken 3', 'Out of Sight', 'The Cable Guy', 'Earth', 'Dick Tracy', 'The Thomas Crown Affair', 'Riding in Cars with Boys', 'First Blood', 'Solaris', \"Happily N'Ever After\", 'Mary Reilly', \"My Best Friend's Wedding\", \"America's Sweethearts\", 'Insomnia', 'Star Trek: First Contact', 'Jonah Hex', 'Courage Under Fire', 'Liar Liar', 'The Infiltrator', 'Inchon', 'The Flintstones', 'Taken 2', 'Scary Movie 3', 'Miss Congeniality', 'Journey to the Center of the Earth', 'The Princess Diaries 2: Royal Engagement', 'The Pelican Brief', 'The Client', 'The Bucket List', 'Patriot Games', 'Monster-in-Law', 'Prisoners', 'Training Day', 'Galaxy Quest', 'Scary Movie 2', 'The Muppets', 'Blade', 'Coach Carter', 'Changing Lanes', 'Anaconda', 'Coyote Ugly', 'Love Actually', \"A Bug's Life\", 'From Hell', 'The Specialist', 'Tin Cup', 'Yours, Mine and Ours', 'Kicking & Screaming', \"The Hitchhiker's Guide to the Galaxy\", 'Fat Albert', 'Resident Evil: Extinction', 'Blended', 'Last Holiday', 'The River Wild', 'The Indian in the Cupboard', 'Savages', 'Cellular', 'Johnny English', 'The Ant Bully', 'Dune', 'Across the Universe', 'Revolutionary Road', '16 Blocks', 'Babylon A.D.', 'The Glimmer Man', 'Multiplicity', 'Aliens in the Attic', 'The Pledge', 'The Producers', 'The Phantom', 'All the Pretty Horses', 'Nixon', 'The Ghost Writer', 'Deep Rising', 'Miracle at St. Anna', 'Curse of the Golden Flower', 'Bangkok Dangerous', 'Big Trouble', 'Love in the Time of Cholera', 'Shadow Conspiracy', 'Johnny English Reborn', 'Foodfight!', 'Argo', 'The Fugitive', 'The Bounty Hunter', 'Sleepers', 'Rambo: First Blood Part II', 'The Juror', 'Pinocchio', \"Heaven's Gate\", 'Underworld: Evolution', 'Victor Frankenstein', 'Finding Forrester', '28 Days', 'Unleashed', 'The Sweetest Thing', 'The Firm', 'Charlie St. Cloud', 'The Mechanic', '21 Jump Street', 'Notting Hill', 'Chicken Run', 'Along Came Polly', 'Boomerang', 'The Heat', 'Cleopatra', 'Here Comes the Boom', 'High Crimes', 'The Mirror Has Two Faces', 'The Mothman Prophecies', 'Brüno', 'Licence to Kill', 'Red Riding Hood', '15 Minutes', 'Super Mario Bros.', 'Lord of War', 'Hero', 'One for the Money', 'The Interview', \"The Warrior's Way\", 'Micmacs', '8 Mile', 'Why I Did (Not) Eat My Father', \"A Knight's Tale\", 'The Medallion', 'The Sixth Sense', 'Man on a Ledge', 'The Big Year', 'The Karate Kid', 'American Hustle', 'The Proposal', 'Double Jeopardy', 'Back to the Future Part II', 'Lucy', 'Fifty Shades of Grey', 'Spy Kids 3-D: Game Over', 'A Time to Kill', 'Cheaper by the Dozen', 'Lone Survivor', 'A League of Their Own', 'The Conjuring 2', 'The Social Network', \"He's Just Not That Into You\", 'Scary Movie 4', 'Scream 3', 'Back to the Future Part III', 'Get Hard', 'Dracula', 'Julie & Julia', '42', 'The Talented Mr. Ripley', 'Dumb and Dumber To', 'Eight Below', 'The Intern', 'Ride Along 2', 'The Last of the Mohicans', 'Ray', 'Sin City', 'Vantage Point', 'I Love You, Man', 'Shallow Hal', 'JFK', \"Big Momma's House 2\", 'The Mexican', '17 Again', 'The Other Woman', 'The Final Destination', 'Bridge of Spies', 'Behind Enemy Lines', 'Get Him to the Greek', 'Shall We Dance?', 'Small Soldiers', 'Spawn', 'The Count of Monte Cristo', 'The Lincoln Lawyer', 'Unknown', 'The Prestige', 'Horrible Bosses 2', 'Escape from Planet Earth', 'Apocalypto', 'The Living Daylights', 'Predators', 'Legal Eagles', 'Secret Window', 'The Lake House', 'The Skeleton Key', 'The Odd Life of Timothy Green', 'Made of Honor', 'Jersey Boys', 'The Rainmaker', 'Gothika', 'Amistad', 'Medicine Man', 'Aliens vs Predator: Requiem', 'Ri¢hie Ri¢h', 'Autumn in New York', 'Music and Lyrics', 'Paul', 'The Guilt Trip', 'Scream 4', '8MM', 'The Doors', 'Sex Tape', 'Hanging Up', 'Final Destination 5', 'Mickey Blue Eyes', 'Pay It Forward', 'Fever Pitch', 'Drillbit Taylor', 'A Million Ways to Die in the West', 'The Shadow', 'Extremely Loud & Incredibly Close', 'Morning Glory', \"Get Rich or Die Tryin'\", 'The Art of War', 'Rent', 'Bless the Child', 'The Out-of-Towners', 'The Island of Dr. Moreau', 'The Musketeer', 'The Other Boleyn Girl', 'Sweet November', 'The Reaping', 'Mean Streets', 'Renaissance Man', 'Colombiana', 'Quest for Camelot', 'City By The Sea', 'At First Sight', 'Torque', 'City Hall', 'Showgirls', 'Marie Antoinette', 'Kiss of Death', 'Get Carter', 'The Impossible', 'Ishtar', 'Fantastic Mr. Fox', 'Life or Something Like It', 'Memoirs of an Invisible Man', 'Amélie', 'New York Minute', 'Alfie', 'Big Miracle', 'The Deep End of the Ocean', 'FearDotCom', \"Cirque du Freak: The Vampire's Assistant\", 'Duplex', 'Soul Men', 'Raise the Titanic', 'Universal Soldier: The Return', 'Pandorum', 'Impostor', 'Extreme Ops', 'Just Visiting', 'Sunshine', 'A Thousand Words', 'Delgo', 'The Gunman', 'Stormbreaker', 'Disturbia', 'Hackers', 'The Hunting Party', 'The Hudsucker Proxy', 'The Warlords', 'Nomad: The Warrior', 'Snowpiercer', 'A Monster in Paris', 'The Last Shot', 'The Crow', 'Baahubali: The Beginning', \"The Time Traveler's Wife\", 'Because I Said So', 'Frankenweenie', 'Serenity', 'Against the Ropes', 'Superman III', 'Grudge Match', 'Red Cliff', 'Sweet Home Alabama', 'The Ugly Truth', 'Sgt. Bilko', 'Spy Kids 2: The Island of Lost Dreams', 'Star Trek: Generations', 'The Grandmaster', 'Water for Elephants', \"Dragon Nest: Warriors' Dawn\", 'The Hurricane', 'Enough', 'Heartbreakers', 'Paul Blart: Mall Cop 2', 'Angel Eyes', 'Joe Somebody', 'The Ninth Gate', 'Extreme Measures', 'Rock Star', 'Precious', 'White Squall', 'The Thing', 'Riddick', 'Switchback', 'Texas Rangers', 'City of Ember', 'The Master', 'Virgin Territory', 'The Express', 'The 5th Wave', 'Creed', 'The Town', \"What to Expect When You're Expecting\", 'Burn After Reading', \"Nim's Island\", 'Rush', 'Magnolia', 'Cop Out', 'How to Be Single', 'Dolphin Tale', 'Twilight', 'John Q', 'Blue Streak', \"We're the Millers\", 'The Inhabited Island', 'Breakdown', 'Never Say Never Again', 'Hot Tub Time Machine', 'Dolphin Tale 2', 'Reindeer Games', 'A Man Apart', 'Aloha', 'Ghosts of Mississippi', 'Snow Falling on Cedars', 'The Rite', 'Gattaca', \"Isn't She Great\", 'Space Chimps', 'Head of State', 'The Hangover', 'Ip Man 3', 'Austin Powers: The Spy Who Shagged Me', 'Batman', 'There Be Dragons', 'Lethal Weapon 3', 'The Blind Side', 'Spy Kids', 'Horrible Bosses', 'True Grit', 'The Devil Wears Prada', 'Star Trek: The Motion Picture', 'Identity Thief', 'Cape Fear', '21', 'Trainwreck', 'Guess Who', 'The English Patient', 'L.A. Confidential', 'Sky High', 'In & Out', 'Species', 'A Nightmare on Elm Street', 'The Cell', 'The Man in the Iron Mask', 'Secretariat', 'TMNT', 'Radio', 'Friends with Benefits', 'Neighbors 2: Sorority Rising', 'Saving Mr. Banks', 'Malcolm X', 'This Is 40', 'Old Dogs', 'Underworld: Rise of the Lycans', 'License to Wed', 'The Benchwarmers', 'Must Love Dogs', 'Donnie Brasco', 'Resident Evil', 'Poltergeist', 'The Ladykillers', 'Max Payne', 'In Time', 'The Back-Up Plan', 'Something Borrowed', 'Black Knight', 'The Bad News Bears', 'Street Fighter', 'The Pianist', 'The Nativity Story', 'House of Wax', 'Closer', 'J. Edgar', 'Mirrors', 'Queen of the Damned', 'Predator 2', 'Untraceable', 'Blast from the Past', 'Flash Gordon', 'Jersey Girl', 'Alex Cross', 'Midnight in the Garden of Good and Evil', 'Heist', 'Nanny McPhee and the Big Bang', 'Hoffa', 'The X Files: I Want to Believe', 'Ella Enchanted', 'Concussion', 'Abduction', 'Valiant', 'Wonder Boys', 'Superhero Movie', 'Broken City', 'Cursed', 'Premium Rush', 'Hot Pursuit', 'The Four Feathers', 'Parker', 'Wimbledon', 'Furry Vengeance', 'Bait', 'Krull', 'Lions for Lambs', 'Flight of the Intruder', 'Walk Hard: The Dewey Cox Story', 'The Shipping News', 'American Outlaws', 'The Young Victoria', 'Whiteout', 'The Tree of Life', 'Knock Off', 'Sabotage', 'The Order', 'Punisher: War Zone', 'Zoom', 'The Walk', 'Warriors of Virtue', 'A Good Year', 'Radio Flyer', 'Bound by Honor', \"Smilla's Sense of Snow\", 'Femme Fatale', 'Lion of the Desert', 'The Horseman on the Roof', 'Ride with the Devil', 'Biutiful', 'Bandidas', 'Black Water Transit', 'The Maze Runner', 'Unfinished Business', 'The Age of Innocence', 'The Fountain', 'Chill Factor', 'Stolen', 'Ponyo', 'The Longest Ride', \"The Astronaut's Wife\", 'I Dreamed of Africa', 'Playing for Keeps', 'Mandela: Long Walk to Freedom', 'Reds', 'A Few Good Men', 'Exit Wounds', \"Big Momma's House\", 'Thunder and the House of Magic', 'The Darkest Hour', 'Step Up Revolution', 'Snakes on a Plane', 'The Watcher', 'The Punisher', 'Goal!: The Dream Begins', 'Safe', 'Pushing Tin', 'Return of the Jedi', 'Doomsday', 'The Reader', 'Wanderlust', 'Elf', 'Phenomenon', 'Snow Dogs', 'Scrooged', 'Nacho Libre', 'Bridesmaids', 'This Is the End', 'Stigmata', 'Men of Honor', 'Takers', 'The Big Wedding', 'Big Mommas: Like Father, Like Son', 'Source Code', 'Alive', 'The Number 23', 'The Young and Prodigious T.S. Spivet', '1941', 'Dreamer: Inspired By a True Story', 'A History of Violence', 'Transporter 2', 'The Quick and the Dead', 'Laws of Attraction', 'Bringing Out the Dead', 'Repo Men', 'Dragon Wars: D-War', 'Bogus', 'The Incredible Burt Wonderstone', \"Cats Don't Dance\", 'Cradle Will Rock', 'The Good German', 'George and the Dragon', 'Apocalypse Now', 'Going the Distance', \"Mr. Holland's Opus\", 'Criminal', 'Out of Africa', 'Flight', 'Moonraker', 'The Grand Budapest Hotel', 'Hearts in Atlantis', 'Arachnophobia', 'Frequency', 'Vacation', 'Get Shorty', 'Chicago', 'Big Daddy', 'American Pie 2', 'Toy Story', 'Speed', 'The Vow', 'Extraordinary Measures', 'Remember the Titans', 'The Hunt for Red October', 'The Butler', 'DodgeBall: A True Underdog Story', 'The Addams Family', 'Ace Ventura: When Nature Calls', 'The Princess Diaries', 'The First Wives Club', 'Se7en', 'District 9', 'The SpongeBob SquarePants Movie', 'Mystic River', 'Million Dollar Baby', 'Analyze This', 'The Notebook', '27 Dresses', 'Hannah Montana: The Movie', 'Rugrats in Paris: The Movie', 'The Prince of Tides', 'Legends of the Fall', 'Up in the Air', 'About Schmidt', 'Warm Bodies', 'Looper', 'Down to Earth', 'Babe', 'Hope Springs', 'Forgetting Sarah Marshall', 'Four Brothers', 'Baby Mama', 'Hope Floats', 'Bride Wars', 'Without a Paddle', '13 Going on 30', 'Midnight in Paris', 'The Nut Job', 'Blow', 'Message in a Bottle', 'Star Trek V: The Final Frontier', 'Like Mike', 'The Naked Gun 33⅓: The Final Insult', 'A View to a Kill', 'The Curse of the Were-Rabbit', 'P.S. I Love You', 'Racing Stripes', 'Atonement', 'Letters to Juliet', 'Black Rain', 'The Three Stooges', 'Corpse Bride', 'Glory Road', 'Sicario', 'Southpaw', 'Drag Me to Hell', 'The Age of Adaline', 'Secondhand Lions', 'Step Up 3D', 'Blue Crush', 'Stranger Than Fiction', '30 Days of Night', 'The Cabin in the Woods', 'Meet the Spartans', 'Midnight Run', 'The Running Man', 'Little Shop of Horrors', 'Hanna', 'Mortal Kombat: Annihilation', 'Larry Crowne', 'Carrie', 'Take the Lead', 'Gridiron Gang', \"What's the Worst That Could Happen?\", '9', 'Side Effects', 'The Prince & Me', 'Winnie the Pooh', 'Dumb and Dumberer: When Harry Met Lloyd', 'Bulworth', 'Get on Up', 'One True Thing', 'Virtuosity', 'My Super Ex-Girlfriend', 'Deliver Us from Evil', 'Sanctum', 'Little Black Book', 'The Five-Year Engagement', 'Mr. 3000', 'The Next Three Days', 'Ultraviolet', 'Assault on Precinct 13', 'The Replacement Killers', 'Fled', 'Eight Legged Freaks', 'Love & Other Drugs', '88 Minutes', 'North Country', 'The Whole Ten Yards', 'Splice', 'Howard the Duck', 'Pride and Glory', 'The Cave', 'Alex & Emma', 'Wicker Park', 'Fright Night', 'The New World', 'Wing Commander', 'In Dreams', 'Dragonball Evolution', 'The Last Stand', 'Godsend', 'Chasing Liberty', 'Hoodwinked Too! Hood VS. Evil', 'An Unfinished Life', 'The Imaginarium of Doctor Parnassus', \"Barney's Version\", 'Runner Runner', 'Antitrust', 'Glory', 'Once Upon a Time in America', 'Dead Man Down', 'The Merchant of Venice', 'The Good Thief', 'Supercross', 'Miss Potter', 'The Promise', 'DOA: Dead or Alive', 'The Assassination of Jesse James by the Coward Robert Ford', '1911', 'Little Nicholas', 'Wild Card', 'Machine Gun Preacher', 'Animals United', 'Goodbye Bafana', 'United Passions', 'Grace of Monaco', 'Savva. Heart of the Warrior', \"Ripley's Game\", 'Sausage Party', 'Pitch Perfect 2', 'Walk the Line', 'Keeping the Faith', 'The Borrowers', 'Frost/Nixon', 'Confessions of a Dangerous Mind', 'Serving Sara', 'The Boss', 'Cry Freedom', 'Mumford', 'Seed of Chucky', 'The Jacket', 'Aladdin', 'Straight Outta Compton', 'Indiana Jones and the Temple of Doom', 'The Rugrats Movie', 'Along Came a Spider', 'Florence Foster Jenkins', 'Once Upon a Time in Mexico', 'Die Hard', 'Role Models', 'The Big Short', 'Taking Woodstock', 'Miracle', 'Dawn of the Dead', 'The Wedding Planner', 'Space Pirate Captain Harlock', 'The Royal Tenenbaums', 'Identity', 'Last Vegas', 'For Your Eyes Only', 'Serendipity', 'Timecop', 'Zoolander', 'Safe Haven', 'Hocus Pocus', 'No Reservations', 'Kick-Ass', '30 Minutes or Less', 'Dracula 2000', 'Alexander and the Terrible, Horrible, No Good, Very Bad Day', 'Pride & Prejudice', 'Blade Runner', 'Rob Roy', '3 Days to Kill', 'We Own the Night', 'Lost Souls', 'Winged Migration', 'Just My Luck', 'Mystery, Alaska', 'The Spy Next Door', 'A Simple Wish', 'Ghosts of Mars', 'Our Brand Is Crisis', 'Pride and Prejudice and Zombies', 'Kundun', 'How to Lose Friends & Alienate People', 'Kick-Ass 2', 'Alatriste', 'Brick Mansions', 'Octopussy', 'Knocked Up', \"My Sister's Keeper\", 'Welcome Home Roscoe Jenkins', 'A Passage to India', 'Notes on a Scandal', 'Rendition', 'Star Trek VI: The Undiscovered Country', 'Divine Secrets of the Ya-Ya Sisterhood', 'Kiss the Girls', 'The Blues Brothers', 'The Sisterhood of the Traveling Pants 2', 'Joyful Noise', 'About a Boy', 'Lake Placid', 'Lucky Number Slevin', 'The Right Stuff', 'Anonymous', 'The NeverEnding Story', 'Dark City', 'The Duchess', 'Return to Oz', 'The Newton Boys', 'Case 39', 'Suspect Zero', 'Martian Child', 'Spy Kids: All the Time in the World', 'Money Monster', 'The 51st State', 'Flawless', 'Mindhunters', 'What Just Happened', 'The Statement', 'The Magic Flute', 'Paul Blart: Mall Cop', 'Freaky Friday', 'The 40 Year Old Virgin', 'Shakespeare in Love', 'A Walk Among the Tombstones', 'Kindergarten Cop', 'Pineapple Express', 'Ever After: A Cinderella Story', 'Open Range', 'Flatliners', 'A Bridge Too Far', 'Red Eye', 'Final Destination 2', 'O Brother, Where Art Thou?', 'Legion', 'Pain & Gain', 'In Good Company', 'Clockstoppers', 'Silverado', 'Brothers', 'Agent Cody Banks 2: Destination London', \"New Year's Eve\", 'Original Sin', 'The Raven', 'Welcome to Mooseport', 'Highlander: The Final Dimension', 'Blood and Wine', 'Snow White: A Tale of Terror', 'The Curse of the Jade Scorpion', 'Accidental Love', 'Flipper', 'Self/less', 'The Constant Gardener', 'The Passion of the Christ', 'Mrs. Doubtfire', 'Rain Man', 'Gran Torino', 'W.', 'Taken', 'The Best of Me', 'The Bodyguard', \"Schindler's List\", 'The Help', 'The Fifth Estate', 'Scooby-Doo 2: Monsters Unleashed', 'Forbidden Kingdom', 'Freddy vs. Jason', 'The Face of an Angel', 'Jimmy Neutron: Boy Genius', 'Cloverfield', 'Teenage Mutant Ninja Turtles II: The Secret of the Ooze', 'The Untouchables', 'No Country for Old Men', 'Ride Along', \"Bridget Jones's Diary\", 'Chocolat', 'Legally Blonde 2: Red, White & Blonde', 'Parental Guidance', 'No Strings Attached', 'Tombstone', 'Romeo Must Die', 'The Omen', 'Final Destination 3', 'The Lucky One', 'Bridge to Terabithia', 'Finding Neverland', 'A Madea Christmas', 'The Grey', 'Hide and Seek', 'Anchorman: The Legend of Ron Burgundy', 'GoodFellas', 'Agent Cody Banks', 'Nanny McPhee', 'Scarface', 'Nothing to Lose', 'The Last Emperor', 'Contraband', 'Money Talks', 'There Will Be Blood', 'The Wild Thornberrys Movie', 'Rugrats Go Wild', 'Undercover Brother', 'The Sisterhood of the Traveling Pants', 'Kiss of the Dragon', 'The House Bunny', 'Beauty Shop', 'Million Dollar Arm', 'The Giver', 'What a Girl Wants', 'Jeepers Creepers 2', 'Good Luck Chuck', 'Cradle 2 the Grave', 'The Hours', \"She's the Man\", \"Mr. Bean's Holiday\", 'Anacondas: The Hunt for the Blood Orchid', 'Blood Ties', 'August Rush', 'Elizabeth', 'Bride of Chucky', 'Tora! Tora! Tora!', 'Spice World', 'The Sitter', 'Dance Flick', 'The Shawshank Redemption', 'Crocodile Dundee in Los Angeles', 'Kingpin', 'The Gambler', 'August: Osage County', 'Ice Princess', 'A Lot Like Love', 'Eddie the Eagle', 'He Got Game', 'Don Juan DeMarco', 'Dear John', 'The Losers', \"Don't Be Afraid of the Dark\", 'War', 'Punch-Drunk Love', 'EuroTrip', 'Half Past Dead', 'Unaccompanied Minors', 'Bright Lights, Big City', 'The Adventures of Pinocchio', 'The Greatest Game Ever Played', 'The Box', 'The Ruins', 'The Next Best Thing', 'My Soul to Take', 'The Girl Next Door', 'Maximum Risk', 'Stealing Harvard', 'Legend', 'Hot Rod', 'Shark Night', \"Angela's Ashes\", 'Draft Day', 'Lifeforce', 'The Conspirator', 'Lords of Dogtown', 'The 33', 'Big Trouble in Little China', 'Fly Me to the Moon', 'Warrior', 'Michael Collins', 'Gettysburg', 'Stop-Loss', 'Abandon', 'Brokedown Palace', 'The Possession', 'Mrs. Winterbourne', 'Straw Dogs', 'The Hoax', 'Stone Cold', 'The Road', 'Sheena', 'Underclassman', \"Say It Isn't So\", \"The World's Fastest Indian\", 'Tank Girl', \"King's Ransom\", 'Blindness', 'BloodRayne', 'Carnage', 'Where the Truth Lies', 'Cirque du Soleil: Worlds Away', 'Without Limits', 'Me and Orson Welles', 'The Best Offer', 'The Bad Lieutenant: Port of Call - New Orleans', \"A Turtle's Tale: Sammy's Adventures\", 'Little White Lies', 'Love Ranch', \"The True Story of Puss 'n Boots\", 'Space Dogs', 'The Counselor', 'Ironclad', 'Waterloo', 'Kung Fu Jungle', 'Red Sky', 'Dangerous Liaisons', 'On the Road', 'Star Trek IV: The Voyage Home', 'Rocky Balboa', 'Scream 2', 'Jane Got a Gun', 'Think Like a Man Too', 'The Whole Nine Yards', 'Footloose', 'Old School', 'The Fisher King', 'I Still Know What You Did Last Summer', 'Return to Me', 'Zack and Miri Make a Porno', 'Nurse Betty', 'The Men Who Stare at Goats', 'Double Take', 'Girl, Interrupted', 'Win a Date with Tad Hamilton!', 'Muppets from Space', 'The Wiz', 'Ready to Rumble', 'Play It to the Bone', \"I Don't Know How She Does It\", 'Piranha 3D', 'Beyond the Sea', 'Meet the Deedles', 'The Thief and the Cobbler', 'The Bridge of San Luis Rey', 'Faster', \"Howl's Moving Castle\", 'Zombieland', 'The Waterboy', 'The Empire Strikes Back', 'Bad Boys', 'The Naked Gun 2½: The Smell of Fear', 'Final Destination', 'The Ides of March', 'Pitch Black', 'Someone Like You...', 'Her', 'Joy Ride', 'The Adventurer: The Curse of the Midas Box', 'Anywhere But Here', 'The Crew', 'Haywire', 'Jaws: The Revenge', \"Marvin's Room\", 'The Longshots', 'The End of the Affair', 'Harley Davidson and the Marlboro Man', 'In the Valley of Elah', 'Coco Before Chanel', 'Forsaken', 'Cheri', 'Vanity Fair', 'Bodyguards and Assassins', '1408', 'Spaceballs', 'The Water Diviner', 'Ghost', \"There's Something About Mary\", 'The Santa Clause', 'The Rookie', 'The Game Plan', 'The Bridges of Madison County', 'The Animal', 'Gandhi', 'The Hundred-Foot Journey', 'The Net', 'I Am Sam', 'Son of God', 'Underworld', 'Derailed', 'The Informant!', 'Shadowlands', 'Deuce Bigalow: European Gigolo', 'Delivery Man', 'Our Kind of Traitor', 'Saving Silverman', 'Diary of a Wimpy Kid: Dog Days', 'Summer of Sam', 'Jay and Silent Bob Strike Back', 'The Glass House', 'Hail, Caesar!', 'Josie and the Pussycats', 'Homefront', 'The Little Vampire', 'I Heart Huckabees', 'RoboCop 3', 'Megiddo: The Omega Code 2', 'Darling Lili', 'Dudley Do-Right', 'The Transporter Refueled', 'The Libertine', 'Black Book', 'Joyeux Noël', 'Hit & Run', 'Mad Money', 'Before I Go to Sleep', 'Sorcerer', 'Stone', 'Moliere', 'Out of the Furnace', 'Michael Clayton', 'My Fellow Americans', 'Arlington Road', 'Underdogs', 'To Rome with Love', 'Firefox', 'South Park: Bigger, Longer & Uncut', 'Death at a Funeral', 'Teenage Mutant Ninja Turtles III', 'Hardball', 'Silver Linings Playbook', 'Freedom Writers', 'For Colored Girls', 'The Transporter', 'Never Back Down', 'The Rage: Carrie 2', 'Away We Go', 'Swing Vote', 'Moonlight Mile', 'Tinker Tailor Soldier Spy', 'Molly', 'The Beaver', 'The Best Little Whorehouse in Texas', 'eXistenZ', 'Raiders of the Lost Ark', 'Home Alone 2: Lost in New York', 'Close Encounters of the Third Kind', 'Pulse', 'Beverly Hills Cop II', 'Bringing Down the House', 'The Silence of the Lambs', \"Wayne's World\", 'Jackass 3D', 'Jaws 2', 'Beverly Hills Chihuahua', 'The Conjuring', 'Are We There Yet?', 'Tammy', 'School of Rock', 'Mortal Kombat', 'White Chicks', 'The Descendants', 'Holes', 'The Last Song', '12 Years a Slave', 'Drumline', 'Why Did I Get Married Too?', 'Edward Scissorhands', 'Me Before You', \"Madea's Witness Protection\", 'The French Connection', 'Bad Moms', 'Date Movie', 'Return to Never Land', 'Selma', 'The Jungle Book 2', 'Boogeyman', 'Premonition', 'The Tigger Movie', 'Orphan', 'Max', 'Epic Movie', 'Spotlight', 'Lakeview Terrace', 'The Grudge 2', 'How Stella Got Her Groove Back', \"Bill & Ted's Bogus Journey\", 'Man of the Year', 'The Black Hole', 'The American', 'Selena', 'Vampires Suck', 'Babel', 'This Is Where I Leave You', 'Doubt', 'Team America: World Police', 'Texas Chainsaw 3D', 'Copycat', 'Scary Movie 5', 'Paint Your Wagon', 'Milk', 'Risen', 'Ghost Ship', 'A Very Harold & Kumar Christmas', 'Wild Things', 'The Stepfather', 'The Debt', 'High Fidelity', 'One Missed Call', 'Eye for an Eye', 'The Bank Job', 'Eternal Sunshine of the Spotless Mind', 'You Again', 'Street Kings', \"The World's End\", 'Nancy Drew', 'Daybreakers', \"She's Out of My League\", 'Monte Carlo', 'Stay Alive', 'Quigley Down Under', 'Alpha and Omega', 'The Covenant', 'Stick It', 'Shorts', 'To Die For', 'Nerve', 'Appaloosa', 'Vampires', 'Psycho', \"My Best Friend's Girl\", 'Endless Love', 'Georgia Rule', 'Under the Rainbow', 'Ladyhawke', 'Simon Birch', 'Reign Over Me', 'Into the Wild', 'School for Scoundrels', 'Silent Hill: Revelation 3D', 'From Dusk Till Dawn', \"Pooh's Heffalump Movie\", 'Home for the Holidays', 'Kung Fu Hustle', 'The Country Bears', 'The Kite Runner', '21 Grams', 'Paparazzi', 'A Guy Thing', 'Loser', 'Capitalism: A Love Story', 'The Greatest Story Ever Told', 'Secret in Their Eyes', 'Disaster Movie', 'Armored', 'The Man Who Knew Too Little', \"What's Your Number?\", 'Lockout', 'Envy', 'Crank: High Voltage', 'Bullets Over Broadway', 'One Night with the King', 'The Quiet American', 'The Weather Man', 'Undisputed', 'Ghost Town', '12 Rounds', 'Let Me In', '3 Ninjas Kick Back', 'Be Kind Rewind', 'Mrs Henderson Presents', 'Triple 9', 'Deconstructing Harry', 'Three to Tango', 'Burnt', \"We're No Angels\", 'Everyone Says I Love You', 'Death Sentence', \"Everybody's Fine\", 'Superbabies: Baby Geniuses 2', 'The Man', 'Code Name: The Cleaner', 'Connie and Carla', 'Sweet Charity', 'Inherent Vice', 'Doogal', 'Battle of the Year', 'An American Carol', 'Machete Kills', 'Willard', 'Strange Wilderness', 'Topsy-Turvy', 'Little Boy', 'A Dangerous Method', 'A Scanner Darkly', 'Chasing Mavericks', 'Alone in the Dark', 'Bandslam', 'Birth', 'A Most Violent Year', 'Passchendaele', 'Flash of Genius', \"I'm Not There.\", 'The Cold Light of Day', 'The Brothers Bloom', 'Synecdoche, New York', 'Princess Mononoke', 'Bon voyage', \"Can't Stop the Music\", 'The Proposition', 'My All American', 'Marci X', 'Equilibrium', 'The Children of Huang Shi', 'The Yards', 'The Oogieloves in the Big Balloon Adventure', 'By the Sea', 'Steamboy', 'The Game of Their Lives', 'All Good Things', 'Rapa Nui', 'CJ7', 'The Visitors II: The Corridors of Time', 'Dylan Dog: Dead of Night', 'People I Know', 'The Tempest', 'Regression', 'Three Kingdoms: Resurrection of the Dragon', 'Butterfly on a Wheel', 'Zambezia', 'Ramanujan', 'Dwegons', 'Hands of Stone', 'Survivor', 'The Frozen Ground', 'The Painted Veil', 'The Baader Meinhof Complex', 'Dances with Wolves', 'Bad Teacher', 'Sea of Love', 'A Cinderella Story', 'Scream', 'Thir13en Ghosts', 'The Shining', 'Back to the Future', 'House on Haunted Hill', 'I Can Do Bad All By Myself', 'Fight Valley', 'The Switch', 'Just Married', \"The Devil's Double\", 'Thomas and the Magic Railroad', 'The Crazies', 'Spirited Away', 'Firestorm', 'The Bounty', 'The Book Thief', 'Sex Drive', 'Leap Year', 'The Fall of the Roman Empire', 'Take Me Home Tonight', \"Won't Back Down\", 'The Nutcracker', 'Kansas City', 'Indignation', 'The Amityville Horror', 'Adaptation.', 'Land of the Dead', 'Out of Inferno', 'Fear and Loathing in Las Vegas', 'The Invention of Lying', 'Neighbors', 'The Mask', 'Big', 'Borat: Cultural Learnings of America for Make Benefit Glorious Nation of Kazakhstan', 'Legally Blonde', 'Star Trek III: The Search for Spock', 'The Exorcism of Emily Rose', 'Deuce Bigalow: Male Gigolo', 'Left Behind', 'The Family Stone', 'Barbershop 2:  Back in Business', 'Bad Santa', 'Austin Powers: International Man of Mystery', 'My Big Fat Greek Wedding 2', 'Diary of a Wimpy Kid: Rodrick Rules', 'Predator', 'Amadeus', 'Prom Night', 'Mean Girls', 'Under the Tuscan Sun', 'Gosford Park', 'Peggy Sue Got Married', 'Birdman', 'Blue Jasmine', 'United 93', 'Honey', 'Spy Hard', 'The Fog', 'Soul Surfer', 'Catch-22', 'Observe and Report', 'Conan the Destroyer', 'Raging Bull', 'Love Happens', 'Young Sherlock Holmes', 'Fame', '127 Hours', 'Small Time Crooks', 'Center Stage', 'Love the Coopers', 'Catch That Kid', 'Life as a House', 'Steve Jobs', 'I Love You, Beth Cooper', 'Youth in Revolt', 'The Legend of the Lone Ranger', 'The Tailor of Panama', 'Blow Out', 'Getaway', 'The Ice Storm', 'And So It Goes', 'Troop Beverly Hills', 'Being Julia', 'Nine 1/2 Weeks', 'Dragonslayer', 'The Last Station', 'Ed Wood', 'Labor Day', 'Mongol: The Rise of Genghis Khan', 'RockNRolla', 'Megaforce', 'Hamlet', \"Mao's Last Dancer\", 'Midnight Special', 'Anything Else', 'The Railway Man', 'The White Ribbon', 'Restoration', 'The Wraith', 'Salton Sea', 'Metallica: Through the Never', 'The Informers', 'Carlos', 'I Come with the Rain', \"One Man's Hero\", 'Day of the Dead', 'I Am Wrath', 'Renaissance', 'Red Sonja', 'Red Lights', 'Superbad', 'Madea Goes to Jail', 'Wolves', 'Step Up 2: The Streets', 'Hoodwinked!', 'Hotel Rwanda', 'Hitman', 'Black Nativity', 'The Prince', 'City of Ghosts', 'The Others', 'Aliens', 'My Fair Lady', 'I Know What You Did Last Summer', \"Let's Be Cops\", 'Sideways', 'Beerfest', 'Halloween', 'Good Boy!', 'The Best Man Holiday', \"Smokin' Aces\", 'Saw: The Final Chapter', '40 Days and 40 Nights', 'A Night at the Roxbury', 'Beastly', 'The Hills Have Eyes', 'Dickie Roberts: Former Child Star', 'McFarland, USA', 'Lottery Ticket', 'ATL', 'Pitch Perfect', 'Summer Catch', 'A Simple Plan', 'They', 'Larry the Cable Guy: Health Inspector', 'The Adventures of Elmo in Grouchland', \"Brooklyn's Finest\", '55 Days at Peking', 'Evil Dead', 'My Life in Ruins', 'American Dreamz', 'Superman IV: The Quest for Peace', 'How She Move', 'Running Scared', 'Bobby Jones: Stroke of Genius', 'Shanghai Surprise', 'The Illusionist', 'Roar', 'Veronica Guerin', 'Escobar: Paradise Lost', 'Southland Tales', 'Dragon Hunters', 'Damnation Alley', 'The Apparition', 'My Girl', 'Fur: An Imaginary Portrait of Diane Arbus', 'Wall Street', 'Sense and Sensibility', 'Becoming Jane', 'Sydney White', 'House of Sand and Fog', 'Dead Poets Society', 'Dumb and Dumber', 'When Harry Met Sally...', 'The Verdict', 'Road Trip', 'Varsity Blues', 'The Artist', 'The Unborn', 'Moonrise Kingdom', 'The Texas Chainsaw Massacre: The Beginning', 'The Young Messiah', 'The Master of Disguise', \"Pan's Labyrinth\", 'See Spot Run', 'Baby Boy', 'The Roommate', 'Joe Dirt', 'Double Impact', 'Hot Fuzz', 'The Women', 'Vicky Cristina Barcelona', 'Arn: The Knight Templar', 'Boys and Girls', 'White Oleander', \"Jennifer's Body\", 'Drowning Mona', 'Radio Days', 'Remember Me', 'How to Deal', 'My Stepmother is an Alien', 'Philadelphia', 'The Thirteenth Floor', 'The Cookout', 'Meteor', 'Duets', 'Hollywood Ending', 'Detroit Rock City', 'Highlander', 'Things We Lost in the Fire', 'Steel', 'The Immigrant', 'The White Countess', 'Trance', 'Soul Plane', 'Welcome to the Sticks', 'Good', 'Enter the Void', 'Vamps', \"Hachi: A Dog's Tale\", 'Zulu', 'The Homesman', 'Juwanna Mann', 'Ararat', 'Madison', 'Slow Burn', 'Wasabi', 'Slither', 'Beverly Hills Cop', 'Home Alone', 'Three Men and a Baby', 'Tootsie', 'Top Gun', 'Crouching Tiger, Hidden Dragon', 'American Beauty', \"The King's Speech\", 'Twins', 'The Yellow Handkerchief', 'The Color Purple', 'Tidal Wave', 'The Imitation Game', 'Private Benjamin', \"Coal Miner's Daughter\", 'Diary of a Wimpy Kid', 'Mama', \"National Lampoon's Vacation\", 'Bad Grandpa', 'The Queen', 'Beetlejuice', 'Why Did I Get Married?', 'Little Women', 'The Woman in Black', 'When a Stranger Calls', 'Big Fat Liar', 'The Deer Hunter', 'Wag the Dog', 'The Lizzie McGuire Movie', 'Snitch', 'Krampus', 'The Faculty', \"What's Love Got to Do with It\", 'Cop Land', 'Not Another Teen Movie', 'End of Watch', 'The Skulls', 'The Theory of Everything', \"Malibu's Most Wanted\", 'Where the Heart Is', 'Lawrence of Arabia', 'Halloween II', 'Wild', 'The Last House on the Left', 'The Wedding Date', 'Halloween: Resurrection', 'The Princess Bride', 'The Great Debaters', 'Drive', 'Confessions of a Teenage Drama Queen', 'The Object of My Affection', '28 Weeks Later', 'When the Game Stands Tall', 'Because of Winn-Dixie', 'Love & Basketball', 'Grosse Pointe Blank', 'All About Steve', 'Book of Shadows: Blair Witch 2', 'The Craft', 'Match Point', 'Ramona and Beezus', 'The Remains of the Day', 'Boogie Nights', 'Nowhere to Run', 'Flicka', 'The Hills Have Eyes 2', 'Urban Legends: Final Cut', 'Tuck Everlasting', 'The Marine', 'Keanu', 'Country Strong', 'Disturbing Behavior', 'The Place Beyond the Pines', 'The November Man', 'Eye of the Beholder', 'The Hurt Locker', 'Firestarter', 'Killing Them Softly', 'A Most Wanted Man', 'Freddy Got Fingered', \"VeggieTales: The Pirates Who Don't Do Anything\", 'U2 3D', 'Highlander: Endgame', 'Idlewild', 'One Day', 'Whip It', 'Knockaround Guys', 'Confidence', 'The Muse', 'De-Lovely', 'New York Stories', \"Barney's Great Adventure\", 'The Man with the Iron Fists', 'Home Fries', 'Here On Earth', 'Brazil', 'Raise Your Voice', 'The Big Lebowski', 'Black Snake Moan', 'Dark Blue', 'A Mighty Heart', 'Whatever It Takes', 'Boat Trip', 'The Importance of Being Earnest', 'The Love Letter', 'Hoot', 'In Bruges', 'Peeples', 'The Rocker', 'Post Grad', 'Promised Land', 'Whatever Works', 'The In Crowd', 'The Three Burials of Melquiades Estrada', 'Jakob the Liar', 'Kiss Kiss Bang Bang', 'Idle Hands', 'Mulholland Drive', 'Blood and Chocolate', 'You Will Meet a Tall Dark Stranger', 'Never Let Me Go', 'The Company', 'Transsiberian', 'The Clan of the Cave Bear', 'Crazy in Alabama', 'Funny Games', 'Listening', \"Felicia's Journey\", 'Metropolis', 'District B13', \"Things to Do in Denver When You're Dead\", 'The Assassin', 'Buffalo Soldiers', 'The Return', 'Ong Bak 2', 'Centurion', 'Silent Trigger', 'The Midnight Meat Train', 'Winnie Mandela', 'The Son of No One', \"All The Queen's Men\", 'The Good Night', 'Bathory: Countess of Blood', 'Khumba', 'Automata', 'Dungeons & Dragons: Wrath of the Dragon God', 'Chiamatemi Francesco - Il Papa della gente', 'Shinjuku Incident', 'Pandaemonium', 'Groundhog Day', 'Magic Mike XXL', 'Romeo + Juliet', \"Sarah's Key\", 'Freedom', 'Unforgiven', 'Manderlay', 'Slumdog Millionaire', 'Fatal Attraction', 'Pretty Woman', 'Crocodile Dundee II', 'Broken Horses', 'Born on the Fourth of July', 'Cool Runnings', 'My Bloody Valentine', 'Stomp the Yard', 'The Spy Who Loved Me', 'Urban Legend', 'Good Deeds', 'White Fang', 'Superstar', 'The Iron Lady', 'Jonah: A VeggieTales Movie', 'Poetic Justice', 'All About the Benjamins', 'Vampire in Brooklyn', 'Exorcist II: The Heretic', 'An American Haunting', \"My Boss's Daughter\", 'A Perfect Getaway', 'Our Family Wedding', 'Dead Man on Campus', 'Tea with Mussolini', 'Thinner', 'New York, New York', 'Crooklyn', 'I Think I Love My Wife', 'Jason X', 'Bobby', 'Head Over Heels', 'Fun Size', 'The Diving Bell and the Butterfly', 'Little Children', 'Gossip', 'A Walk on the Moon', 'Catch a Fire', 'Soul Survivors', 'Jefferson in Paris', 'Easy Virtue', 'Caravans', 'Mr. Turner', 'Wild Grass', 'Amen.', 'Reign of Assassins', 'The Lucky Ones', 'Margaret', 'Stan Helsing', 'Flipped', 'Brokeback Mountain', 'Clueless', 'Far from Heaven', 'Hot Tub Time Machine 2', 'Quills', 'Seven Psychopaths', \"The Caveman's Valentine\", 'Downfall', 'The Sea Inside', 'Under the Skin', 'Good Morning, Vietnam', 'The Last Godfather', 'Justin Bieber: Never Say Never', 'Black Swan', 'The Godfather: Part II', 'Save the Last Dance', 'A Nightmare on Elm Street 4: The Dream Master', 'Miracles from Heaven', 'Dude, Where’s My Car?', 'Young Guns', 'St. Vincent', 'About Last Night', '10 Things I Hate About You', 'The New Guy', \"National Lampoon's Loaded Weapon 1\", 'The Shallows', 'The Butterfly Effect', 'Snow Day', 'This Christmas', 'Baby Geniuses', 'The Big Hit', 'Harriet the Spy', \"Child's Play 2\", 'No Good Deed', 'The Mist', 'Ex Machina', 'Being John Malkovich', 'Two Can Play That Game', 'Earth to Echo', 'Crazy/Beautiful', 'Letters from Iwo Jima', 'The Astronaut Farmer', 'Woo', 'Room', 'Dirty Work', 'Serial Mom', 'Dick', 'Light It Up', '54', 'Bubble Boy', 'Birthday Girl', '21 & Over', \"Paris, je t'aime\", 'Resurrecting the Champ', 'Admission', 'The Widow of Saint-Pierre', 'Chloe', 'Faithful', 'Find Me Guilty', 'The Perks of Being a Wallflower', 'Excessive Force', 'Infamous', 'The Claim', 'The Vatican Tapes', 'Attack the Block', 'In the Land of Blood and Honey', 'The Call', 'Operation Chromite', 'The Crocodile Hunter: Collision Course', 'I Love You Phillip Morris', 'Quest for Fire', 'Antwone Fisher', \"The Emperor's Club\", 'True Romance', 'Womb', 'Glengarry Glen Ross', 'The Killer Inside Me', 'Cat People', 'Sorority Row', 'The Prisoner of Zenda', 'Lars and the Real Girl', 'The Boy in the Striped Pyjamas', 'Dancer in the Dark', 'Oscar and Lucinda', 'The Funeral', 'Solitary Man', 'Machete', 'Casino Jack', 'The Land Before Time', 'Tae Guk Gi: The Brotherhood of War', 'The Perfect Game', 'The Exorcist', 'Jaws', 'American Pie', 'Ernest & Celestine', 'The Golden Child', 'Think Like a Man', 'Barbershop', 'Star Trek II: The Wrath of Khan', 'Ace Ventura: Pet Detective', 'WarGames', 'Witness', 'Act of Valor', 'Step Up', 'Beavis and Butt-Head Do America', 'Jackie Brown', 'Harold & Kumar Escape from Guantanamo Bay', 'Chronicle', 'Yentl', 'Time Bandits', 'Crossroads', 'Project X', 'Patton', 'One Hour Photo', 'Quarantine', 'The Eye', 'Johnson Family Vacation', 'How High', 'The Muppet Christmas Carol', 'Frida', 'Katy Perry: Part of Me', 'The Fault in Our Stars', 'Rounders', 'Top Five', 'Prophecy', 'Stir of Echoes', 'Philomena', 'The Upside of Anger', 'The Boys from Brazil', 'Aquamarine', 'Paper Towns', \"My Baby's Daddy\", 'Nebraska', 'Tales from the Crypt: Demon Knight', \"Max Keeble's Big Move\", 'Young Adult', 'Crank', \"Def Jam's How to Be a Player\", 'Living Out Loud', 'Just Wright', 'Rachel Getting Married', 'The Postman Always Rings Twice', 'Girl with a Pearl Earring', 'Das Boot', 'Sorority Boys', 'About Time', 'House of Flying Daggers', 'Arbitrage', 'Project Almanac', 'Cadillac Records', 'Screwed', 'Fortress', 'For Your Consideration', 'Celebrity', 'Running with Scissors', 'From Justin to Kelly', 'Girl 6', 'In the Cut', 'Two Lovers', 'Last Orders', 'The Host', 'The Pursuit of D.B. Cooper', 'Ravenous', 'Charlie Bartlett', 'The Great Beauty', 'The Dangerous Lives of Altar Boys', 'Stoker', '2046', 'Married Life', 'Duma', 'Ondine', 'Brother', 'Welcome to Collinwood', 'Critical Care', 'The Life Before Her Eyes', 'Darling Companion', 'Trade', 'Fateless', 'Breakfast of Champions', 'A Woman, a Gun and a Noodle Shop', 'Cypher', 'City of Life and Death', 'Legend of a Rabbit', 'Space Battleship Yamato', '5 Days of War', 'Triangle', '10 Days in a Madhouse', 'Heaven is for Real', 'Snatch', \"Dancin' It's On\", 'Pet Sematary', 'Madadayo', 'The Cry of the Owl', 'A Tale of Three Cities', 'Gremlins', 'Star Wars', 'Dirty Grandpa', 'Doctor Zhivago', 'Trash', 'High School Musical 3: Senior Year', 'The Fighter', 'Jackass Number Two', 'My Cousin Vinny', 'If I Stay', 'Drive Hard', 'Major League', \"St. Trinian's\", 'Phone Booth', 'A Walk to Remember', 'Dead Man Walking', 'Cruel Intentions', 'Saw VI', 'History of the World: Part I', 'The Secret Life of Bees', 'Corky Romano', 'Raising Cain', 'F.I.S.T.', 'Invaders from Mars', 'Brooklyn', 'Barry Lyndon', 'Out Cold', 'The Ladies Man', 'Quartet', 'Tomcats', 'Frailty', 'Woman in Gold', 'Kinsey', 'Army of Darkness', 'Slackers', \"What's Eating Gilbert Grape\", 'The Visual Bible: The Gospel of John', 'Vera Drake', 'The Guru', 'The Perez Family', 'Inside Llewyn Davis', 'O', 'Return to the Blue Lagoon', 'The Molly Maguires', 'Romance & Cigarettes', 'Copying Beethoven', 'Brighton Rock', 'Saw V', 'Machine Gun McCain', 'LOL', 'Jindabyne', 'Kabhi Alvida Naa Kehna', 'An Ideal Husband', 'The Last Days on Mars', 'Darkness', '2001: A Space Odyssey', 'E.T. the Extra-Terrestrial', 'In the Land of Women', 'The Blue Butterfly', 'There Goes My Baby', 'Housefull', 'September Dawn', 'For Greater Glory - The True Story of Cristiada', 'The Bélier Family', 'Good Will Hunting', 'Misconduct', 'Saw III', 'Stripes', 'Bring It On', 'The Purge: Election Year', \"She's All That\", 'Saw IV', 'White Noise', \"Madea's Family Reunion\", 'The Color of Money', 'The Longest Day', 'The Mighty Ducks', 'The Grudge', 'Happy Gilmore', 'Jeepers Creepers', \"Bill & Ted's Excellent Adventure\", 'Oliver!', 'The Best Exotic Marigold Hotel', \"Recess: School's Out\", 'Mad Max Beyond Thunderdome', 'Commando', 'The Boy', 'Devil', 'Friday After Next', 'Insidious: Chapter 3', 'The Last Dragon', 'The Lawnmower Man', \"Nick and Norah's Infinite Playlist\", 'Dogma', 'The Banger Sisters', 'Twilight Zone: The Movie', 'Road House', 'A Low Down Dirty Shame', 'Swimfan', 'Employee of the Month', \"Can't Hardly Wait\", 'The Outsiders', \"Pete's Dragon\", 'The Dead Zone', 'Sinister 2', 'Sparkle', 'Valentine', 'The Fourth Kind', 'A Prairie Home Companion', 'Sugar Hill', 'Invasion U.S.A.', 'Roll Bounce', 'Rushmore', 'Skyline', 'The Second Best Exotic Marigold Hotel', 'Kit Kittredge: An American Girl', 'The Perfect Man', \"Mo' Better Blues\", 'Kung Pow: Enter the Fist', 'Tremors', 'Wrong Turn', 'The Long Riders', 'The Corruptor', 'Mud', 'Reno 911!: Miami', 'One Direction: This Is Us', 'The Goods: Live Hard, Sell Hard', 'Hey Arnold! The Movie', 'My Week with Marilyn', 'The Matador', 'Love Jones', 'The Gift', 'End of the Spear', 'Get Over It', 'Office Space', 'Drop Dead Gorgeous', 'Big Eyes', 'Very Bad Things', 'Sleepover', 'Body Double', 'MacGruber', 'Dirty Pretty Things', 'Movie 43', 'Over Her Dead Body', 'Seeking a Friend for the End of the World', 'Cedar Rapids', 'American History X', 'The Collection', \"Teacher's Pet\", 'The Red Violin', 'The Straight Story', 'Deuces Wild', 'Bad Words', 'Run, Fatboy, Run', 'Heartbeeps', 'Black or White', 'On the Line', 'Rescue Dawn', 'Danny Collins', 'Jeff, Who Lives at Home', 'I Am Love', 'Atlas Shrugged Part II', 'Romeo Is Bleeding', 'The Limey', 'Crash', 'The House of Mirth', 'Malone', 'Peaceful Warrior', 'Bucky Larson: Born to Be a Star', 'Bamboozled', 'The Forest', 'Sphinx', \"While We're Young\", 'A Better Life', 'Spider', 'Gun Shy', 'Nicholas Nickleby', 'The Iceman', 'Krrish', 'Cecil B. Demented', 'Killer Joe', 'The Joneses', 'Owning Mahowny', 'The Brothers Solomon', 'My Blueberry Nights', 'Illuminata', 'Swept Away', 'War, Inc.', 'Shaolin Soccer', 'The Brown Bunny', 'The Swindle', 'Rosewater', 'The Chambermaid on the Titanic', 'Coriolanus', 'Imaginary Heroes', 'High Heels and Low Lifes', \"World's Greatest Dad\", 'Severance', 'Edmond', 'Welcome to the Rileys', 'Police Academy: Mission to Moscow', 'Blood Done Sign My Name', 'Cinco de Mayo: La Batalla', 'Elsa & Fred', 'An Alan Smithee Film: Burn, Hollywood, Burn', 'The Open Road', 'The Good Guy', 'Motherhood', 'Free Style', 'Strangerland', 'Janky Promoters', 'Blonde Ambition', 'The Oxford Murders', 'The Reef', 'Eulogy', 'White Noise 2: The Light', 'Beat the World', 'Fifty Dead Men Walking', 'Jungle Shuffle', 'Adam Resurrected', 'Of Horses and Men', \"It's a Wonderful Afterlife\", \"The Devil's Tomb\", 'Partition', 'Good Intentions', 'The Good, The Bad, The Weird', 'Nurse 3-D', 'Gunless', 'Adventureland', 'The Lost City', 'Next Friday', 'American Heist', 'You Only Live Twice', 'Plastic', 'Amour', 'Poltergeist III', 'Re-Kill', \"It's a Mad, Mad, Mad, Mad World\", 'Volver', 'Heavy Metal', 'Gentlemen Broncos', 'Richard III', 'Into the Grizzly Maze', 'Kites', 'Melancholia', 'Red Dog', 'Jab Tak Hai Jaan', 'Alien', 'The Texas Chain Saw Massacre', 'The Runaways', 'Fiddler on the Roof', 'Thunderball', 'Detention', 'Loose Cannons', 'Set It Off', 'The Best Man', \"Child's Play\", 'Sicko', 'The Purge: Anarchy', 'Down to You', 'Harold & Kumar Go to White Castle', 'The Contender', 'Boiler Room', 'Trading Places', 'Black Christmas', \"Breakin' All the Rules\", 'Henry V', 'The Savages', 'Chasing Papi', 'The Way of the Gun', 'Igby Goes Down', 'PCU', 'The Ultimate Gift', 'The Ice Pirates', 'Gracie', 'Trust the Man', 'Hamlet 2', 'Velvet Goldmine', 'The Wailing', 'Glee: The Concert Movie', 'The Legend of Suriyothai', 'Two Evil Eyes', 'Barbecue', 'All or Nothing', 'Princess Kaiulani', 'Opal Dream', 'Flame & Citron', 'Undiscovered', 'Red Riding: In the Year of Our Lord 1974', 'The Girl on the Train', 'Veronika Decides to Die', 'Crocodile Dundee', 'Ultramarines: A Warhammer 40,000 Movie', 'The I Inside', 'Beneath Hill 60', 'Polisse', 'Awake', 'Star Wars: Clone Wars: Volume 1', 'Skin Trade', 'The Lost Boys', 'Crazy Heart', 'The Rose', 'Baggage Claim', 'Barbarella', 'Shipwrecked', 'Election', 'The Namesake', 'The DUFF', 'Glitter', 'The Haunting in Connecticut 2: Ghosts of Georgia', 'Silmido', 'Bright Star', 'My Name Is Khan', 'All Is Lost', 'Limbo', 'Namastey London', 'The Wind That Shakes the Barley', 'Yeh Jawaani Hai Deewani', 'Quo Vadis', 'Repo! The Genetic Opera', 'Valley of the Wolves: Iraq', 'Pulp Fiction', 'The Muppet Movie', 'Nightcrawler', 'Club Dread', 'The Sound of Music', 'Splash', 'Little Miss Sunshine', 'Stand by Me', '28 Days Later', 'You Got Served', 'Escape from Alcatraz', 'Brown Sugar', 'A Thin Line Between Love and Hate', '50/50', 'Shutter', 'That Awkward Moment', 'Modern Problems', 'Kicks', 'Much Ado About Nothing', \"On Her Majesty's Secret Service\", 'New Nightmare', 'Drive Me Crazy', 'Akeelah and the Bee', 'Half Baked', 'New in Town', 'American Psycho', 'The Good Girl', 'Bon Cop Bad Cop', 'The Boondock Saints II: All Saints Day', 'The City of Your Final Destination', 'Enough Said', 'Easy A', 'The Inkwell', 'Shadow of the Vampire', 'Prom', 'The Pallbearer', 'Held Up', 'Woman on Top', 'Howards End', 'Anomalisa', 'Another Year', '8 Women', 'Showdown in Little Tokyo', 'Clay Pigeons', \"It's Kind of a Funny Story\", 'Made in Dagenham', 'When Did You Last See Your Father?', 'Prefontaine', 'The Wicked Lady', 'The Secret of Kells', 'Begin Again', 'Down in the Valley', 'Brooklyn Rules', 'Restless', 'The Singing Detective', 'The Land Girls', 'Fido', 'The Wendell Baker Story', 'Wild Target', 'Pathology', 'Wuthering Heights', '10th & Wolf', 'Dear Wendy', 'Aloft', 'Akira', 'The Death and Life of Bobby Z', 'The Rocket: The Legend of Rocket Richard', 'Swelter', 'My Lucky Star', 'Imagine Me & You', 'Mr. Church', 'Swimming Pool', 'Green Street Hooligans: Underground', 'The Blood of Heroes', 'Code of Honor', 'Driving Miss Daisy', 'Soul Food', 'Rumble in the Bronx', 'Far from Men', 'Thank You for Smoking', 'Hostel: Part II', 'An Education', 'Shopgirl', 'The Hotel New Hampshire', 'Narc', 'Men with Brooms', 'Witless Protection', 'The Work and the Glory', 'Extract', 'Masked and Anonymous', 'Betty Fisher and Other Stories', 'Code 46', 'Outside Bet', 'Albert Nobbs', 'Black November', 'Ta Ra Rum Pum', 'Persepolis', 'The Hole', 'The Wave', 'The Neon Demon', 'Harry Brown', 'The Omega Code', 'Juno', 'Pound of Flesh', 'Diamonds Are Forever', 'The Godfather', 'Flashdance', '(500) Days of Summer', 'The Piano', 'Magic Mike', 'Darkness Falls', 'Live and Let Die', 'My Dog Skip', 'Definitely, Maybe', 'Jumping the Broom', 'Good Night, and Good Luck.', 'Capote', 'Desperado', \"Logan's Run\", 'The Man with the Golden Gun', 'Action Jackson', 'The Descent', 'Michael Jordan to the Max', \"Devil's Due\", 'Flirting with Disaster', \"The Devil's Rejects\", 'Dope', 'In Too Deep', 'House of 1000 Corpses', 'Alien Zone', 'A Serious Man', 'Get Low', 'Warlock', 'Beyond the Lights', 'A Single Man', 'The Last Temptation of Christ', 'Outside Providence', 'Bride & Prejudice', 'Rabbit-Proof Fence', \"Who's Your Caddy?\", 'Split Second', 'The Other Side of Heaven', 'Veer-Zaara', 'Redbelt', 'Cyrus', 'A Dog Of Flanders', 'Auto Focus', 'Factory Girl', 'We Need to Talk About Kevin', 'The Christmas Candle', 'The Mighty Macs', \"Losin' It\", 'Mother and Child', 'March or Die', 'The Visitors', 'Somewhere', 'I Hope They Serve Beer in Hell', 'Chairman of the Board', 'Hesher', 'Dom Hemingway', 'Gerry', 'The Heart of Me', 'Freeheld', 'The Extra Man', 'Hard to Be a God', 'Ca$h', 'Wah-Wah', 'The Boondock Saints', 'Z Storm', 'Twixt', 'The Snow Queen', 'Alpha and Omega: The Legend of the Saw Tooth Cave', 'Pale Rider', 'Stargate: The Ark of Truth', 'Dazed and Confused', 'High School Musical 2', 'Two Lovers and a Bear', 'Criminal Activities', 'Aimee & Jaguar', 'The Chumscrubber', 'Shade', 'House at the End of the Street', 'Incendies', 'Remember Me, My Love', 'Perrier’s Bounty', 'Elite Squad', 'Annabelle', 'Bran Nue Dae', 'Boyz n the Hood', 'La Bamba', 'The Four Seasons', 'Dressed to Kill', 'The Adventures of Huck Finn', 'Go', 'Friends with Money', 'The Andromeda Strain', 'Bats', 'Nowhere in Africa', 'Shame', 'Layer Cake', 'The Work and the Glory II: American Zion', 'The East', 'A Home at the End of the World', 'Aberdeen', 'The Messenger', 'Tracker', 'Control', 'The Terminator', 'Good bye, Lenin!', 'The Damned United', 'The Return of the Living Dead', 'Mallrats', 'Grease', 'Platoon', 'Fahrenheit 9/11', 'Butch Cassidy and the Sundance Kid', 'Mary Poppins', 'Ordinary People', 'West Side Story', 'Caddyshack', 'The Brothers', 'The Wood', 'The Usual Suspects', 'A Nightmare on Elm Street 5: The Dream Child', 'National Lampoon’s Van Wilder', 'The Wrestler', 'Duel in the Sun', 'Best in Show', 'Escape from New York', 'School Daze', 'Daddy Day Camp', 'Mr. Nice Guy', 'A Mighty Wind', 'Mystic Pizza', 'Sliding Doors', 'Tales from the Hood', 'The Last King of Scotland', 'Halloween 5: The Revenge of Michael Myers', 'Bernie', 'Dolphins and Whales: Tribes of the Ocean', 'Pollock', '200 Cigarettes', 'The Words', 'Casa De Mi Padre', 'City Island', 'The Guard', 'College', 'The Virgin Suicides', 'Little Voice', 'Miss March', 'Wish I Was Here', 'Simply Irresistible', 'Hedwig and the Angry Inch', 'Only the Strong', 'Goddess of Love', 'Shattered Glass', 'Novocaine', 'The Business of Strangers', 'The Wild Bunch', 'The Wackness', 'The First Great Train Robbery', 'Morvern Callar', 'Beastmaster 2: Through the Portal of Time', 'The 5th Quarter', 'The Flower of Evil', 'The Greatest', 'Snow Flower and the Secret Fan', 'Come Early Morning', 'Lucky Break', 'Julia', 'Surfer, Dude', 'Lake of Fire', '11:14', 'Men of War', 'Don McKay', 'Deadfall', 'A Shine of Rainbows', 'The Hit List', 'Emma', 'Videodrome', 'The Spanish Apartment', 'Song One', 'Winter in Wartime', 'Freaky Deaky', 'The Train', 'Trade Of Innocents', 'The Protector', 'Stiff Upper Lips', 'Bend It Like Beckham', 'Sunshine State', 'Crossover', 'Khiladi 786', '[REC]²', 'Standing Ovation', 'The Sting', 'Chariots of Fire', 'Diary of a Mad Black Woman', 'Shine', 'Don Jon', 'High Plains Drifter', 'Ghost World', 'Iris', 'Galaxina', 'The Chorus', 'Mambo Italiano', 'Wonderland', 'Do the Right Thing', 'Harvard Man', 'Le Havre', 'Irreversible', 'R100', 'Rang De Basanti', 'Animals', 'Salvation Boulevard', 'The Ten', 'A Room for Romeo Brass', 'Headhunters', 'Grabbers', 'Saint Ralph', 'Miss Julie', 'Somewhere in Time', 'Dum Maaro Dum', 'Insidious: Chapter 2', 'Saw II', '10 Cloverfield Lane', 'Jackass: The Movie', 'Lights Out', 'Paranormal Activity 3', 'Ouija', 'A Nightmare on Elm Street 3: Dream Warriors', 'Instructions Not Included', 'Paranormal Activity 4', 'The Robe', 'The Return of the Pink Panther', \"Freddy's Dead: The Final Nightmare\", 'Monster', '20,000 Leagues Under the Sea', 'Paranormal Activity: The Marked Ones', 'The Elephant Man', 'Dallas Buyers Club', 'The Lazarus Effect', 'Memento', 'Oculus', 'Clerks II', 'Billy Elliot', 'The Way Way Back', 'House Party 2', 'The Man from Snowy River', \"Doug's 1st Movie\", 'The Apostle', 'Mommie Dearest', 'Our Idiot Brother', 'Race', 'The Players Club', 'As Above, So Below', 'Addicted', \"Eve's Bayou\", 'Still Alice', 'The Egyptian', 'Nighthawks', 'Friday the 13th Part VIII: Jason Takes Manhattan', 'My Big Fat Greek Wedding', 'Spring Breakers', 'Halloween: The Curse of Michael Myers', 'Y Tu Mamá También', 'Shaun of the Dead', 'The Haunting of Molly Hartley', 'Lone Star', 'Halloween 4: The Return of Michael Myers', \"April Fool's Day\", 'Diner', 'Lone Wolf McQuade', 'Apollo 18', 'Sunshine Cleaning', 'No Escape', 'The Beastmaster', 'Solomon and Sheba', 'Fifty Shades of Black', 'Not Easily Broken', 'A Farewell to Arms', 'The Perfect Match', 'Digimon: The Movie', 'Saved!', 'The Barbarian Invasions', 'Robin and Marian', 'The Forsaken', 'Force 10 from Navarone', 'UHF', \"Grandma's Boy\", 'Slums of Beverly Hills', 'Once Upon a Time in the West', 'Made', 'Moon', 'Keeping Up with the Steins', 'Sea Rex 3D: Journey to a Prehistoric World', 'The Sweet Hereafter', 'Of Gods and Men', 'Bottle Shock', 'Jekyll and Hyde ... Together Again', 'Heavenly Creatures', '90 Minutes in Heaven', 'Everything Must Go', 'Zero Effect', 'The Machinist', 'Light Sleeper', 'Kill the Messenger', 'Rabbit Hole', 'Party Monster', 'Green Room', 'The Oh in Ohio', 'Atlas Shrugged Part III: Who is John Galt?', 'Bottle Rocket', 'Albino Alligator', 'Gandhi, My Father', 'Standard Operating Procedure', 'Out of the Blue', 'Tucker and Dale vs Evil', 'Lovely, Still', 'Tycoon', 'Desert Blue', 'Decoys', 'The Visit', 'Redacted', 'Fascination', 'Area 51', 'Sleep Tight', 'The Cottage', 'Dead Like Me: Life After Death', 'Farce of the Penguins', 'Flying By', 'Rudderless', 'Henry & Me', 'Christmas Eve', 'We Have Your Husband', 'Dying of the Light', 'Born Of War', 'Capricorn One', \"Should've Been Romeo\", 'Running Forever', 'Yoga Hosers', 'Navy Seals vs. Zombies', 'I Served the King of England', 'Soul Kitchen', 'Sling Blade', 'The Awakening', 'Hostel', 'A Cock and Bull Story', 'Take Shelter', 'Lady in White', 'Driving Lessons', \"Let's Kill Ward's Wife\", 'The Texas Chainsaw Massacre 2', 'Pat Garrett & Billy the Kid', 'Only God Forgives', 'Camping Sauvage', 'Without Men', 'Dear Frankie', 'All Hat', 'The Names of Love', 'Treading Water', 'Savage Grace', 'Out of the Blue', 'Police Academy', 'The Blue Lagoon', 'Four Weddings and a Funeral', 'Fast Times at Ridgemont High', 'Moby Dick', '25th Hour', 'Bound', 'Requiem for a Dream', 'State Fair', 'Tango', 'Salvador', \"Moms' Night Out\", 'Donnie Darko', 'Saving Private Perez', 'Character', 'Spun', 'Life During Wartime', 'Sympathy for Lady Vengeance', \"Mozart's Sister\", 'Mean Machine', 'Exiled', 'Blackthorn', 'Lilya 4-ever', 'After.Life', 'Fugly', \"One Flew Over the Cuckoo's Nest\", \"R.L. Stine's Monsterville: The Cabinet of Souls\", 'Silent Movie', 'Airlift', 'Anne of Green Gables', 'Falcon Rising', 'The Sweeney', 'Sexy Beast', 'Easy Money', 'Whale Rider', 'Paa', 'Cargo', 'High School Musical', 'Love and Death on Long Island', 'Night Watch', 'The Crying Game', \"Porky's\", 'Survival of the Dead', 'Night of the Living Dead', 'Lost in Translation', 'Annie Hall', 'The Greatest Show on Earth', \"Monster's Ball\", 'Maggie', 'Leaving Las Vegas', 'Hansel and Gretel Get Baked', 'The Front Page', 'The Boy Next Door', 'Trapeze', 'The Kids Are All Right', 'They Live', 'The Great Escape', 'What the #$*! Do We (K)now!?', 'The Last Exorcism Part II', 'Boyhood', 'Scoop', 'The Wash', '3 Strikes', 'The Cooler', 'The Misfits', 'The Night Listener', 'The Jerky Boys', 'The Orphanage', 'A Haunted House 2', 'The Rules of Attraction', 'Topaz', \"Let's Go to Prison\", 'Four Rooms', 'Secretary', 'The Real Cancun', 'Talk Radio', 'Waiting for Guffman', 'Love Stinks', 'You Kill Me', 'Thumbsucker', 'Red State', 'Mirrormask', 'Samsara', 'The Barbarians', 'The Art of Getting By', 'Zipper', 'Poolhall Junkies', 'The Loss of Sexual Innocence', 'Holy Motors', 'Joe', 'Shooting Fish', 'Prison', 'Psycho Beach Party', 'The Big Tease', 'Guten Tag, Ramón', 'Trust', 'An Everlasting Piece', 'Among Giants', 'Adore', 'The Velocity of Gary', 'Mondays in the Sun', 'Stake Land', 'The Last Time I Committed Suicide', 'Futuro Beach', 'Another Happy Day', 'A Lonely Place to Die', 'Nothing', 'The Geographer Drank His Globe Away', '1776', 'Inescapable', \"Hell's Angels\", 'Purple Violets', 'The Veil', 'The Loved Ones', 'The Helpers', 'How to Fall in Love', 'The Perfect Wave', 'A Man for All Seasons', 'Network', 'Gone with the Wind', 'Desert Dancer', 'Major Dundee', 'Annie Get Your Gun', 'Four Lions', 'The House of Sand', 'Defendor', 'The Pirate', 'The Good Heart', 'The History Boys', 'Midnight Cowboy', 'The Full Monty', 'Airplane!', 'Chain of Command', 'Friday', 'Menace II Society', 'Creepshow 2', 'The Ballad of Cable Hogue', 'In Cold Blood', \"The Nun's Story\", 'Harper', 'Frenzy', 'The Witch', 'I Got the Hook Up', \"She's the One\", 'Gods and Monsters', 'The Secret in Their Eyes', 'Train', 'Evil Dead II', 'Pootie Tang', 'Sharknado', 'The Other Conquest', 'Troll Hunter', 'Ira & Abby', 'Winter Passing', 'D.E.B.S.', 'The Masked Saint', 'The Betrayed', 'Taxman', 'The Secret', '2:13', 'Batman: The Dark Knight Returns, Part 2', 'Time to Choose', 'In the Name of the King III', 'Wicked Blood', 'Stranded', 'Lords of London', 'High Anxiety', 'March of the Penguins', 'Margin Call', 'August', 'Choke', 'Whiplash', 'City of God', 'Human Traffic', 'To Write Love on Her Arms', 'The Dead Girl', 'The Hunt', 'A Christmas Story', 'Bella', 'Class of 1984', 'The Opposite Sex', 'Dreaming of Joseph Lees', 'The Class', \"Rosemary's Baby\", 'The Man Who Shot Liberty Valance', 'Adam', 'Maria Full of Grace', 'Beginners', 'Feast', 'Animal House', 'Goldfinger', 'Antiviral', \"It's a Wonderful Life\", 'Trainspotting', 'The Original Kings of Comedy', 'Paranormal Activity 2', 'Waking Ned', 'Bowling for Columbine', 'Coming Home', \"A Nightmare on Elm Street Part 2: Freddy's Revenge\", 'A Room with a View', 'The Purge', 'Sinister', 'Martin Lawrence Live: Runteldat', 'Cat on a Hot Tin Roof', 'Beneath the Planet of the Apes', 'Air Bud', 'Pokémon: Spell of the Unknown', 'Friday the 13th Part VI: Jason Lives', 'The Bridge on the River Kwai', 'Spaced Invaders', 'Family Plot', 'The Apartment', 'Jason Goes to Hell: The Final Friday', 'Torn Curtain', \"Dave Chappelle's Block Party\", 'Slow West', 'Krush Groove', 'Next Day Air', 'Elmer Gantry', 'Judgment at Nuremberg', \"Trippin'\", 'Red River', 'Phat Girlz', 'Before Midnight', 'Teen Wolf Too', 'Phantasm II', 'Woman Thou Art Loosed', 'Real Women Have Curves', 'Water', 'East Is East', 'Whipped', 'Kama Sutra - A Tale of Love', 'Please Give', 'Willy Wonka & the Chocolate Factory', 'Warlock: The Armageddon', '8 Heads in a Duffel Bag', 'Days of Heaven', 'Thirteen Conversations About One Thing', 'Jawbreaker', 'Basquiat', 'Frances Ha', 'Tsotsi', 'Happiness', 'DysFunktional Family', 'Tusk', 'Oldboy', 'Letters to God', 'Hobo with a Shotgun', 'Compadres', 'Freeway', \"Love's Abiding Joy\", 'Fish Tank', 'Damsels in Distress', 'Creature', 'Bachelorette', 'Brave New Girl', \"Tim and Eric's Billion Dollar Movie\", 'Summer Storm', 'Fort McCoy', 'Chain Letter', 'Just Looking', 'The Divide', 'The Eclipse', 'Demonic', 'My Big Fat Independent Movie', 'The Deported', 'Tanner Hall', 'Open Road', 'They Came Together', '30 Nights of Paranormal Activity With the Devil Inside the Girl With the Dragon Tattoo', 'Never Back Down 2: The Beatdown', 'Point Blank', 'Four Single Fathers', 'Enter the Dangerous Mind', 'Something Wicked', 'AWOL-72', 'Iguana', 'Chicago Overcoat', 'Barry Munday', 'Central Station', 'Pocketful of Miracles', 'Close Range', 'Boynton Beach Club', 'Amnesiac', 'Freakonomics', 'High Tension', 'Griff the Invisible', 'Unnatural', 'Hustle & Flow', 'Some Like It Hot', 'Friday the 13th Part VII: The New Blood', 'The Wizard of Oz', 'Young Frankenstein', 'Diary of the Dead', 'Lage Raho Munna Bhai', \"Ulee's Gold\", 'The Black Stallion', 'Sardaarji', 'Journey to Saturn', \"Donovan's Reef\", 'The Dress', 'A Guy Named Joe', 'Blazing Saddles', 'Friday the 13th: The Final Chapter', 'Ida', 'Maurice', 'Beer League', 'Riding Giants', 'Timecrimes', 'Silver Medalist', 'Timber Falls', \"Singin' in the Rain\", 'Fat, Sick & Nearly Dead', 'A Haunted House', \"2016: Obama's America\", 'That Thing You Do!', 'Halloween III: Season of the Witch', 'Escape from the Planet of the Apes', 'Hud', 'Kevin Hart: Let Me Explain', 'My Own Private Idaho', 'Garden State', 'Before Sunrise', 'Evil Words', \"Jesus' Son\", 'Saving Face', 'Brick Lane', 'Robot & Frank', 'My Life Without Me', 'The Spectacular Now', 'Religulous', 'Fuel', \"Valley of the Heart's Delight\", 'Eye of the Dolphin', '8: The Mormon Proposition', 'The Other End of the Line', 'Anatomy', 'Sleep Dealer', 'Super', 'Christmas Mail', 'Stung', 'Antibirth', 'Get on the Bus', 'Thr3e', 'Idiocracy', 'The Rise of the Krays', 'This Is England', 'U.F.O.', 'Bathing Beauty', 'Go for It!', 'Dancer, Texas Pop. 81', 'Show Boat', 'Redemption Road', 'The Calling', 'The Brave Little Toaster', 'Fantasia', '8 Days', 'Friday the 13th Part III', 'Friday the 13th: A New Beginning', 'The Last Sin Eater', 'Do You Believe?', 'Impact Point', 'The Valley of Decision', 'Eden', 'Chicken Tikka Masala', \"There's Always Woodstock\", 'Jack Brooks: Monster Slayer', 'The Best Years of Our Lives', 'Bully', 'Elling', 'Mi America', '[REC]', 'Lies in Plain Sight', 'Sharkskin', 'Containment', 'The Timber', 'From Russia with Love', 'The Toxic Avenger Part II', 'Sleeper', 'It Follows', 'Everything You Always Wanted to Know About Sex *But Were Afraid to Ask', 'To Kill a Mockingbird', 'Mad Max 2: The Road Warrior', 'The Legend of Drunken Master', \"Boys Don't Cry\", 'Silent House', 'The Lives of Others', 'Courageous', 'The Hustler', 'Boom Town', 'The Triplets of Belleville', 'Smoke Signals', 'American Splendor', 'Before Sunset', 'Amores perros', 'Thirteen', \"Gentleman's Agreement\", \"Winter's Bone\", 'Touching the Void', \"Alexander's Ragtime Band\", 'Me and You and Everyone We Know', 'Inside Job', 'We Are Your Friends', 'Ghost Dog: The Way of the Samurai', 'Harsh Times', 'Captive', 'Full Frontal', 'Witchboard', 'Shortbus', 'Waltz with Bashir', 'The Book of Mormon Movie, Volume 1: The Journey', 'No End in Sight', 'The Diary of a Teenage Girl', 'In the Shadow of the Moon', \"Meek's Cutoff\", 'Inside Deep Throat', 'Dinner Rush', 'Clockwatchers', 'The Virginity Hit', 'Subway', 'House of D', 'Teeth', 'Six-String Samurai', 'Hum To Mohabbat Karega', \"It's All Gone Pete Tong\", 'Saint John of Las Vegas', '24 7: Twenty Four Seven', 'Stonewall', 'Roadside Romeo', 'This Thing of Ours', 'The Lost Medallion: The Adventures of Billy Stone', 'The Last Five Years', 'The Missing Person', 'Return of the Living Dead 3', 'London', 'Sherrybaby', 'Circle', 'Eden Lake', 'Plush', 'Lesbian Vampire Killers', \"Gangster's Paradise: Jerusalema\", 'Freeze Frame', 'Grave Encounters', 'Stitches', 'Nine Dead', 'To Be Frank, Sinatra at 100', 'Bananas', 'Supercapitalist', 'Rockaway', 'The Lady from Shanghai', \"No Man's Land: The Rise of Reeker\", 'Highway', 'Small Apartments', 'Coffee Town', 'The Ghastly Love of Johnny X', 'All Is Bright', 'The Torture Chamber of Dr. Sadism', \"Straight A's\", 'A Funny Thing Happened on the Way to the Forum', 'Slacker Uprising', \"The Legend of Hell's Gate: An American Conspiracy\", 'The Walking Deceased', 'The Curse of Downers Grove', 'Shark Lake', \"River's Edge\", 'Northfork', 'The Marine 4: Moving Target', 'Buried', 'Submarine', 'The Square', 'One to Another', 'ABCD (Any Body Can Dance)', 'Man on Wire', 'Abandoned', 'Brotherly Love', 'The Last Exorcism', 'Nowhere Boy', 'A Streetcar Named Desire', 'Dr. Strangelove or: How I Learned to Stop Worrying and Love the Bomb', 'The Crime of Padre Amaro', 'Beasts of the Southern Wild', 'Battle for the Planet of the Apes', 'Songcatcher', 'Higher Ground', 'Vaalu', 'The Greatest Movie Ever Sold', 'Ed and His Dead Mother', 'Travellers and Magicians', \"Hang 'em High\", 'Deadline - U.S.A.', 'Sublime', \"A Beginner's Guide to Snuff\", 'Independence Daysaster', 'Dysfunctional Friends', 'Run Lola Run', 'May', 'Against the Wild', 'Under the Same Moon', 'Conquest of the Planet of the Apes', 'In the Bedroom', 'I Spit on Your Grave', 'Happy, Texas', 'My Summer of Love', 'The Lunchbox', 'Yes', \"You Can't Take It With You\", 'From Here to Eternity', 'She Wore a Yellow Ribbon', 'Grace Unplugged', 'Foolish', 'N-Secure', 'Caramel', 'Out of the Dark', 'The Bubble', 'The Conversation', 'Dil Jo Bhi Kahey...', 'Mississippi Mermaid', 'I Love Your Work', 'Cabin Fever', 'Waitress', 'Bloodsport', 'Mr. Smith Goes to Washington', 'Kids', 'The Squid and the Whale', 'Kissing Jessica Stein', 'Kickboxer: Vengeance', 'Spellbound', 'Exotica', \"Buffalo '66\", 'Insidious', 'Repo Man', 'Nine Queens', 'The Gatekeepers', 'The Ballad of Jack and Rose', 'The To Do List', 'Killing Zoe', 'The Believer', 'Snow Angels', 'Unsullied', 'Session 9', 'I Want Someone to Eat Cheese With', 'Mooz-lum', 'Hatchet', 'Modern Times', 'Stolen Summer', 'My Name Is Bruce', 'The Salon', 'Road Hard', 'Forty Shades of Blue', 'Amigo', 'Pontypool', 'Trucker', 'Me You and Five Bucks', 'The Lords of Salem', 'Housebound', 'Wal-Mart: The High Cost of Low Price', 'Fetching Cody', 'Last I Heard', 'Closer to the Moon', 'Mutant World', 'Growing Up Smith', 'Checkmate', '#Horror', 'Wind Walkers', 'Snow White and the Seven Dwarfs', 'The Holy Girl', 'Shalako', 'Incident at Loch Ness', 'The Dog Lover', 'GirlHouse', 'The Blue Room', 'House at the End of the Drive', 'Batman', 'Lock, Stock and Two Smoking Barrels', 'The Ballad of Gregorio Cortez', 'The Celebration', 'Trees Lounge', 'Journey from the Fall', 'The Basket', 'Eddie: The Sleepwalking Cannibal', 'Queen of the Mountains', 'Def-Con 4', 'The Hebrew Hammer', \"Neal 'n' Nikki\", 'The 41–Year–Old Virgin Who Knocked Up Sarah Marshall and Felt Superbad About It', 'Forget Me Not', 'Rebecca', 'Friday the 13th Part 2', 'The Lost Weekend', 'C.H.U.D.', 'Filly Brown', 'The Lion of Judah', 'Niagara', 'How Green Was My Valley', 'Da Sweet Blood of Jesus', 'Sex, Lies, and Videotape', 'Saw', 'Super Troopers', 'The Algerian', 'The Amazing Catfish', 'Monsoon Wedding', 'You Can Count on Me', 'The Trouble with Harry', \"But I'm a Cheerleader\", 'Home Run', 'Reservoir Dogs', 'The Blue Bird', 'The Good, the Bad and the Ugly', 'The Second Mother', 'Blue Like Jazz', 'Down & Out With The Dolls', 'Pink Ribbons, Inc.', 'Certifiably Jonathan', 'Desire', 'The Blade of Don Juan', 'Grand Theft Parsons', 'Extreme Movie', 'The Charge of the Light Brigade', 'Below Zero', 'Crowsnest', 'Airborne', 'Cotton Comes to Harlem', 'The Wicked Within', 'Bleeding Hearts', 'Waiting...', \"Dead Man's Shoes\", 'From a Whisper to a Scream', 'Sex With Strangers', \"Dracula: Pages from a Virgin's Diary\", 'Faith Like Potatoes', 'Beyond the Black Rainbow', 'The Raid', 'The Dead Undead', 'The Vatican Exorcisms', 'Casablanca', 'Lake Mungo', 'Rocket Singh: Salesman of the Year', 'Silent Running', 'Rocky', 'The Sleepwalker', 'Tom Jones', 'Unfriended', 'Taxi Driver', 'The Howling', 'Dr. No', 'Chernobyl Diaries', 'Hellraiser', \"God's Not Dead 2\", 'Cry_Wolf', 'Godzilla 2000', 'Blue Valentine', 'Transamerica', 'The Devil Inside', 'Beyond the Valley of the Dolls', 'Love Me Tender', 'An Inconvenient Truth', 'Sands of Iwo Jima', 'Shine a Light', 'The Green Inferno', 'Departure', 'The Sessions', 'Food, Inc.', 'October Baby', 'Next Stop Wonderland', 'The Skeleton Twins', 'Martha Marcy May Marlene', 'Obvious Child', 'Frozen River', '20 Feet from Stardom', 'Two Girls and a Guy', 'Walking and Talking', 'Who Killed the Electric Car?', 'The Broken Hearts Club: A Romantic Comedy', 'Bubba Ho-tep', 'Slam', 'Brigham City', 'Fiza', 'Orgazmo', 'All the Real Girls', 'Dream with the Fishes', 'Blue Car', 'Palo Alto', 'Ajami', 'Wristcutters: A Love Story', 'I Origins', 'The Battle of Shaker Heights', 'The Act of Killing', 'Taxi to the Dark Side', 'Once in a Lifetime: The Extraordinary Story of the New York Cosmos', 'Guiana 1838', 'Lisa Picard Is Famous', 'Antarctica: A Year on Ice', 'A LEGO Brickumentary', 'Hardflip', 'Chocolate: Deep Dark Secrets', 'The House of the Devil', 'The Perfect Host', 'Safe Men', 'Speedway Junky', 'The Last Big Thing', 'The Specials', '16 to Life', 'Alone With Her', 'Creative Control', 'Special', 'Sparkler', 'The Helix... Loaded', 'In Her Line of Fire', 'The Jimmy Show', 'Heli', 'Karachi se Lahore', 'Loving Annabelle', 'Hits', 'Jimmy and Judy', 'Frat Party', \"The Party's Over\", 'Proud', 'The Poker House', 'Childless', 'ZMD: Zombies of Mass Destruction', 'Snow White: A Deadly Summer', 'Hidden Away', 'My Last Day Without You', 'Steppin: The Movie', \"Doc Holliday's Revenge\", 'Black Rock', 'Truth or Dare', 'The Pet', 'Bang Bang Baby', 'Fear Clinic', 'Zombie Hunter', 'A Fine Step', 'Charly', 'Banshee Chapter', 'Ask Me Anything', 'And Then Came Love', 'Food Chains', 'On the Waterfront', 'L!fe Happens', '4 Months, 3 Weeks and 2 Days', 'The Horror Network Vol. 1', 'Hard Candy', 'The Quiet', 'Circumstance', 'Fruitvale Station', 'The Brass Teapot', 'Bambi', 'The Hammer', 'Latter Days', 'Elza', '1982', 'For a Good Time, Call...', 'Celeste & Jesse Forever', 'Time Changer', 'London to Brighton', 'American Hero', 'Windsor Drive', 'A Separation', 'Crying with Laughter', 'Welcome to the Dollhouse', 'Ruby in Paradise', 'Raising Victor Vargas', \"Pandora's Box\", 'Harrison Montgomery', 'Live-In Maid', 'Deterrence', 'The Mudge Boy', 'The Young Unknowns', 'Not Cool', 'Dead Snow', 'Saints and Soldiers', 'Vessel', 'American Graffiti', 'Iraq for Sale: The War Profiteers', 'Aqua Teen Hunger Force Colon Movie Film for Theaters', 'Safety Not Guaranteed', 'Kevin Hart: Laugh at My Pain', 'Kill List', 'The Innkeepers', 'The Conformist', 'Interview with the Assassin', 'Donkey Punch', 'All the Boys Love Mandy Lane', 'Bled', 'High Noon', 'Hoop Dreams', 'Rize', 'L.I.E.', 'The Sisterhood of Night', 'B-Girl', 'Half Nelson', 'Naturally Native', 'Hav Plenty', 'Adulterers', 'Escape from Tomorrow', 'Starsuckers', 'The Hadza:  Last of the First', 'After', 'Treachery', 'Walter', 'Top Hat', 'The Blair Witch Project', 'Woodstock', 'The Kentucky Fried Movie', 'Mercy Streets', 'Carousel of Revenge', 'Broken Vessels', 'Water & Power', 'They Will Have to Kill Us First', 'Light from the Darkroom', 'The Country Doctor', \"The Maid's Room\", \"A Hard Day's Night\", 'The Harvest (La Cosecha)', 'Love Letters', 'Juliet and Alfa Romeo', 'Fireproof', 'Faith Connections', 'Benji', 'Open Water', 'High Road', 'Kingdom of the Spiders', 'Mad Hot Ballroom', 'The Station Agent', 'To Save A Life', 'Wordplay', 'Beyond the Mat', 'The Singles Ward', 'Osama', 'Sholem Aleichem: Laughing In The Darkness', 'Groove', 'The R.M.', 'Twin Falls Idaho', 'Mean Creek', 'Hurricane Streets', 'Never Again', 'Civil Brand', 'Lonesome Jim', 'Drinking Buddies', 'Deceptive Practice: The Mysteries and Mentors of Ricky Jay', 'Seven Samurai', 'The Other Dream Team', 'Johnny Suede', 'Finishing The Game', 'Rubber', 'Kiss the Bride', 'The Slaughter Rule', 'Monsters', 'The Californians', 'The Living Wake', 'Detention of the Dead', 'Crazy Stone', 'Scott Walker: 30 Century Man', 'Everything Put Together', 'Good Kill', 'The Outrageous Sophie Tucker', 'Now Is Good', 'Girls Gone Dead', 'America Is Still the Place', 'Subconscious', 'Enter Nowhere', 'El Rey de Najayo', 'Fight to the Finish', \"Alleluia! The Devil's Carnival\", 'The Sound and the Shadow', 'Rodeo Girl', 'Born to Fly: Elizabeth Streb vs. Gravity', 'The Little Ponderosa Zoo', 'The Toxic Avenger', 'Straight Out of Brooklyn', 'Bloody Sunday', 'Diamond Ruff', 'Conversations with Other Women', 'Poultrygeist: Night of the Chicken Dead', 'Mutual Friends', '42nd Street', 'Rise of the Entrepreneur: The Search for a Better Way', 'Metropolitan', 'As It Is in Heaven', 'Roadside', 'Napoleon Dynamite', 'Blue Ruin', 'Paranormal Activity', 'Dogtown and Z-Boys', 'Monty Python and the Holy Grail', 'Quinceañera', 'Gory Gory Hallelujah', 'Tarnation', 'I Want Your Money', 'Love in the Time of Monsters', 'The Beyond', 'What Happens in Vegas', 'The Dark Hours', 'My Beautiful Laundrette', 'Fabled', 'Show Me', 'Cries and Whispers', 'Intolerance', 'Trekkies', 'The Broadway Melody', 'The Evil Dead', 'Maniac', 'Censored Voices', 'Murderball', 'American Ninja 2: The Confrontation', '51 Birch Street', 'Rotor DR1', '12 Angry Men', 'My Dog Tulip', 'It Happened One Night', 'Dogtooth', 'Tupac: Resurrection', 'Tumbleweeds', 'The Prophecy', \"When the Cat's Away\", 'Pieces of April', 'The Big Swap', 'Old Joy', 'Wendy and Lucy', '3 Backyards', 'Pierrot le Fou', 'Sisters in Law', 'Ayurveda: Art of Being', 'Nothing But a Man', 'First Love, Last Rites', 'Fighting Tommy Riley', 'Royal Kill', 'The Looking Glass', 'Death Race 2000', 'Locker 13', 'Midnight Cabaret', \"Anderson's Cross\", 'Bizarre', 'Graduation Day', 'Some Guy Who Kills People', 'Compliance', 'Chasing Amy', 'Lovely & Amazing', 'Death Calls', 'Better Luck Tomorrow', 'The Incredibly True Adventure of Two Girls In Love', 'Chuck & Buck', 'American Desi', \"Amidst the Devil's Wings\", 'Cube', 'Love and Other Catastrophes', 'I Married a Strange Person!', 'November', 'Like Crazy', 'Teeth and Blood', 'Sugar Town', 'The Motel', 'The Canyons', 'On the Outs', 'Shotgun Stories', 'Exam', 'The Sticky Fingers of Time', 'Sunday School Musical', 'Rust', 'Ink', 'The Christmas Bunny', 'Butterfly', 'UnDivided', 'The Frozen', 'Horse Camp', 'Give Me Shelter', 'The Big Parade', 'Little Big Top', 'Along the Roadside', 'Bronson', 'Western Religion', 'Burn', 'Urbania', 'The Stewardesses', 'The Beast from 20,000 Fathoms', 'Mad Max', 'Swingers', 'A Fistful of Dollars', 'She Done Him Wrong', 'Short Cut to Nirvana: Kumbh Mela', 'The Grace Card', 'Middle of Nowhere', 'Three', 'The Business of Fancydancing', 'Call + Response', 'Malevolence', 'Reality Show', 'Super Hybrid', 'Baghead', 'American Beast', 'The Case of the Grinning Cat', 'Ordet', 'Good Dick', 'The Man from Earth', 'The Trials Of Darryl Hunt', 'Samantha: An American Girl Holiday', 'Yesterday Was a Lie', 'Theresa Is a Mother', 'H.', 'Archaeology of a Woman', 'Children of Heaven', 'Weekend', \"She's Gotta Have It\", 'Butterfly Girl', 'The World Is Mine', 'Another Earth', \"Sweet Sweetback's Baadasssss Song\", 'Perfect Cowboy', 'Tadpole', 'Once', 'The Woman Chaser', 'The Horse Boy', 'When the Lights Went Out', 'Heroes of Dirt', 'A Charlie Brown Christmas', 'Antarctic Edge: 70° South', 'Aroused', 'Top Spin', 'Roger & Me', 'An American in Hollywood', 'Sound of My Voice', 'The Blood of My Brother: A Story of Death in Iraq', \"Your Sister's Sister\", \"A Dog's Breakfast\", 'The Married Woman', 'The Birth of a Nation', 'The Work and The Story', 'Facing the Giants', 'The Gallows', 'Eraserhead', 'Hollywood Shuffle', 'The Mighty', 'Penitentiary', 'The Lost Skeleton of Cadavra', \"Dude Where's My Dog?\", 'Cheap Thrills', 'Indie Game: The Movie', 'Straightheads', 'Open Secret', 'Echo Dr.', 'The Night Visitor', 'The Past Is a Grotesque Animal', 'Peace, Propaganda & the Promised Land', 'Pi', \"I Love You, Don't Touch Me!\", '20 Dates', 'Queen Crab', 'Super Size Me', 'The FP', 'Happy Christmas', \"The Brain That Wouldn't Die\", 'Tiger Orange', 'Supporting Characters', 'Absentia', 'The Brothers McMullen', 'The Dirties', 'Gabriela', 'Tiny Furniture', 'Hayride', 'The Naked Ape', 'Counting', 'The Call of Cthulhu', 'Bending Steel', 'The Signal', 'The Image Revolution', 'This Is Martin Bonner', 'A True Story', 'George Washington', 'Smiling Fish & Goat On Fire', 'Dawn of the Crescent Moon', 'Raymond Did It', 'The Last Waltz', 'Run, Hide, Die', 'The Exploding Girl', \"The Legend of God's Gun\", 'Mutual Appreciation', 'Her Cry: La Llorona Investigation', 'Down Terrace', 'Clerks', 'Pink Narcissus', 'Funny Ha Ha', 'In the Company of Men', 'Manito', 'Rampage', 'Slacker', 'Dutch Kills', 'Dry Spell', 'Flywheel', 'Backmask', 'The Puffy Chair', 'Stories of Our Lives', 'Breaking Upwards', 'All Superheroes Must Die', 'Pink Flamingos', 'Clean', 'The Circle', 'Tin Can Man', 'Cure', 'On The Downlow', 'Sanctuary: Quite a Conundrum', 'Bang', 'Primer', 'Cavite', 'El Mariachi', 'Newlyweds', 'Signed, Sealed, Delivered', 'Shanghai Calling', 'My Date with Drew']\n"
          ]
        }
      ]
    },
    {
      "cell_type": "code",
      "source": [
        "# finding the close match for the movie namegiven by the user\n",
        "find_close_match=difflib.get_close_matches(movie_name, list_of_all_titles)\n",
        "print(find_close_match)\n"
      ],
      "metadata": {
        "colab": {
          "base_uri": "https://localhost:8080/"
        },
        "id": "a8Msb7aGqiIR",
        "outputId": "5d4cf653-be73-4c82-bbd6-8918394287aa"
      },
      "execution_count": null,
      "outputs": [
        {
          "output_type": "stream",
          "name": "stdout",
          "text": [
            "['Slam', 'Bandslam', 'Osama']\n"
          ]
        }
      ]
    },
    {
      "cell_type": "code",
      "source": [
        "close_match=find_close_match[0]\n",
        "print(close_match)"
      ],
      "metadata": {
        "colab": {
          "base_uri": "https://localhost:8080/"
        },
        "id": "2OHq70z3rYwj",
        "outputId": "eb5821b1-13e5-4a3c-92c1-d5e3aea43631"
      },
      "execution_count": null,
      "outputs": [
        {
          "output_type": "stream",
          "name": "stdout",
          "text": [
            "Slam\n"
          ]
        }
      ]
    },
    {
      "cell_type": "code",
      "source": [
        "# finding the index of the movie with title\n",
        "\n",
        "index_of_the_movie=data[data.title==close_match]['index'].values[0]\n",
        "print(index_of_the_movie)"
      ],
      "metadata": {
        "colab": {
          "base_uri": "https://localhost:8080/"
        },
        "id": "OQrZwyG5rwPL",
        "outputId": "fbe93585-dccd-4a84-ced4-315de618ab14"
      },
      "execution_count": null,
      "outputs": [
        {
          "output_type": "stream",
          "name": "stdout",
          "text": [
            "4369\n"
          ]
        }
      ]
    },
    {
      "cell_type": "code",
      "source": [
        "# getting the list of similar movies\n",
        "similarity_score=list(enumerate(similarity[index_of_the_movie]))"
      ],
      "metadata": {
        "id": "UdThxKHOsTKD"
      },
      "execution_count": null,
      "outputs": []
    },
    {
      "cell_type": "code",
      "source": [
        "len(similarity_score)"
      ],
      "metadata": {
        "colab": {
          "base_uri": "https://localhost:8080/"
        },
        "id": "8qwNkew_GeEo",
        "outputId": "0149b22d-495f-44da-fb56-fa763475cc69"
      },
      "execution_count": null,
      "outputs": [
        {
          "output_type": "execute_result",
          "data": {
            "text/plain": [
              "4803"
            ]
          },
          "metadata": {},
          "execution_count": 39
        }
      ]
    },
    {
      "cell_type": "code",
      "source": [
        "# sorting the movies based on their similarity score\n",
        "sorted_similar_movies=sorted(similarity_score, key=lambda x:x[1], reverse=True)\n",
        "\n",
        "print(sorted_similar_movies)"
      ],
      "metadata": {
        "colab": {
          "base_uri": "https://localhost:8080/"
        },
        "id": "1H4swvQ8GhlH",
        "outputId": "a0441901-2b68-46ed-f81e-07a805133bcb"
      },
      "execution_count": null,
      "outputs": [
        {
          "output_type": "stream",
          "name": "stdout",
          "text": [
            "[(4369, 1.0000000000000002), (2882, 0.11763990632719744), (988, 0.10890565772380978), (3614, 0.10483330274541063), (4583, 0.10135584769772266), (3649, 0.0989874370388891), (1145, 0.09867416037415383), (409, 0.09672333541928171), (3436, 0.0964596258915286), (4548, 0.09395491925805981), (4758, 0.09342386227228329), (3868, 0.09204471120051881), (1181, 0.08564067078631397), (4376, 0.08548545474381739), (156, 0.0810665720398912), (1967, 0.07722165460425078), (3710, 0.07706002786332472), (2297, 0.07494094036434386), (24, 0.07453572063248542), (4165, 0.07255211368735197), (1048, 0.0722885791952059), (3315, 0.07223608261958389), (4498, 0.06975506823302895), (4317, 0.06975480991429632), (118, 0.06886587522488562), (1028, 0.06876466016135177), (4298, 0.06842727453721623), (4172, 0.06796365142547317), (4514, 0.06757585794208389), (54, 0.06698847623544445), (1398, 0.06670246197364466), (4100, 0.06656558689777095), (4589, 0.06606736323594886), (3768, 0.06555915397190999), (1763, 0.06524374790038345), (1296, 0.064783838772455), (3965, 0.06375688860945923), (3387, 0.06363090591928315), (2627, 0.06350890739205695), (4606, 0.0625862356483707), (3287, 0.062131995738138185), (1774, 0.06173468450568996), (3511, 0.061732423664015317), (2589, 0.06169893354678235), (4222, 0.06076400604913536), (3977, 0.06014128809363272), (1666, 0.05996608878614636), (3469, 0.05788372451557529), (3634, 0.0577968195991871), (3719, 0.05764048853643637), (3607, 0.05747476072938277), (3571, 0.05738359217699994), (3981, 0.057335587913155586), (1492, 0.057329210821098354), (2286, 0.05699856198000899), (1276, 0.056949607710994735), (3759, 0.05645459262815588), (2353, 0.056298141353002144), (4096, 0.056152614905849746), (3842, 0.055591686273184476), (3411, 0.054895853128797675), (3984, 0.05421867550583638), (862, 0.05370249750505258), (2722, 0.05368987305238562), (4679, 0.0533940921055602), (2857, 0.053159812921246774), (2521, 0.053033388645536195), (1675, 0.05289072120287112), (3331, 0.05277358841172998), (4236, 0.052561999012781996), (3647, 0.05251867871635833), (3588, 0.051887827260528326), (2721, 0.05185875895855322), (3741, 0.05184324017219119), (2335, 0.05182447318005589), (547, 0.05176323953315835), (348, 0.05171375721189654), (4038, 0.051529661426710775), (3706, 0.051366665377834735), (964, 0.051335473430172286), (710, 0.05126356914208743), (4296, 0.05121889455803441), (3405, 0.05107791348925295), (1903, 0.051039341936043224), (2372, 0.05045728040187424), (2519, 0.05030738251598432), (4291, 0.05027150185517952), (3135, 0.050141078673160575), (3521, 0.05013940713661069), (1772, 0.050095628842751705), (2986, 0.05005218979090889), (3195, 0.04988343098823541), (787, 0.04973064164059203), (3221, 0.049708884714071755), (3134, 0.049462894128931234), (4721, 0.04935073662633778), (1026, 0.049316569482795725), (2958, 0.04921011906913952), (4572, 0.04901110841403296), (1852, 0.04894309131227394), (2717, 0.04882624299195948), (4277, 0.048562341932801345), (1120, 0.04843421261829747), (3493, 0.04840722003095517), (2178, 0.04839534066373153), (1277, 0.048346633500613106), (2239, 0.048342679451524984), (2433, 0.04826563696706976), (4678, 0.04797158693822933), (4358, 0.047966000545048876), (2053, 0.047648928966169055), (2132, 0.04763215355135434), (4408, 0.04758736147320388), (3503, 0.04751494399234424), (1565, 0.047288766005458845), (4399, 0.04726070566715743), (1265, 0.0471090185295179), (1444, 0.046906886319415), (4243, 0.046881698172323474), (20, 0.046714118914273094), (1544, 0.046697305105004), (4662, 0.04664064932330535), (3921, 0.04656057997707314), (3064, 0.04637038022153825), (4366, 0.04634625900813119), (3927, 0.046343191171166406), (4614, 0.04618802555312211), (3363, 0.04598768276789176), (4607, 0.04586726210184424), (3472, 0.04581036625278784), (3116, 0.04567832751060325), (4422, 0.04558868458612802), (101, 0.04558358943061408), (4547, 0.04517582186722795), (959, 0.04517269721917069), (3110, 0.04516979638553666), (4691, 0.04513137160300934), (4112, 0.04513000562185633), (2188, 0.045026209210160685), (4280, 0.04496777578556771), (3922, 0.044896436805652855), (1085, 0.04487380617343732), (4527, 0.0448600558492053), (2506, 0.04477843607551703), (2425, 0.04475201844580329), (4540, 0.044597959154014294), (4770, 0.044555657964935096), (3693, 0.04454624308245034), (4640, 0.044488330090489865), (4101, 0.04424217881112461), (2830, 0.04393934648953925), (3925, 0.04367480311155357), (4762, 0.04357028346419329), (4578, 0.043568235037628064), (3117, 0.043453237586867414), (1921, 0.04341568901099268), (4120, 0.04334402955454261), (3239, 0.043235908012038554), (3990, 0.04314009650124468), (4768, 0.043041550309197936), (915, 0.043014814614801326), (3186, 0.042986686718343825), (3805, 0.042978502744232865), (3681, 0.0429425074906522), (4455, 0.04292012684981554), (3189, 0.04291677266646599), (4077, 0.0428942004718299), (3969, 0.04286868558487421), (1842, 0.04285514036562739), (4251, 0.042767251587882436), (4620, 0.042705429942795775), (2806, 0.04268337495006323), (4610, 0.04255403908553708), (2713, 0.042450864639719546), (4010, 0.04244456554775706), (4177, 0.042346712243987755), (1603, 0.04232274294401052), (3452, 0.042267240320891096), (1935, 0.042215503608759704), (4696, 0.04220980727475805), (14, 0.042048832252936444), (3397, 0.04200509392267253), (4019, 0.04194942528749114), (2552, 0.04178843456520852), (3222, 0.041716861583786694), (2004, 0.04162862065186755), (3276, 0.04150552506472205), (4054, 0.04140753390249291), (4375, 0.04140218234270582), (3291, 0.04137622870084805), (1393, 0.04135276894745344), (2016, 0.04133756031755249), (1378, 0.04118322785471253), (3932, 0.041172661781167005), (3289, 0.04103407520740887), (797, 0.04095355677804468), (3796, 0.04086353321852175), (4456, 0.040809731358144447), (1874, 0.040785091889618694), (4127, 0.04076400162487576), (4397, 0.04074453765215177), (314, 0.04070182573940538), (3488, 0.040565430807592034), (3183, 0.04054004642940945), (647, 0.04051228587886134), (4361, 0.04048144242200908), (2969, 0.040471440451679844), (724, 0.04033122446956573), (3550, 0.04019530683514259), (3125, 0.04016000772740556), (4519, 0.04001371784675137), (1868, 0.03996783387713581), (697, 0.03996450612817825), (4130, 0.039871141089888644), (2459, 0.03973598190566219), (3869, 0.039687539129872995), (4654, 0.03966468939900535), (4544, 0.039630927565437304), (3575, 0.03960991166810093), (3181, 0.039594260571697806), (4565, 0.0394510545297518), (4271, 0.039414421120523714), (2242, 0.039381142948414445), (4063, 0.03933523848496938), (3339, 0.0392889785799858), (4525, 0.0392793652568768), (123, 0.039278286166644236), (4323, 0.03920725186502777), (4307, 0.039205690434600406), (257, 0.03909863525137764), (1506, 0.03909420887971621), (3465, 0.039014977793679705), (3633, 0.03897179902643537), (524, 0.038948980240889816), (38, 0.03893107447302588), (4106, 0.03892221020786134), (1360, 0.03888360401316538), (3944, 0.038880062704336575), (4238, 0.038838757411672295), (1949, 0.03883339552671026), (327, 0.0387587064614867), (4179, 0.03872792198916575), (3435, 0.038718364756237605), (1805, 0.03869604994597377), (4029, 0.03862106505330026), (4538, 0.03857540745071311), (3201, 0.03846790433830335), (4218, 0.03825904922345371), (4235, 0.03822033150315036), (4378, 0.038045012440592954), (1563, 0.03802631913613011), (3196, 0.03797901694206049), (4661, 0.0379344719447349), (3506, 0.03792873454045015), (2361, 0.03791959244705582), (3651, 0.03791943662177852), (2171, 0.037836296518773294), (3040, 0.03774618541034433), (45, 0.037684181166292775), (3092, 0.03766884066676727), (3236, 0.03764325925646026), (4178, 0.03760460771041), (3500, 0.037573406640709996), (2741, 0.037552132989959734), (2640, 0.037533604151553414), (493, 0.03751841437284858), (3763, 0.037516401012280425), (3494, 0.037457291589109126), (3800, 0.037433504314098934), (1977, 0.03742472290472677), (2010, 0.03741654654298309), (4379, 0.03737910850241142), (4786, 0.03735176530450256), (3621, 0.03731925290880509), (2763, 0.03730477184414164), (648, 0.037228627783889454), (3217, 0.0372002646660952), (3959, 0.03715537143777887), (3393, 0.03712032347839184), (3847, 0.03707215084042053), (4615, 0.03700396111453229), (3712, 0.03695152388114598), (4776, 0.03691290396618009), (4373, 0.03688302533806359), (4272, 0.03686758177721678), (3480, 0.036832587917328505), (1761, 0.03678921364828771), (2024, 0.03678835953369565), (4635, 0.036775545306840685), (4310, 0.03671545396494987), (4365, 0.03666836548135734), (2415, 0.03665564895325084), (4117, 0.036610443629643726), (3141, 0.0365998837559101), (489, 0.03657401070000656), (2131, 0.03655413021998349), (3903, 0.03653625607869944), (1659, 0.03653081880899308), (962, 0.03650113132343109), (4688, 0.03650004322447804), (4412, 0.03646611431141465), (1640, 0.0364601740417345), (795, 0.03644772166119929), (4241, 0.036351677010216285), (2764, 0.03628981419437555), (4750, 0.03622715675240225), (3041, 0.036216577546831115), (4703, 0.03614893145615508), (4041, 0.03611452249089273), (3627, 0.036099354940523964), (1216, 0.03601898145226103), (1893, 0.0359855816824942), (1426, 0.035952378192191235), (3267, 0.03594717740559951), (4523, 0.035942744337746566), (3789, 0.03589795378657219), (860, 0.03586112465305677), (1705, 0.03585752733483469), (4636, 0.03581408070639973), (2718, 0.03579571346868633), (3320, 0.035785801635731106), (829, 0.03570081563666783), (2558, 0.0356674436115501), (2686, 0.03562760914652606), (1419, 0.035615705000253475), (4715, 0.03557140691605469), (4374, 0.03556911792625476), (1564, 0.03549674942828157), (4182, 0.035438697624038173), (3690, 0.03539767809426959), (3675, 0.03535763762923642), (4706, 0.03534906951620728), (1243, 0.03534606092125784), (3395, 0.035300655210477434), (2246, 0.035250342427003034), (3303, 0.035209318218686544), (1112, 0.03516388192875688), (1595, 0.035048957806217154), (2950, 0.03496479586278968), (3447, 0.03494439126061555), (4485, 0.03493497101030682), (2216, 0.0348926707761216), (2608, 0.0348899582665826), (3780, 0.034832134594340196), (703, 0.03483194221547804), (1467, 0.034757403153893765), (4192, 0.0346918428659681), (4228, 0.0346820599950873), (4163, 0.03465848968931111), (3872, 0.03456896988289693), (3914, 0.034558152586813475), (4496, 0.0345429129306273), (1069, 0.03452075839893874), (2683, 0.034448885457444116), (3482, 0.03439394517636918), (3006, 0.03436896421381243), (1490, 0.03428074356623465), (3678, 0.034255507845692305), (4021, 0.03415066892296828), (3321, 0.03404172351067257), (1775, 0.03394880633037713), (3313, 0.03394819387786144), (11, 0.03388712992153334), (2970, 0.03380799457123741), (4204, 0.033793231933279815), (3356, 0.03379275948295017), (4430, 0.033792524308047564), (505, 0.03378204828973782), (1787, 0.033768837404561644), (4087, 0.033682297343685524), (634, 0.03364326840957542), (4169, 0.03363494631166389), (1904, 0.0335691182148132), (4687, 0.03350412964867136), (2465, 0.033477288652133355), (4095, 0.03346275432629397), (3453, 0.03346157852087186), (586, 0.0333563764392628), (2186, 0.03335396066250781), (2489, 0.033304291699722405), (1366, 0.03327378164143316), (4026, 0.03326302625652825), (88, 0.03312869996377096), (4697, 0.03307196411103387), (3039, 0.03306371010929211), (2870, 0.033003354570274354), (4613, 0.032886887668001547), (189, 0.032785273648768445), (3309, 0.032773583193050945), (4454, 0.032772918764757394), (1818, 0.03266900731710791), (3679, 0.0326473694016407), (4671, 0.032647265194528506), (441, 0.03264161247335849), (2405, 0.0326367425120086), (3375, 0.03230953545207508), (1611, 0.03228729014611369), (3683, 0.03227784066680707), (4449, 0.03218599337151625), (4558, 0.03211166872727843), (3187, 0.032078040985290525), (3151, 0.03206314395049445), (3846, 0.03205239463766384), (4115, 0.0320436708441931), (4718, 0.032022249594852704), (2679, 0.03199652391150523), (69, 0.03189609069648766), (4759, 0.031884713487865333), (1916, 0.03187558640067153), (3711, 0.03185652457512239), (4516, 0.03183420045571715), (4442, 0.0317238739102081), (1577, 0.03168524254557561), (2691, 0.03167902498231434), (3105, 0.03163757337837582), (2873, 0.031603737989914685), (3198, 0.031583711748771046), (1527, 0.031512682242513475), (2968, 0.03144251959444912), (3459, 0.031331236020951836), (2142, 0.031299491080745354), (439, 0.03129663575972917), (4262, 0.031291274211461356), (3709, 0.031189380125390555), (2789, 0.03103899963814923), (4701, 0.030890615530437784), (49, 0.030872042669806997), (3591, 0.030863974691662827), (632, 0.03084238191392228), (2044, 0.030817959659472406), (4287, 0.030800197289199402), (2128, 0.030782413776123202), (4209, 0.030720054862600526), (3305, 0.030711596676561696), (1, 0.030648326798941958), (2617, 0.030527509253369646), (4545, 0.030518398575529432), (2833, 0.03046855550875176), (1884, 0.03044668970041821), (4749, 0.030392586384716), (3770, 0.030298914696100944), (2730, 0.030188428645206853), (4196, 0.03005524334007499), (173, 0.030021908754250735), (2667, 0.03000195884141824), (3473, 0.029957502482739082), (3307, 0.02995689375333806), (1971, 0.02994372197146518), (3055, 0.02990001875933279), (2674, 0.02985248440387492), (3275, 0.029726385515910305), (2914, 0.02971844259385916), (4686, 0.02970775718687717), (4390, 0.029690248147718916), (1401, 0.02960185116383764), (4189, 0.029526996255064535), (3229, 0.02951562472583487), (4394, 0.029495300388495276), (1890, 0.029393330118513354), (4219, 0.02938857692317827), (905, 0.029372940007166767), (448, 0.029349163227705855), (3429, 0.029311804726274024), (3913, 0.029291654575726973), (1984, 0.029236612069637204), (3837, 0.02922305918250204), (3948, 0.029202530048450363), (4289, 0.02917933340419401), (670, 0.029108991810540386), (384, 0.0290784297713411), (2694, 0.029042210545652286), (922, 0.028992520842902856), (2181, 0.028975943967766142), (4345, 0.02891009860937388), (2068, 0.028665475024094847), (404, 0.028624572338874325), (3546, 0.028586604253361167), (286, 0.0285863546056819), (2539, 0.02851727650233276), (4714, 0.028440051656464852), (3505, 0.028308168412701833), (4551, 0.028264007326484996), (4467, 0.02824668968902097), (2878, 0.028225033518577792), (1446, 0.02798202345233067), (2757, 0.027892059856550785), (3620, 0.02787797249988402), (2247, 0.027849017297060796), (1187, 0.027789435559110908), (4482, 0.02776827357222987), (377, 0.027697354785321364), (978, 0.027693779233288), (642, 0.027637853707877746), (1837, 0.027621919739499654), (996, 0.02759431156251481), (310, 0.0275665948326861), (3658, 0.027532811000393637), (4221, 0.027502888489593796), (4109, 0.02748925631917904), (3529, 0.027366141812974545), (4586, 0.027319906025932705), (2330, 0.02702156388013112), (172, 0.02701375282029808), (2427, 0.026998386069446847), (1389, 0.026993066770211405), (3280, 0.026991619338003033), (2102, 0.02697926474101482), (3862, 0.02690817317772813), (4383, 0.02685097528675373), (2453, 0.026835978579322184), (3625, 0.02679760218114418), (1695, 0.026785918243778854), (470, 0.026775608186423466), (4007, 0.026757882049676343), (116, 0.026741535921332944), (2313, 0.026699320212035835), (2593, 0.026684486594421172), (37, 0.026382594036795114), (0, 0.02635231750048192), (2964, 0.02633570584391662), (4744, 0.026317328966238153), (4733, 0.026316047074707666), (778, 0.026311037064155718), (1898, 0.02624616851482092), (416, 0.026184851344209056), (256, 0.02618065593501358), (3330, 0.026175436463045848), (4407, 0.026148238241170803), (1668, 0.026125719792939015), (599, 0.026093149789173632), (627, 0.026029083679251077), (3973, 0.026000823443633903), (2975, 0.025969879984752475), (2262, 0.02596965754719485), (870, 0.025956195675056686), (3585, 0.025920104459365004), (592, 0.025859513048873402), (2049, 0.025780648428086812), (3516, 0.025723433699189613), (4392, 0.02567709545084998), (4427, 0.02563192281739482), (2498, 0.025581270495146507), (2243, 0.025552898186825903), (1032, 0.025545579456969364), (179, 0.025544597183360964), (2017, 0.02554293709417356), (4518, 0.025517748343947013), (420, 0.025469516150256746), (1990, 0.025388904596683505), (1500, 0.025379546333692795), (2960, 0.025342535874794705), (4448, 0.025270132279735992), (4433, 0.025269109072150183), (476, 0.025204476624161476), (809, 0.025139285321808598), (4024, 0.025010620578620094), (1089, 0.024966232876810903), (59, 0.024888356202681094), (484, 0.024851914734968457), (2213, 0.024824968644200418), (2962, 0.024788587380335566), (2549, 0.024727671944654632), (1264, 0.024644817849440333), (1033, 0.02461529697498936), (1250, 0.024574270145646126), (3023, 0.024568596993671615), (243, 0.02456060050212116), (1339, 0.024552771281790165), (450, 0.024504017253757338), (4224, 0.024485719546135747), (2052, 0.02448090533132901), (572, 0.02446040912604608), (385, 0.024432210948417597), (2155, 0.02442299178686938), (1271, 0.02428942675571677), (1202, 0.02428788615635561), (4331, 0.02428745584295246), (904, 0.02426468176881812), (2891, 0.024262454906095642), (4062, 0.024246429990775926), (1420, 0.02423336524280626), (1926, 0.024227523454567766), (1396, 0.024206420773789553), (2104, 0.024205072974454477), (2861, 0.024197972702923714), (2390, 0.02417618770308204), (3964, 0.024038274525673496), (531, 0.024037816682123965), (1961, 0.024037383718767624), (2978, 0.024018737715960043), (3899, 0.023969024876396093), (4088, 0.023899601692015045), (4638, 0.023833189735508867), (4097, 0.023761192526960653), (2474, 0.023737937783666757), (2211, 0.023716883426610335), (3255, 0.023685602325485385), (2164, 0.023644898068731195), (2727, 0.023640878239689925), (3579, 0.023623113600313286), (195, 0.023616092434390258), (121, 0.023586383197203645), (4594, 0.02350562070959209), (4526, 0.023483442690522285), (2773, 0.02347080534587051), (1093, 0.0234652877020985), (2129, 0.023452733130804503), (2227, 0.02343339766868859), (1896, 0.023412568614184972), (1369, 0.023412526983214395), (2085, 0.023385262660675005), (4276, 0.023383824861613136), (773, 0.023365119846991664), (2081, 0.023294316496780598), (4332, 0.02328994525470791), (4231, 0.023258367057915747), (412, 0.023247612744982354), (374, 0.02321331891082731), (2461, 0.023195198484930613), (1391, 0.02314290736437261), (2341, 0.023141204680704734), (880, 0.023124256047404267), (2624, 0.023061797018641382), (2086, 0.023052115985082357), (3907, 0.023048077858763408), (2790, 0.02300748233517127), (3966, 0.022983108707832225), (1164, 0.022903997499730978), (3838, 0.022893177213917627), (2842, 0.02285821519428923), (2532, 0.02285228707120951), (1689, 0.022852126556803493), (3106, 0.022837679354124236), (2476, 0.02281375003872584), (3227, 0.022734897984498292), (2550, 0.022726415739991002), (2387, 0.022642847150905664), (3390, 0.02260218683814284), (3030, 0.02258217260073456), (375, 0.022580791656040385), (1094, 0.02256967077936382), (4043, 0.022556998758823252), (2566, 0.022522196870237248), (1459, 0.022509916948109256), (3107, 0.02250245783359731), (2039, 0.02249060600210978), (2936, 0.02245628315898092), (2704, 0.02244860935847546), (2054, 0.02243764318081897), (4608, 0.022373868283654248), (130, 0.02237369163882525), (79, 0.022348710053403876), (2479, 0.0222917255231418), (1850, 0.022229968619676767), (1409, 0.022190585074300547), (2650, 0.02208436253659803), (528, 0.02203746159856014), (1372, 0.02201980520429018), (3205, 0.022009031591704482), (764, 0.02197273400224227), (2407, 0.021944134414929952), (3726, 0.021918068242084553), (4327, 0.021909264779227985), (566, 0.021908103429080342), (2938, 0.021835651221185682), (963, 0.021804889362727793), (4709, 0.0217721700879844), (4441, 0.021732235143522093), (3630, 0.021704494307244707), (1900, 0.021682819522535125), (1400, 0.02160775488410517), (1931, 0.02158749275508161), (4071, 0.021514030018393377), (3124, 0.021501149410154477), (4646, 0.02148732455518268), (1015, 0.021481490070821174), (4216, 0.021460381729855225), (3467, 0.021448167777085202), (2829, 0.021406041027465565), (3246, 0.021347110937508372), (4465, 0.021277007022385587), (2592, 0.021275883457965092), (1643, 0.021251645107814007), (1373, 0.021226669580571983), (1996, 0.021215706706908078), (236, 0.02114423504210905), (2431, 0.02110667348548187), (308, 0.021075793328929733), (2233, 0.021072421882562836), (2342, 0.021002876987432213), (192, 0.02095335026952843), (1176, 0.020947969096881198), (4159, 0.020933450798788136), (1811, 0.020892448393054475), (3527, 0.020849461241958193), (720, 0.020752812594187448), (1649, 0.020741672926609018), (1605, 0.020692587899753607), (3889, 0.020675571730400612), (3477, 0.020641538371378377), (1380, 0.020610288255868615), (2851, 0.02054587805521719), (2072, 0.02050739616579521), (3615, 0.020503810801715528), (1470, 0.02049614745867079), (3017, 0.02049528735730377), (4747, 0.02039531742975763), (2603, 0.020361667797306797), (4324, 0.02035613960964157), (1067, 0.02032783495742047), (3733, 0.02032574668893048), (1358, 0.02032000458386099), (2169, 0.020305352493888047), (2645, 0.020302139409750296), (1274, 0.02030169583006173), (3813, 0.02026710295178768), (889, 0.02024525011668421), (3881, 0.020233982072611456), (1802, 0.02019879732443865), (1404, 0.020185866862744532), (4051, 0.02000689199186777), (3501, 0.01998274461079519), (990, 0.019982188321370227), (1832, 0.019839511972612252), (677, 0.01982210312415447), (10, 0.019784441489028626), (3775, 0.019726134739447985), (2947, 0.01950333136639757), (2377, 0.01949225735552186), (3254, 0.019482454675379304), (1125, 0.019482412767386496), (2115, 0.019475761295730077), (437, 0.019447863253556), (3700, 0.01941173134832521), (2536, 0.019399552047881644), (3936, 0.019387904214511236), (1657, 0.019322791408807456), (95, 0.0192634902368743), (3836, 0.01916435021357829), (3197, 0.01915910658274096), (456, 0.019144067146697166), (1282, 0.019121728433684496), (3112, 0.01909648941770033), (3631, 0.019087676048543275), (3728, 0.019081385567524842), (628, 0.019047126532040517), (131, 0.018951316809480367), (1762, 0.01887570662113522), (832, 0.01883714508558518), (2488, 0.01882517524427375), (380, 0.01876579477360111), (294, 0.018762753838398163), (53, 0.018757841419205987), (2572, 0.01874176693023427), (2368, 0.01872282867277235), (4752, 0.01871887734881385), (3590, 0.01860977164932999), (2547, 0.018585154055550716), (111, 0.018576684762901183), (2522, 0.018574949538181264), (4371, 0.018567771286278983), (3821, 0.018555395175455274), (1820, 0.018553282449418305), (494, 0.018523063783377598), (3265, 0.018502549334131695), (3439, 0.018476967903090367), (617, 0.018461328871312528), (800, 0.018432009900961163), (3794, 0.018425657681071232), (196, 0.01842511353798811), (743, 0.018391038570877778), (512, 0.018380638877604046), (2091, 0.018361004310752996), (1332, 0.018360063690169435), (681, 0.018292706150800905), (858, 0.018237086052353583), (2346, 0.018226389248843865), (3761, 0.018219561343371105), (929, 0.018168862588409825), (680, 0.018162796169108965), (2710, 0.018130264724137462), (1406, 0.01812891110755385), (1091, 0.018097579701257575), (569, 0.018092833840208933), (878, 0.01804227896426689), (234, 0.018022751732624475), (2545, 0.018018909596649795), (401, 0.017952813619970028), (1945, 0.017947158423648905), (43, 0.017879762026290644), (3202, 0.0177958129878512), (4312, 0.017786106621286716), (1508, 0.01773872836733151), (2170, 0.017704323831207038), (2397, 0.01770396881147382), (1483, 0.01766402743252763), (30, 0.01766265921776306), (2576, 0.01763721601802475), (1322, 0.01760717358420021), (1074, 0.01756058339304592), (108, 0.017542091764096494), (3514, 0.01749420615863613), (2946, 0.017481481489019506), (4726, 0.017444085878116664), (96, 0.017438579927700513), (1375, 0.01741914663530487), (387, 0.017391619583588144), (1510, 0.017362157702429683), (4579, 0.017361660959721956), (1617, 0.017351223002177826), (169, 0.017341797135326922), (4311, 0.01732016702689927), (585, 0.017311128668228593), (1719, 0.017308850456233035), (87, 0.017302422602370623), (2798, 0.017285087456341677), (1518, 0.0172519264409303), (267, 0.017172539195252506), (473, 0.01716792874774392), (4591, 0.017128512354674368), (4, 0.01712799454495836), (361, 0.01711029241520571), (4240, 0.017092237459243716), (1279, 0.017073066757536146), (2402, 0.01703282048389625), (217, 0.016991762957344794), (149, 0.01697921955568181), (150, 0.0169528379495329), (93, 0.01691577404180631), (3450, 0.01688179630027212), (1275, 0.0168630300118103), (3776, 0.016854757972235866), (1019, 0.016775523589504033), (175, 0.016775026906897073), (3056, 0.016774535084371666), (722, 0.016751744342131412), (212, 0.016743377247101957), (3433, 0.016722579695941608), (1839, 0.016707545491902932), (813, 0.016691419849666884), (244, 0.01668413077339515), (2429, 0.016681237568602233), (2100, 0.016678984486253944), (2311, 0.016591926735627954), (1364, 0.016581420686290562), (2384, 0.016525565190774742), (582, 0.016512092825068953), (1451, 0.016469883764229015), (2470, 0.016463011949275227), (1134, 0.01638407036910402), (2514, 0.016366734684887793), (516, 0.01636009083841506), (63, 0.01625527161338608), (3031, 0.01625341145666523), (1877, 0.016203839960333487), (1854, 0.016192715269732254), (739, 0.01616337113391165), (336, 0.01613436197615157), (1724, 0.016115001720467398), (1655, 0.016111390885376962), (1159, 0.016093730414335164), (1970, 0.016080770009817145), (125, 0.016070257620074864), (2307, 0.01606473207473142), (577, 0.016056104913858768), (969, 0.016033897034061603), (2989, 0.015996559566591028), (3684, 0.015966244442209093), (1207, 0.015955455012314115), (481, 0.01595335399909036), (232, 0.01594664148133039), (955, 0.015841366245591983), (4162, 0.015839696936342015), (3751, 0.01579612445732014), (2430, 0.01577666234929052), (2535, 0.015770836964092944), (2349, 0.01576522774454018), (1708, 0.01575539622425658), (3804, 0.015740880095314675), (1097, 0.01573353810537858), (3029, 0.015718622856957208), (318, 0.01566287113892732), (1848, 0.015648387637482438), (2759, 0.015596874656107465), (854, 0.015586594204441872), (1079, 0.015571473468041299), (1438, 0.01555792923398388), (1059, 0.015554455538674301), (2994, 0.015546215117178484), (1044, 0.015537391300242391), (692, 0.015491877652777769), (3012, 0.015483802232009014), (914, 0.015482719891574185), (1871, 0.015473166277192847), (1846, 0.015470055009729719), (1031, 0.01545955858717805), (1006, 0.015441561840676564), (1747, 0.015428899304547352), (1471, 0.015421208942831825), (525, 0.015402339703672005), (2669, 0.015387892868947208), (110, 0.015382164252387837), (1453, 0.01537349630687402), (2561, 0.015342331721974342), (2815, 0.015290031664298837), (3934, 0.015286442335751948), (1686, 0.01520533669299056), (4286, 0.015180560126118611), (2894, 0.015170236219896384), (1966, 0.015149071811100341), (2443, 0.015132970543152472), (3940, 0.015093556011146569), (2023, 0.015056051891311217), (4136, 0.014970034694169118), (3860, 0.014966824776202953), (4668, 0.014954303718640871), (2336, 0.01491784924259075), (691, 0.014868884995305016), (3874, 0.014848861871489394), (3491, 0.014787244616385614), (901, 0.014782961941472437), (1995, 0.014603943094447408), (543, 0.014595128862530404), (1214, 0.014587600106776361), (2638, 0.014496665791092303), (4049, 0.014462369480636898), (3350, 0.014403563627177676), (292, 0.014383970646637989), (4352, 0.014361857688679263), (2486, 0.014353745285954837), (4782, 0.014292877036322175), (1478, 0.014260350211647541), (2875, 0.014216130180350905), (881, 0.01420871714918789), (1959, 0.014207555466132902), (1023, 0.014188905967082395), (3296, 0.014163893771689024), (2033, 0.014158195455257906), (4501, 0.014156389065573656), (3704, 0.013917857042808405), (1017, 0.013897726282709834), (3199, 0.013891813726377166), (4193, 0.013860349049328018), (2356, 0.01379533779816709), (395, 0.013791634024189842), (1624, 0.013754391235253603), (1138, 0.013708929292569986), (3366, 0.013676378090273226), (4027, 0.01364659242283961), (2973, 0.013637598323602194), (1773, 0.01357537934842021), (4730, 0.013552612141025041), (2876, 0.013470643931583993), (1190, 0.013403794869193063), (2637, 0.013375751571566322), (353, 0.013350252880443255), (2507, 0.013303525253162527), (3533, 0.013279156126199721), (4350, 0.013244205798942569), (4295, 0.013238034429704289), (4461, 0.013229322617691056), (1969, 0.013197080586548806), (1474, 0.013159829698853747), (4129, 0.013140159189535993), (4045, 0.013138993843547463), (1732, 0.013069864679739194), (2505, 0.013000793286748937), (3394, 0.012982890617478936), (673, 0.01298064715243658), (4507, 0.01293614086518917), (2824, 0.012934334628723693), (2218, 0.012909690754087247), (758, 0.01289936510372834), (784, 0.012894830976440046), (2439, 0.012893884553708717), (2916, 0.0128844213731748), (1169, 0.012848649500944363), (3032, 0.012768239838770382), (1847, 0.012742923411183658), (4000, 0.012707067582522654), (1647, 0.012674539456429443), (1178, 0.012638721485804258), (932, 0.012617090223525362), (971, 0.012612228869361732), (2611, 0.012611192199208044), (3406, 0.012557153688559839), (3616, 0.012551937310601832), (1317, 0.012551708309430754), (4656, 0.01254683516773998), (2134, 0.012530804192437054), (1206, 0.012498829090893173), (3638, 0.012492271362090036), (2373, 0.012491679096811948), (762, 0.01248743405035806), (2941, 0.012469975570484113), (3376, 0.012461664674461526), (1350, 0.012456605470465195), (3955, 0.012445845613609388), (3352, 0.012438187958416417), (104, 0.012420863832529175), (1227, 0.012403447034173409), (763, 0.01239967905760083), (2202, 0.0123884474590491), (1194, 0.012384016984788785), (2032, 0.012370925453968003), (3935, 0.01235243608829367), (297, 0.012330100367396513), (2682, 0.012312257413435496), (2364, 0.012272970784938008), (779, 0.012255553782429842), (4146, 0.01222776630797584), (785, 0.012215768267729715), (4642, 0.012207710240188603), (1612, 0.012200251537844046), (2487, 0.012188356108865631), (2434, 0.012175583405658939), (871, 0.012148420919174382), (4675, 0.012128761343487116), (4355, 0.012126792388115284), (2880, 0.01212395688324749), (2000, 0.012115654286900856), (287, 0.012091103280500264), (868, 0.012078069877116007), (2038, 0.012064168811351509), (1651, 0.012052379835356002), (1929, 0.012046683078230145), (1468, 0.012034480929195585), (2255, 0.012025013222783699), (112, 0.012020886140629076), (1559, 0.01201809509013608), (1368, 0.011987679950704948), (1781, 0.011956603387015935), (1239, 0.011944499667692756), (3270, 0.011938715704811115), (3688, 0.011933417944325373), (1113, 0.011926496561425061), (4457, 0.011926105116081043), (382, 0.011898465922098976), (544, 0.011892681148154085), (3734, 0.011888936248085295), (1336, 0.011879237718860243), (510, 0.011876762635999806), (3445, 0.011875113989373898), (1158, 0.011851438984574875), (4539, 0.011844004064099753), (2061, 0.011811004613783632), (1240, 0.011810999913618373), (3873, 0.011809135847119668), (1739, 0.011794488614615194), (3567, 0.011792353585878964), (4281, 0.01178365621686496), (2473, 0.011775461059741352), (716, 0.011758084964495518), (4631, 0.011736931368032721), (1084, 0.011702565997461778), (3059, 0.011700738289089976), (883, 0.011661262362079622), (3568, 0.011659996198154212), (3297, 0.01165839719100686), (1365, 0.01165668452624819), (3337, 0.011652374754401985), (2871, 0.011649959300436611), (1582, 0.011638020982213636), (3238, 0.011628782676889516), (1696, 0.011628636029086155), (2040, 0.011625373174859), (4320, 0.01158767215346328), (3322, 0.01158508480744257), (3495, 0.011567780941053278), (2836, 0.011564290515953432), (4658, 0.011560006027807388), (2800, 0.011546375714196968), (4016, 0.011545250461245146), (3582, 0.011523197148254746), (4720, 0.011489709386580485), (2501, 0.011471804812639357), (1349, 0.011467375231783455), (4119, 0.011436055792894983), (2961, 0.011428517458352164), (2584, 0.011412026409825086), (2529, 0.011402082233641794), (676, 0.011383431292641693), (1347, 0.011379643477603497), (2359, 0.011365909388209142), (741, 0.011360546086322112), (383, 0.011344532089961466), (1728, 0.01133087301890583), (1328, 0.011328975443012904), (2491, 0.011312627028357298), (246, 0.011304610967123213), (2966, 0.011283747154367797), (1004, 0.011278935034442269), (1523, 0.011247492920517514), (1038, 0.011246993662488255), (1654, 0.011244278811900467), (1263, 0.011236648822442161), (4592, 0.011215739292676875), (3923, 0.011213619296064207), (1927, 0.011206464930173198), (1859, 0.011203333521233488), (1315, 0.011176607532632832), (3629, 0.011165602234275138), (2927, 0.011158325082749524), (2105, 0.01113859939380767), (3508, 0.011138561273364798), (2886, 0.011136652469225464), (1940, 0.0111323346283899), (4017, 0.01113087762811022), (4649, 0.011126114621405253), (1812, 0.01112274096970731), (2140, 0.011112360739411895), (825, 0.011104924460650954), (1982, 0.011099652365490677), (1221, 0.01107572460487304), (2383, 0.011075216010127517), (3864, 0.011057935017583027), (4573, 0.011040823165917075), (535, 0.011038010284357802), (1007, 0.011033111521705025), (2238, 0.01101463592273343), (2334, 0.011011807988273833), (946, 0.010984169127522116), (4393, 0.010977805051040596), (4432, 0.01096672885794053), (3812, 0.010963934250455313), (365, 0.010961909296743214), (2671, 0.0109477669626365), (1749, 0.010926515365213028), (1172, 0.010926099078170657), (3628, 0.010922645795638428), (2974, 0.01090269440744544), (3695, 0.01088952132929151), (3374, 0.010869271454406575), (861, 0.010848868179713606), (3257, 0.010840926917015216), (3698, 0.010840441050228857), (3068, 0.010817337896417907), (4135, 0.010815284318261047), (2118, 0.010813131050134428), (1533, 0.010809963628139994), (752, 0.01078305291935545), (2921, 0.010781413267594804), (2152, 0.01078068163288874), (1231, 0.01077584026961018), (3073, 0.010758223874229035), (485, 0.010739522566709927), (2404, 0.01073831626828908), (3584, 0.010734349816959785), (4337, 0.010731609633093456), (1405, 0.010719415725361652), (2187, 0.010657973064345676), (312, 0.01063712126326995), (1745, 0.010611350020375098), (1746, 0.010605252259201295), (1672, 0.010599190778578571), (3599, 0.010571949552467066), (1960, 0.010568395165228913), (1030, 0.010550277066150023), (3170, 0.010541439679934563), (3750, 0.010518950045906469), (2633, 0.01051648038613353), (1148, 0.010507093413817408), (2399, 0.010440526965215791), (1193, 0.010437241603304736), (2358, 0.010432047842698846), (2756, 0.010429855612700285), (1731, 0.010422723137953487), (2062, 0.01037500109401179), (1796, 0.010369589064017273), (1408, 0.010347255104807003), (1199, 0.010320414554605384), (1233, 0.010315937905270314), (1136, 0.010312764993974037), (2703, 0.010268779240138264), (839, 0.010246689315294565), (4175, 0.010197284753529627), (4704, 0.010183679111800412), (283, 0.010173689665537621), (3424, 0.010164530517709637), (4263, 0.010132891984407744), (3177, 0.010130603957475136), (3832, 0.010119819310785266), (2278, 0.01011955365769985), (1556, 0.010113171550820555), (4098, 0.010086824165045853), (4048, 0.010052482742807583), (2523, 0.010044294937547025), (2469, 0.010006225838901399), (2133, 0.010005824080004487), (2659, 0.010000839996971947), (1209, 0.009999723111583515), (1111, 0.009991536026218486), (3414, 0.009981142629584624), (2971, 0.009974513662870638), (1215, 0.009952533422836585), (869, 0.009923020923887896), (3863, 0.009917606882430364), (3155, 0.009881124996450281), (1370, 0.009880800546844655), (1622, 0.009877016906847119), (4211, 0.00985414934180915), (3358, 0.00982513505406184), (4110, 0.00982067660583171), (1983, 0.0098194220453457), (1561, 0.009814887838174231), (4648, 0.009805709917762697), (4283, 0.009770493855541068), (225, 0.009760283545896217), (3844, 0.00972851557194375), (2300, 0.009682623503793631), (3576, 0.009669557401319208), (1663, 0.00966909831362988), (2029, 0.009647854165661548), (2726, 0.009633405315186012), (1590, 0.00961497790892869), (2148, 0.009612353210594192), (633, 0.00961198059463867), (271, 0.009587376368936102), (4201, 0.009577468334297765), (602, 0.009576594225079055), (2231, 0.009569844633784895), (2165, 0.009567618815142656), (3538, 0.009552740720732993), (2872, 0.0095356719370802), (3543, 0.009508237018420377), (4564, 0.009503601586165727), (3440, 0.009494851489881778), (4223, 0.00947901293878343), (2089, 0.009449449586607143), (419, 0.009442182035482805), (405, 0.009430722129044257), (3815, 0.009419684635165565), (3764, 0.009389442448431453), (1932, 0.009354068810771254), (3569, 0.009352975347917908), (3876, 0.00931882541728844), (3329, 0.00931713868081341), (2515, 0.009312130907516722), (2022, 0.009296954799469495), (102, 0.009288221974607585), (319, 0.009278558658057275), (1002, 0.00923579449864378), (1621, 0.0092318198653071), (2684, 0.009216442113790907), (3762, 0.009209007210772724), (106, 0.009207399453214603), (3791, 0.009204610616847785), (215, 0.009198516386915984), (2653, 0.009171506243530716), (3203, 0.009160103698590863), (2542, 0.009151409350177272), (4535, 0.009147738024264303), (1456, 0.00913032999088358), (1226, 0.009098338054261424), (2583, 0.009084048999504811), (5, 0.009077313422405671), (1063, 0.00907366122167753), (1249, 0.009060768943904045), (8, 0.009050504001953053), (942, 0.009038934513474015), (1053, 0.009005843108777133), (1320, 0.009001793857953392), (137, 0.00899285957215355), (1817, 0.008964971505511288), (2088, 0.008953976472971597), (596, 0.008939573306911728), (4626, 0.008933368323028264), (3417, 0.00893321845833316), (2329, 0.008925427056218658), (1047, 0.008924344690945054), (113, 0.008909855795436574), (972, 0.00889695509493918), (3558, 0.008877440740432651), (3691, 0.008872441631795023), (1203, 0.008856193629758079), (2214, 0.008842687759404453), (73, 0.008815042178372314), (4670, 0.00881260599286257), (3901, 0.008773012308649335), (320, 0.008772705486204489), (3782, 0.008756567046155687), (906, 0.008744850189724337), (1432, 0.008733814024365516), (305, 0.008732633935556438), (2284, 0.008731597112874467), (2197, 0.008716044970570084), (2810, 0.008696257290694256), (2249, 0.008680882622627265), (398, 0.008677968461647867), (3987, 0.008668301348582886), (2720, 0.008662895401977814), (2371, 0.008656758117925762), (570, 0.008647944260509022), (133, 0.00863200044762778), (644, 0.008624482843765808), (1794, 0.008612498725828003), (1485, 0.008608458823022263), (1300, 0.008603438300414075), (1238, 0.008588061388124568), (3613, 0.0085862258090283), (1018, 0.008579620572149439), (329, 0.008575942177193405), (554, 0.00857304635364428), (2565, 0.008556927893986807), (363, 0.008552160521777747), (367, 0.008545472161224761), (4479, 0.008534322146793753), (3765, 0.008518538532630317), (2846, 0.008500194519709845), (1540, 0.008488843027517365), (1234, 0.00848768785379593), (2163, 0.008481352948756475), (782, 0.008449528117692154), (1764, 0.008441410407226992), (1388, 0.008437512111707837), (115, 0.008433864074250338), (2343, 0.008432742879017671), (1845, 0.00843253673284902), (3043, 0.008422449590085049), (2220, 0.008422068672876794), (744, 0.00842101968645748), (3612, 0.008419585324544244), (1000, 0.00841723163143428), (1833, 0.008414302509104929), (910, 0.008414180151917616), (1416, 0.008404608729694596), (4368, 0.008394587962568706), (2791, 0.008390697758599866), (2457, 0.008374296143293696), (561, 0.008369440317063692), (2605, 0.008362961547845348), (568, 0.008346280013044731), (574, 0.008342779656911017), (1182, 0.00834188958402993), (560, 0.008334048127045), (1849, 0.008322445449369269), (1123, 0.008318571067186337), (638, 0.008313106474449172), (759, 0.008306935881349085), (1157, 0.008297773300599467), (1131, 0.008294907369641856), (2534, 0.008288671407644279), (658, 0.008265404065726274), (548, 0.008254674004839391), (3342, 0.00825273933574313), (3345, 0.008247662439092338), (1835, 0.00824304299309689), (1780, 0.008238416395687146), (4081, 0.008229508369497528), (2525, 0.008228381335661335), (1443, 0.008217594739318636), (3840, 0.008210070382020773), (159, 0.008202546304221302), (1313, 0.008180740999211534), (1200, 0.00817652147688403), (2737, 0.00816571400876521), (1914, 0.008155960726224707), (1379, 0.008146520029389287), (4014, 0.008139314972730512), (2805, 0.008137877132317175), (4237, 0.00811823745753888), (2099, 0.00811325036534069), (788, 0.008109258991650051), (1160, 0.008107335043131275), (546, 0.008093755396205576), (171, 0.008092846534942728), (1363, 0.00805342999353402), (2408, 0.008052801093587894), (4113, 0.008050646429372862), (856, 0.008047682732353357), (114, 0.008025010050931602), (1062, 0.008013272834971106), (4037, 0.008006857882798129), (293, 0.008006487158854426), (1046, 0.007986219203356067), (977, 0.00798099046534849), (2237, 0.007978223266006315), (342, 0.007975658670388356), (3159, 0.007971351437695033), (1415, 0.007965695439261102), (631, 0.00796479406553118), (3737, 0.00796452260886051), (223, 0.00796008616333273), (1218, 0.007948841983185621), (874, 0.007934823503693627), (3054, 0.007934184059382194), (2496, 0.007929468527689996), (22, 0.007914008660586063), (1722, 0.007913505005757345), (163, 0.007893632061184565), (2282, 0.007888619082512226), (1016, 0.00788646871811125), (1106, 0.00788525837084689), (2940, 0.007867042258440909), (3086, 0.007860786855019423), (802, 0.007859173504721265), (775, 0.007851156147537118), (836, 0.007841237898252201), (3082, 0.007835831165055101), (2478, 0.007824791871796615), (1930, 0.007822843808846161), (3123, 0.007816396611476732), (1397, 0.007804944221923729), (199, 0.007796660697802942), (947, 0.00779492978692179), (1220, 0.007792125612387399), (610, 0.007790564387173193), (799, 0.007789204032342145), (124, 0.0077842324987276576), (313, 0.007763195094398889), (4321, 0.007717133397068124), (2136, 0.007714987913430061), (1838, 0.007709423851847233), (1589, 0.007698895530866233), (515, 0.007636369195960158), (3035, 0.007631447099370275), (186, 0.007623260695686365), (1907, 0.007614381162602169), (3626, 0.007605714703035088), (1428, 0.007602284029391223), (19, 0.007598872314142983), (3136, 0.007593018597590235), (4497, 0.007586256762266322), (4315, 0.0075663347013442605), (245, 0.007557794847240759), (1964, 0.007553385284241485), (3924, 0.007546987135416779), (2096, 0.00754165389878379), (2795, 0.00751693839960909), (89, 0.007513801175574162), (1861, 0.007501443426942812), (4381, 0.0074966443499219874), (4666, 0.007477418905342157), (2159, 0.0074668381834480674), (2149, 0.007449497095777583), (2207, 0.007421576852778475), (3986, 0.0074043014502114), (1718, 0.007378977287608638), (2803, 0.007366986310701562), (1607, 0.007360902234865919), (2596, 0.007347307825649011), (3560, 0.007331867461252708), (798, 0.007328821494905645), (3266, 0.0073109364921797905), (4799, 0.007306219904085407), (831, 0.0073032344325205875), (1082, 0.007281622278501129), (1985, 0.007278510968222382), (2965, 0.007276173155647121), (3273, 0.007274030429178898), (2822, 0.007244761559984315), (2780, 0.007234579641140599), (4202, 0.007223891737554896), (2101, 0.007204489762416189), (4215, 0.007191897156817421), (4735, 0.007183786801631994), (4259, 0.0071827341462877186), (2303, 0.007156977757093502), (3263, 0.007133413272711871), (3274, 0.0071264961852511265), (2626, 0.007117645682322724), (2283, 0.007097736007557723), (1583, 0.00708423774808938), (2057, 0.007046418406022019), (2782, 0.007042832246316303), (3548, 0.007023793484623006), (3018, 0.007002531279978695), (4167, 0.006956960885122142), (4080, 0.006944953322817716), (2042, 0.006940515063788207), (4563, 0.0069172718212890385), (2480, 0.006872717421527206), (1680, 0.006870913750661695), (393, 0.006817573699473135), (3010, 0.006778469136471868), (340, 0.006731760065127802), (411, 0.006731144007426465), (3878, 0.0066897702733654104), (3427, 0.006653473490761478), (2915, 0.006640688831693499), (2745, 0.006628286765898626), (4672, 0.006619800988507419), (4078, 0.00659604665597605), (4326, 0.0065333621566605726), (1153, 0.006342207308799988), (2911, 0.00632538193266191), (4247, 0.006320139652842819), (3622, 0.006285495420664466), (2357, 0.006267237780969621), (4176, 0.006213610657477607), (3619, 0.006207834418680544), (3766, 0.00605822469229731), (2802, 0.006057211389134567), (3680, 0.0057568499185671335), (4166, 0.0056075446688511115), (4585, 0.005507509867945443), (2725, 0.005244032008539099), (2421, 0.0052268137559649), (4252, 0.005185605924899645), (2629, 0.005162586770881013), (4641, 0.0050051161643031835), (4541, 0.004996229425816053), (2708, 0.0049273986676483346), (3271, 0.004920425261543604), (3087, 0.004903732211662543), (2892, 0.004858369206562212), (1258, 0.0047443314821474635), (4574, 0.004743529591850741), (3022, 0.004710104761839771), (3166, 0.0047038035731773314), (4499, 0.004686498633668556), (4273, 0.004678753231320639), (4708, 0.004666887958563429), (4160, 0.004656832393344462), (2011, 0.004648792737539686), (3359, 0.004645790028143438), (3080, 0.004627993907145723), (3194, 0.004625488993866238), (3461, 0.004623297332297083), (3793, 0.004615241193665954), (3831, 0.004611950790755683), (2770, 0.004587045658626166), (1979, 0.004581061948242299), (1962, 0.004571120857185583), (2634, 0.00455728056364477), (2933, 0.004547541622714444), (3487, 0.004540576109561635), (323, 0.004526165069386708), (1295, 0.004520953745353101), (3610, 0.004511565546217563), (3377, 0.004505203911733655), (4212, 0.004493493512742934), (4184, 0.004473942026939702), (1522, 0.004468387210355103), (1464, 0.004464116922597838), (3314, 0.0044579591972290274), (2869, 0.004443689295120095), (3497, 0.004443317739981496), (3792, 0.004431442849569394), (3392, 0.004421695290389783), (2079, 0.004420848367145215), (4199, 0.004416926716434546), (3437, 0.004413058115788996), (1253, 0.004404446424382823), (4612, 0.004398281814747997), (3028, 0.004385003214573243), (3589, 0.004383121427611508), (4086, 0.004382143042127014), (3852, 0.004381645659884718), (3510, 0.004378850550701948), (3304, 0.00436447531150585), (2292, 0.004364300625391374), (2574, 0.0043636057071160285), (4632, 0.004358757510758856), (3025, 0.004358597906359301), (4055, 0.00435276617858821), (4618, 0.004347227813958318), (2006, 0.004346899696705427), (3661, 0.004341280548663638), (2436, 0.004327694786020792), (4370, 0.0043156192266097255), (1667, 0.004290085025121648), (4357, 0.004289117262233466), (3810, 0.004286023981207653), (4784, 0.004283475073425132), (660, 0.004276337835205407), (4342, 0.004276120256623046), (3857, 0.004275116882639484), (588, 0.004272148142880351), (4426, 0.004270137042075548), (3119, 0.004266221668748237), (1901, 0.004264778892886953), (3432, 0.004264085319346886), (4410, 0.004264053146566293), (4047, 0.004251476432620039), (1600, 0.004248919330669836), (4754, 0.004244124167301943), (3781, 0.004239964686241704), (2631, 0.004238776773000865), (3544, 0.004232896627900979), (2494, 0.004220311981186575), (4693, 0.004218820399681496), (2005, 0.004201538170938443), (4057, 0.004200941138871896), (2658, 0.004199376961167734), (2866, 0.004193995560494475), (4690, 0.004190074737504892), (4777, 0.004182318955100593), (2963, 0.004173212993605574), (3224, 0.004172533657999447), (2709, 0.004167228695672253), (2321, 0.004162574870264002), (3637, 0.004160500918092661), (3373, 0.004149632876177907), (4253, 0.004146951330418597), (3665, 0.004136990367267489), (1597, 0.00413223875430859), (4168, 0.004127188000164067), (1503, 0.004120740704987172), (3292, 0.004114054815831682), (2367, 0.004108251110594988), (2956, 0.004104807125569846), (288, 0.004093694457247429), (1516, 0.004093308667521934), (3596, 0.004085060095456809), (4502, 0.004077867017073928), (3632, 0.004076863292859423), (4694, 0.004074784313634833), (3953, 0.004074295999018541), (3779, 0.004073032024760125), (2779, 0.004069998448195593), (3225, 0.004069239782437772), (3798, 0.004062032515890725), (1873, 0.004053941147065053), (1692, 0.004048795309478228), (1899, 0.00404775470308356), (2599, 0.004044708456747539), (4411, 0.0040403750202528165), (4493, 0.004039682367490961), (2614, 0.004036686998969827), (1679, 0.004035302789950863), (4764, 0.004028393147518801), (4301, 0.0040252764385651126), (4780, 0.004023353962051138), (774, 0.004022084476553206), (3911, 0.004020035625241294), (3078, 0.004018464043422255), (3875, 0.0040184056744546415), (1208, 0.004005038792366235), (2793, 0.0040050013426659), (4775, 0.004004977917451858), (3340, 0.004001938372687207), (4299, 0.004001866068747151), (4121, 0.004000350777257803), (3299, 0.003997961002630949), (1357, 0.0039932917259402415), (4676, 0.003992729715024508), (3967, 0.003984614350460886), (3284, 0.003984503675590259), (1291, 0.003983780266080112), (4152, 0.003978803712271996), (4774, 0.003977416086460871), (2723, 0.003975830750177666), (4044, 0.003974180161876577), (2714, 0.003962803847308236), (2972, 0.003961788297327659), (1418, 0.003957833012376019), (4362, 0.003956636828453142), (4111, 0.003946761702780753), (3185, 0.003941557321149729), (2883, 0.003938670459286746), (2259, 0.003938497725088726), (4217, 0.003931778730417861), (2485, 0.003929784387602579), (2855, 0.003926065966793731), (1941, 0.003924253910962477), (2701, 0.00391335740633273), (4599, 0.003907864875818518), (1530, 0.0039001582679042894), (4416, 0.0038928257376650045), (2649, 0.003891733397451752), (3978, 0.0038913629369577286), (4205, 0.003890732363398209), (4734, 0.0038751825841451637), (1895, 0.0038745043409005625), (2670, 0.003872979121424706), (2347, 0.003870325234740889), (954, 0.003868311020629932), (3945, 0.0038671622341301098), (226, 0.003866115401210829), (4488, 0.0038623801295841363), (4692, 0.003855445827939324), (3669, 0.0038545039836657483), (2322, 0.0038513345355017663), (4627, 0.0038506680363560556), (3745, 0.0038499552965086357), (3096, 0.003849409279608055), (921, 0.0038472408718723855), (3950, 0.003846065404115006), (2885, 0.003845086945983053), (3295, 0.0038441499214942874), (2481, 0.0038430028021872132), (2268, 0.0038413457614704808), (2890, 0.0038398902106397356), (1543, 0.00383902739623657), (3858, 0.0038373837621425476), (3426, 0.003837379972640322), (3285, 0.0038371476613084372), (1704, 0.0038357904424856076), (845, 0.003835609113946327), (2903, 0.00383485200655706), (2586, 0.0038346131145242704), (2344, 0.0038310245630866244), (4143, 0.003830707947451733), (678, 0.0038289838688049934), (1978, 0.0038286508402739965), (1665, 0.00382525227101592), (1278, 0.0038237300336126786), (1922, 0.0038236049363666166), (4624, 0.003822554784420325), (3103, 0.003820340135442352), (1986, 0.0038145350039338133), (1087, 0.003813678065553032), (2369, 0.003808383611338356), (1691, 0.0038067345133627885), (985, 0.0038061107735768906), (4531, 0.0037994999101971846), (4091, 0.00379826958608435), (4462, 0.003798068019031156), (4285, 0.0037975817510856875), (2423, 0.0037918250520247816), (2205, 0.003791556861494894), (3261, 0.003790836186356553), (3, 0.003790743933959514), (2577, 0.0037890276714235846), (4543, 0.0037846674213321413), (4590, 0.003784024082687825), (3961, 0.003782321321796512), (1010, 0.0037817791481549955), (2910, 0.003778517930788285), (3513, 0.0037761382369987874), (1196, 0.003774849511924988), (1394, 0.003769953453414252), (1381, 0.0037691479949306917), (2571, 0.0037682920685424034), (4705, 0.0037678163631572983), (3272, 0.00376703943256127), (4653, 0.003766878076476127), (4494, 0.0037657865015476863), (2071, 0.0037612967760029536), (3422, 0.0037577855963853465), (2266, 0.0037560660573704354), (4417, 0.0037557146065073078), (1816, 0.003754527787075041), (4683, 0.003752673917727464), (165, 0.003751515652081271), (4664, 0.0037496700434047634), (3887, 0.003749522099752893), (3154, 0.003748889502915403), (738, 0.0037487489797986655), (1913, 0.0037474844791231324), (78, 0.0037428361720778713), (3547, 0.0037417100610798565), (2192, 0.003741678577910925), (877, 0.003740761416365107), (1727, 0.0037390284650510226), (438, 0.0037363316186549774), (4580, 0.003734632588988249), (2771, 0.0037282723791127142), (3431, 0.003726929818493521), (3262, 0.0037267296937245815), (4702, 0.0037258550560186434), (1129, 0.003723942071859754), (826, 0.0037234408289236274), (4630, 0.003720166690952157), (4198, 0.0037158316586296497), (1353, 0.0037136139137815337), (4751, 0.0037123659222778444), (1886, 0.003712074447893062), (4634, 0.0037107417005654703), (2652, 0.0037099341808118883), (928, 0.0037092557345787293), (637, 0.003708232340240084), (2472, 0.0037072788606059646), (2447, 0.003705864124596659), (3894, 0.003703884925334655), (3659, 0.003703787749700283), (940, 0.003703150472649465), (1149, 0.0037030029946263543), (4532, 0.003702949394036381), (884, 0.0037012460144820064), (709, 0.0037004422260504136), (663, 0.0036996467394781), (4460, 0.003698704096079531), (3486, 0.0036985076452746876), (822, 0.0036981517208176046), (1623, 0.0036977146157057958), (3384, 0.0036971135293109663), (4290, 0.003696309913581142), (2976, 0.003695324083594024), (1803, 0.003695216708618764), (3130, 0.0036948317519261576), (3517, 0.0036937833430704175), (2287, 0.0036923190163293076), (4124, 0.003691639506566259), (3598, 0.0036910628506592958), (3701, 0.003689022934836106), (4429, 0.0036879678892544547), (2151, 0.0036852863899505465), (635, 0.003685263550921997), (2543, 0.003684988767828352), (1107, 0.0036833626027201493), (1759, 0.003682491364322757), (3200, 0.003679269638442649), (1965, 0.003679103185376763), (4033, 0.003677352839314111), (80, 0.003675595426379928), (3180, 0.0036745842797110254), (2172, 0.0036721033287122045), (3367, 0.003671397183831237), (4304, 0.0036709030256674717), (1509, 0.00366857476371044), (3650, 0.003668522509558967), (2859, 0.0036663363312942347), (1535, 0.0036651212474250513), (3926, 0.0036646172711169663), (2063, 0.0036630795081714278), (991, 0.0036630226378333787), (3438, 0.003662343437840742), (4354, 0.003661666251705367), (3332, 0.0036599054450743413), (3727, 0.0036597705046844467), (3723, 0.0036593255522676137), (1387, 0.0036570332281203296), (1162, 0.0036567944241382836), (3729, 0.003655932810854255), (3489, 0.003653509990533716), (270, 0.003653265190326318), (2858, 0.0036521588063250206), (4359, 0.003651818487632389), (1920, 0.0036515769472779264), (3522, 0.003651439652274097), (1776, 0.0036504823717840415), (2926, 0.0036488244390415103), (4445, 0.003646148181878824), (2375, 0.003646130808537493), (4082, 0.0036461254461945883), (696, 0.00364363414497743), (2154, 0.00364247906254561), (1386, 0.003642065902722289), (3144, 0.00364170074182003), (4667, 0.0036416854371101267), (698, 0.003640730625291099), (2939, 0.0036406041932404553), (2646, 0.003640513492234431), (3686, 0.0036402677894278295), (2957, 0.003639433558895022), (180, 0.003639051848216091), (526, 0.0036378974990809963), (2176, 0.0036365861718465208), (4334, 0.0036347716741706574), (274, 0.0036343309155286254), (1601, 0.0036339125598889113), (1958, 0.0036334014929150613), (612, 0.0036319365376629746), (4257, 0.0036310166731059737), (2302, 0.003630824196150439), (1205, 0.0036284215515485804), (2943, 0.003627915802574454), (4309, 0.003625969016295162), (3308, 0.003625546010598903), (651, 0.0036251250900595448), (1269, 0.003624748986469647), (2031, 0.003624267219100695), (975, 0.0036208932932039447), (4004, 0.00361855710098415), (815, 0.003618551939636475), (2193, 0.003617554006196388), (2493, 0.003617300802667678), (2984, 0.0036166589563263584), (1342, 0.0036159075851916896), (2693, 0.0036157922952560484), (2265, 0.003614972308605972), (3344, 0.0036131087329194585), (4403, 0.003607396213070406), (4619, 0.003607213959275332), (1273, 0.0036043210697613245), (853, 0.003603555417923924), (3172, 0.0036035185370808065), (1511, 0.003602799512915853), (3326, 0.0036024950040084687), (3319, 0.0036023907545842788), (1429, 0.003601711473827691), (2141, 0.0036013910374951357), (3819, 0.003600205228170438), (3732, 0.003599690051015476), (4076, 0.003597160529260888), (2448, 0.0035961252841614786), (3282, 0.003594777661128333), (1235, 0.0035901833641816976), (970, 0.003589285877657852), (3641, 0.003587165551397636), (396, 0.0035868447152715838), (824, 0.003586751634427529), (3127, 0.0035828064790316082), (3069, 0.0035813147198432522), (1629, 0.0035806863222396152), (2942, 0.0035806179377822047), (2814, 0.0035805768874934206), (2393, 0.0035803516751587356), (82, 0.0035796677525220012), (4294, 0.0035792700906859057), (1572, 0.003578830690512972), (2856, 0.003574417249672545), (1770, 0.00357371698344679), (4556, 0.003573088676727492), (119, 0.0035725878174366595), (2909, 0.0035714732363841817), (4239, 0.0035713131322806565), (919, 0.0035712382449749587), (4651, 0.00356937510406315), (4476, 0.0035692781497109463), (521, 0.0035691768158824812), (157, 0.0035676187356085583), (1885, 0.0035669716619945602), (3537, 0.0035668336849238673), (3739, 0.0035666491794096138), (2082, 0.0035661855469275943), (776, 0.0035649525255980834), (2952, 0.0035647971478941095), (4655, 0.0035611818908759148), (3220, 0.0035610064906483364), (3302, 0.0035604547306180984), (434, 0.0035600276725523123), (1383, 0.0035587922114439304), (958, 0.00355878360742111), (4588, 0.0035587548235426363), (4244, 0.003558676159464984), (1448, 0.0035584219323242555), (298, 0.003558214143262622), (3718, 0.0035571519580573645), (3692, 0.00355563848663559), (4470, 0.0035549610467589363), (4647, 0.0035543613078265284), (1954, 0.0035528319615709316), (248, 0.003552750310902263), (2280, 0.003552501697194956), (1009, 0.0035524807256098797), (3468, 0.003551845080766034), (351, 0.0035507132111783153), (3164, 0.003549855911352059), (2059, 0.0035497442769897337), (2269, 0.0035495878883070996), (3795, 0.003548822736650762), (980, 0.003548515258105613), (3072, 0.0035480865833128383), (4023, 0.0035469232410614625), (757, 0.0035460173321574884), (3310, 0.0035457865233408927), (2663, 0.00354391088475218), (4067, 0.0035416846019302286), (60, 0.0035403858172587655), (1245, 0.0035384420586720214), (4065, 0.0035383682172802234), (1844, 0.003536011254141678), (3385, 0.0035356593548188974), (3226, 0.0035340993397363807), (2495, 0.0035316411077309993), (3743, 0.0035305989869209397), (2776, 0.003529570819210091), (3783, 0.0035273231564472256), (4505, 0.003527320747538065), (2948, 0.003526829014773615), (1924, 0.0035265900747543564), (4139, 0.003526451487259757), (2289, 0.0035263865809752235), (3504, 0.0035252161723908736), (1039, 0.003524883664753446), (3577, 0.0035222659662486906), (3325, 0.003522108529132957), (386, 0.003519449554600873), (4230, 0.00351858924209571), (3666, 0.003517768857159843), (3258, 0.003515651401416597), (4367, 0.003515638098240672), (1427, 0.003514450777050137), (222, 0.0035136966963408857), (4724, 0.0035131578470977537), (1693, 0.0035128247230468072), (3941, 0.0035103412810403548), (4208, 0.00351023480390181), (3408, 0.003510055386547103), (3654, 0.0035100447784501996), (3430, 0.003508060175053547), (4785, 0.0035072333357544566), (3823, 0.0035065400630040397), (2416, 0.003506434831865425), (2077, 0.00350418401630455), (2168, 0.003503904836956974), (3126, 0.0035034411252272226), (2301, 0.0035028341761955068), (1455, 0.0035027175384467115), (4386, 0.0035013614797257155), (3699, 0.0034989536508452128), (140, 0.00349628577593489), (2442, 0.0034961359799443154), (1678, 0.0034960201978519187), (1422, 0.003495907278405481), (3118, 0.003495379599819181), (807, 0.0034950730477712193), (2215, 0.0034942615550630626), (301, 0.0034937012632844685), (2835, 0.0034929177060853698), (3145, 0.003491941446233538), (2251, 0.003491812837959456), (3407, 0.003491298788010919), (1824, 0.003490793532210667), (1143, 0.003490618792855807), (1280, 0.0034900070671710793), (818, 0.0034898568862447854), (4330, 0.0034898512221687265), (944, 0.0034897198606534895), (713, 0.0034894165060627928), (103, 0.003488581427684846), (2020, 0.0034878670275372797), (1525, 0.0034863977876330465), (2585, 0.003486382789128229), (3269, 0.003485714457600992), (2318, 0.0034849220591440418), (4509, 0.0034846611869544675), (2250, 0.0034825606470842746), (2502, 0.0034816299627943295), (3264, 0.003481324713265449), (898, 0.003480768057952777), (1489, 0.003480497330596034), (4406, 0.003480113775324852), (3457, 0.0034797578684904506), (3551, 0.003479179960918666), (3957, 0.0034791770515898786), (4800, 0.0034788673975991494), (1362, 0.0034778011110888425), (463, 0.003477488820582289), (4760, 0.003476253471892414), (3034, 0.00347585530619035), (316, 0.0034753996549836273), (3498, 0.003475386593653866), (2772, 0.003472562237208491), (2537, 0.003472212893778385), (882, 0.0034721971702467323), (214, 0.003472054150176873), (4772, 0.0034693606932373867), (421, 0.0034683982468009513), (2438, 0.0034671280647400934), (3996, 0.003467083410363124), (4122, 0.003466191923610432), (1241, 0.0034661555684943534), (2503, 0.0034660070943219622), (1284, 0.0034654783670133964), (1311, 0.003464062672295113), (690, 0.0034619998128418957), (65, 0.003461780596836615), (2041, 0.003461068027555223), (4094, 0.0034608283498618383), (2862, 0.003460377566917361), (1254, 0.003459797557649497), (2864, 0.003459233123573278), (3539, 0.0034561992821289314), (3526, 0.0034558729957654038), (3316, 0.0034550159444831094), (1644, 0.003454572510159774), (1035, 0.00345454212809723), (2109, 0.0034530796249631237), (2908, 0.0034526593587753613), (4203, 0.0034524135031291613), (408, 0.0034519466279714223), (2245, 0.003451519575364958), (1150, 0.0034513853849462697), (4377, 0.003450831118551884), (3102, 0.0034489393907419547), (717, 0.003448056549154699), (1314, 0.003447607344536584), (3689, 0.0034469103498558098), (672, 0.003445868716217735), (3674, 0.003445648835229965), (1051, 0.0034455208375455755), (645, 0.003444246218062148), (2516, 0.0034442006905364485), (3725, 0.003443457760146082), (3083, 0.0034428484295478184), (1599, 0.0034426620101344627), (4338, 0.0034403969121529127), (3211, 0.0034403516817322734), (2030, 0.0034401913495665107), (2594, 0.0034399651625715887), (2248, 0.003439320302569822), (3368, 0.0034390258009574966), (1694, 0.0034385455205385275), (1674, 0.0034376867383574387), (1912, 0.0034356884047455297), (167, 0.003435642951290964), (2569, 0.003434797401106432), (4447, 0.003434596531439905), (2748, 0.003434223999843642), (3778, 0.0034336924502966007), (2110, 0.0034318619465235627), (1081, 0.0034317860079906446), (1529, 0.003430283339606683), (924, 0.003428366907320658), (3398, 0.0034281128819950886), (2060, 0.0034262042435020557), (2273, 0.003425716859776971), (3294, 0.0034250282732832017), (834, 0.003424620926170868), (2778, 0.0034235747595103803), (806, 0.003422819606088146), (2123, 0.0034222457586451953), (3541, 0.0034210739584474474), (2904, 0.0034201068346709413), (622, 0.0034188746227992177), (25, 0.0034181993917744274), (3785, 0.0034174737262789028), (714, 0.0034171756019136025), (357, 0.003417162819346154), (1487, 0.0034170968511209555), (4549, 0.003416711486364679), (553, 0.0034164327616466204), (2145, 0.003415816266043816), (925, 0.0034154094244184755), (4349, 0.003414041560494157), (801, 0.003413678112165767), (2648, 0.0034133075858523688), (1141, 0.0034132723868328346), (1061, 0.003411530912164642), (1799, 0.003411148693905648), (2620, 0.003410597148390003), (2753, 0.0034105271457229615), (2919, 0.0034098403630845003), (3545, 0.00340966832371816), (747, 0.003407889116654812), (2642, 0.0034074469875221753), (593, 0.003407260400639081), (2804, 0.003406695483773059), (979, 0.0034055211736776), (2531, 0.0034051695263631865), (1688, 0.0034048739469365852), (1156, 0.003404299695384423), (598, 0.0034040409710418547), (1744, 0.0034037043803636946), (3856, 0.0034036942599830963), (2177, 0.003403530482155021), (326, 0.003402767058698041), (4511, 0.003402593157495054), (4522, 0.003401875357683541), (1684, 0.003401278279838091), (3279, 0.0034003016290014613), (1127, 0.003400298448006056), (2775, 0.003399691993210893), (625, 0.003399291991009205), (2028, 0.003398319394353526), (3767, 0.003397912127101331), (1330, 0.0033969365434902343), (2951, 0.0033961713283070763), (1938, 0.0033960799720295282), (804, 0.0033957780859447404), (3161, 0.0033948302231745164), (967, 0.0033942553691834847), (4232, 0.003391003742975874), (1863, 0.0033907067403693178), (1751, 0.003390556861866419), (3434, 0.0033905140913082182), (1170, 0.0033903059121001044), (767, 0.0033899249303222037), (2896, 0.0033895964523400998), (2533, 0.0033892477867982647), (2257, 0.0033891462010243933), (4255, 0.003387503141968002), (892, 0.0033865607234584575), (1502, 0.0033859392746858246), (3157, 0.0033847424202518395), (3362, 0.0033845018063549774), (982, 0.003382788772734639), (1814, 0.0033814858316671944), (3016, 0.00338124629861491), (2450, 0.0033810488199853715), (4603, 0.0033805246461668876), (3507, 0.0033802452828407626), (2610, 0.0033801495051928652), (557, 0.0033800552578472074), (3379, 0.003378931546752416), (4384, 0.0033781903035620476), (1345, 0.003377471562057364), (2428, 0.00337689484983895), (1135, 0.0033762734728338033), (2662, 0.0033741495147430315), (562, 0.003373059584593898), (2362, 0.003372968920038466), (4126, 0.0033728173600991508), (1864, 0.003372666580547257), (3419, 0.0033718897119289454), (968, 0.0033713825382752213), (575, 0.003369932151962117), (4528, 0.0033694670458911625), (335, 0.003367694898021519), (667, 0.0033676645207855946), (3962, 0.0033676394008830646), (849, 0.003367379013868116), (1168, 0.003365322741215116), (2760, 0.003365073213151314), (2350, 0.0033622423920789428), (3173, 0.003362209778812015), (685, 0.0033607880430308267), (1460, 0.003360758339476766), (1116, 0.003360106263428309), (641, 0.0033589557354273686), (4070, 0.0033576781549283577), (1080, 0.0033575894037391305), (1840, 0.0033555685641877323), (2719, 0.0033555007028501253), (3378, 0.0033546604153840524), (4436, 0.003354111983207906), (3061, 0.0033538061457730993), (2788, 0.003353525018496421), (729, 0.0033531191401786273), (2792, 0.003352388193323692), (2449, 0.0033511668560387486), (2345, 0.003350725769817748), (3388, 0.003350229247984997), (1786, 0.003348839796283029), (1917, 0.003347018721410659), (737, 0.003345200908494933), (712, 0.0033433655236653763), (589, 0.003343245414638459), (2108, 0.003343213357949662), (879, 0.0033431576955101233), (4246, 0.0033426860854167137), (4677, 0.0033405415068398035), (1452, 0.003340215138469858), (4700, 0.003339827006781159), (538, 0.0033396129165068128), (823, 0.00333789464639), (3975, 0.003337665511241733), (2241, 0.003336890712182153), (4453, 0.003336550067936994), (808, 0.0033347046566614036), (3088, 0.003333701848747708), (3995, 0.0033335975729571633), (2504, 0.0033314331478393076), (2166, 0.003329844119488808), (844, 0.003329570333731183), (1928, 0.003329269204364967), (1677, 0.0033289954395368817), (4533, 0.0033280444371522073), (3583, 0.003327207603445843), (1532, 0.0033269085225172646), (1411, 0.0033265720475470165), (2467, 0.003325795529046598), (564, 0.0033255333135803647), (1526, 0.0033254862581620494), (1329, 0.0033240948773542865), (432, 0.003322982862375782), (2458, 0.003322342568786495), (2048, 0.0033214729371586595), (3293, 0.0033194013381586886), (77, 0.00331868396838428), (4380, 0.003318376875716923), (2932, 0.003318199812827007), (1486, 0.0033168767258875023), (2606, 0.0033152787112766544), (1615, 0.0033146849911083647), (4015, 0.003312461400917112), (3005, 0.003311812814493494), (1618, 0.0033106701633521993), (2333, 0.0033103144078402208), (850, 0.003308939465059066), (2179, 0.003307780062498775), (462, 0.0033074753815264916), (3668, 0.0033064709846515055), (1440, 0.0033064656725931545), (852, 0.003305145115447025), (2600, 0.0033027458813975996), (3396, 0.0033026707903305993), (3556, 0.0033024967386214247), (2452, 0.003302176644606258), (455, 0.00330153788505381), (2716, 0.0033012527105049944), (3109, 0.0033000674173247146), (2475, 0.0032999757055076177), (1246, 0.003299399125108828), (2121, 0.0032974715738736684), (1809, 0.0032961871526571897), (280, 0.0032956776188777744), (2827, 0.0032951241993038624), (3769, 0.0032945187670176393), (812, 0.003294485638371599), (1090, 0.0032941931108814108), (1337, 0.0032941226336412983), (1305, 0.003293699122134303), (3642, 0.003293365426120783), (1308, 0.0032921138459798237), (4778, 0.0032919710786489245), (354, 0.003291899411529265), (945, 0.0032915944717354707), (3802, 0.003291424739446667), (1596, 0.0032911363599392182), (3020, 0.003290232806148586), (3301, 0.0032886689779730908), (1057, 0.0032885732423933276), (2147, 0.003288209199156365), (4484, 0.003287376332758249), (3605, 0.0032870840545131015), (3817, 0.0032865922428525875), (3528, 0.0032856181387498126), (360, 0.0032850169202089225), (620, 0.003284775571045899), (2595, 0.0032841995088925984), (1547, 0.003284118646930207), (2734, 0.003283899955046308), (1836, 0.003283655488358719), (3000, 0.00328341122804794), (2087, 0.003282537242828355), (4659, 0.003281343048761773), (4475, 0.0032811832924770495), (1742, 0.0032798790492366632), (2568, 0.0032785772159391784), (2901, 0.003276858119822193), (3348, 0.0032744329703223826), (2799, 0.0032738561581375446), (2058, 0.003273005860512107), (1022, 0.0032728952823998), (4058, 0.0032720745488498044), (3060, 0.003270810864053016), (2354, 0.00327070389421772), (1325, 0.003270064307048956), (3850, 0.003268021630935597), (1756, 0.003267270430141828), (2786, 0.00326724733075294), (1631, 0.003266987997864505), (2296, 0.0032665442173779253), (1449, 0.0032655158703608503), (3381, 0.0032654377005389376), (1915, 0.0032649070300504453), (2578, 0.003264826818407357), (656, 0.003264739028074389), (1819, 0.003264483960719888), (4346, 0.0032643331834139827), (2150, 0.003264142865559537), (2277, 0.0032615645309544616), (3738, 0.0032605740133775504), (3639, 0.0032604493517153074), (3066, 0.0032601233392215282), (2838, 0.0032594866064089693), (1247, 0.0032588961927255233), (1105, 0.0032587323495331384), (2907, 0.0032579537139990873), (3062, 0.00325700258552324), (537, 0.0032558556926984418), (3740, 0.003255248232315536), (606, 0.0032537475083703757), (1905, 0.003252586104427051), (3156, 0.0032513310220032726), (3946, 0.003248601060119782), (4092, 0.0032484000593591906), (1853, 0.003248033459570658), (777, 0.003247572072459397), (4529, 0.003245391336806701), (1710, 0.0032452487430850857), (2920, 0.0032445214764546806), (2008, 0.0032416652830375677), (4790, 0.003241660424107019), (590, 0.0032410902119691023), (4079, 0.003240013951561704), (1760, 0.003239511576278695), (2075, 0.003239401259298537), (2959, 0.0032391623565847776), (3662, 0.0032386534957576127), (281, 0.0032383990440461932), (1952, 0.003238039915164377), (1998, 0.0032374865866197614), (3382, 0.0032373095144149536), (3380, 0.003236472887336938), (2749, 0.003235932971312941), (3288, 0.003234590459288908), (3811, 0.0032336674202178787), (3178, 0.003233577300594966), (1457, 0.003233419997006939), (1283, 0.003232127281424866), (2234, 0.0032320934826029915), (2820, 0.003231785282297562), (2271, 0.003231617493490127), (3479, 0.0032315927384777335), (1413, 0.0032311400943329633), (2852, 0.0032295628631576145), (4022, 0.003229470950046387), (583, 0.003226945096586925), (2027, 0.0032268243912077416), (4333, 0.003226700095378404), (1473, 0.0032250860046334887), (2917, 0.0032250715740906994), (1072, 0.003225058883994118), (3113, 0.0032244918272054113), (771, 0.0032236664141493333), (2398, 0.0032232519067838194), (1754, 0.003222050249557925), (1784, 0.003220060893034586), (2424, 0.0032181493801394638), (474, 0.0032173728397750833), (100, 0.0032165295792500378), (1117, 0.003215815879661721), (4423, 0.0032153815313478774), (2797, 0.003215210207000477), (2419, 0.003214355396587046), (2130, 0.0032125340737275657), (3191, 0.003212360331211735), (4170, 0.003211849483275985), (2499, 0.003211793982211052), (3047, 0.0032114497890971716), (3828, 0.003211023255988989), (1829, 0.003210543137490843), (264, 0.003208285587684227), (477, 0.0032079153370609854), (694, 0.003206947454736434), (1889, 0.0032041995582845553), (3499, 0.00320387683210008), (4483, 0.003202593217571055), (4388, 0.003202238717307668), (3245, 0.0032019557449048932), (2807, 0.0032015210780940665), (3833, 0.0032013633376712708), (4459, 0.0032003573109237434), (2517, 0.003199583829565905), (902, 0.003199316920412439), (3593, 0.0031984880274856277), (2124, 0.003198374114508267), (1661, 0.0031966066415868156), (440, 0.003196351235365351), (3587, 0.003195611696521915), (1891, 0.0031947846163960735), (3057, 0.003193990466662353), (2254, 0.0031931629373715092), (3052, 0.003191911649872824), (2840, 0.003191331935338164), (2305, 0.0031908345958428525), (4171, 0.0031895686925021423), (349, 0.003188949319706484), (1424, 0.003188406409019878), (2863, 0.0031873495798548993), (1154, 0.0031873282101236014), (693, 0.0031866581247111457), (2386, 0.003186039821068848), (3206, 0.0031859023207328188), (4028, 0.0031856251130702082), (2288, 0.0031850600292575512), (2219, 0.003183930320036711), (3234, 0.003183500871909338), (376, 0.003183347853765567), (2560, 0.00318263922488157), (2766, 0.003180715723979468), (2232, 0.003180671045902471), (2328, 0.0031787877120999126), (789, 0.003177718046986808), (3311, 0.0031771889437499754), (3410, 0.003176694390665874), (2993, 0.003174023787569665), (1442, 0.0031732820513096587), (1566, 0.0031730356716931844), (2546, 0.0031729556785979785), (2374, 0.0031709564264679395), (4699, 0.003170673506268704), (4099, 0.0031704521787755294), (3011, 0.0031688101961407623), (765, 0.00316864418009124), (2765, 0.003168063148902389), (3886, 0.0031680532825371873), (2935, 0.003167232691298357), (652, 0.0031655810468085364), (3365, 0.003165435642749531), (2388, 0.003165286592242191), (3027, 0.003165203981667528), (4275, 0.003164556014832517), (1374, 0.003164275270070548), (237, 0.0031635514742652778), (1495, 0.003163531372838753), (965, 0.003163443717025593), (1188, 0.00316154404588978), (2225, 0.003160118798652545), (4444, 0.0031596827878029228), (1151, 0.003159549863485259), (3075, 0.0031591389135994944), (4717, 0.003157956243256843), (536, 0.0031566533056389865), (733, 0.0031561079748183506), (3716, 0.0031553514926306444), (2752, 0.0031547020649982586), (4602, 0.0031540128191266986), (3624, 0.0031539665226571947), (920, 0.0031531347992047364), (2630, 0.003152572587657229), (3892, 0.003152468679766161), (410, 0.0031523632444775355), (2615, 0.003152179116502961), (1997, 0.003151637923939586), (1687, 0.003150398122030425), (1758, 0.003150391585378727), (4443, 0.003149517469000698), (1102, 0.003149246987898117), (1973, 0.0031477428206087735), (3564, 0.0031473572336503655), (2732, 0.0031472781236012745), (4197, 0.003146169722271314), (4348, 0.0031455561606059715), (2078, 0.003144680314855233), (3009, 0.0031433645433716043), (867, 0.0031431066226197744), (216, 0.003140381636599121), (4707, 0.0031396095698199926), (3328, 0.0031388989241620435), (3822, 0.003136855289846703), (1944, 0.0031358832640921777), (2656, 0.0031352901506511346), (2678, 0.003133589408784518), (2323, 0.0031332257216399), (1512, 0.0031300633314961922), (406, 0.003129293379311509), (1049, 0.003126732022323744), (2636, 0.003126527400490687), (3283, 0.0031254592742961636), (1635, 0.0031252918037675366), (4582, 0.0031242442156289335), (3253, 0.0031240821544743238), (250, 0.0031237468825285873), (1571, 0.0031228443584029758), (2801, 0.003121972051899987), (176, 0.003121813636763778), (2847, 0.0031209417521694993), (2051, 0.003120773977372104), (1828, 0.003120643126669431), (4746, 0.0031200788112194285), (4360, 0.0031200187268154663), (1638, 0.0031188416848312197), (4439, 0.003118826075715715), (2385, 0.0031171319533750573), (4157, 0.0031170368476142406), (4090, 0.003116977610511545), (3415, 0.0031164676153738026), (1664, 0.003116365905369238), (3867, 0.003116179856432732), (3611, 0.0031157800048364683), (1671, 0.003115517759156496), (3071, 0.003115268923915535), (3347, 0.0031150961772469865), (3717, 0.0031138741590008645), (3839, 0.003113825697773904), (3334, 0.0031135849940824908), (2190, 0.0031131467643943055), (1507, 0.0031126560520115293), (2844, 0.003111688619908224), (571, 0.003110697185647564), (3278, 0.0031096493492540193), (3952, 0.003108371198370783), (1348, 0.0031082520884056835), (3250, 0.003107343265473102), (1175, 0.00310711565846751), (1323, 0.003106352958769467), (3644, 0.0031057973947693374), (2378, 0.00310477611929547), (378, 0.003104615067807699), (2204, 0.003104604847680436), (1613, 0.003104410964190768), (1669, 0.0031043410628222483), (2881, 0.00310385941886129), (3338, 0.003103563305864303), (3152, 0.0031029837679706213), (1943, 0.003102159793343964), (2651, 0.003101951224822249), (3085, 0.0031016525826795824), (3773, 0.003100839184229758), (3160, 0.0031005240588861276), (1843, 0.0031001302426249384), (3076, 0.0030992064385864633), (671, 0.0030989447342969364), (317, 0.0030986322154486715), (4308, 0.003098612796856517), (1045, 0.0030986066837144586), (2240, 0.0030980421187078657), (761, 0.00309696912080791), (3581, 0.0030954754672223917), (875, 0.0030944601728094922), (1660, 0.003091910241482682), (3391, 0.0030915345678092817), (2702, 0.0030902680380409378), (2769, 0.0030901733088933517), (772, 0.003089191955269182), (4722, 0.0030884957109252654), (1545, 0.003086163581522631), (1581, 0.0030857009062209197), (1025, 0.003085415896423666), (3818, 0.0030850819187180677), (3865, 0.003084582528790131), (3696, 0.0030838015060049074), (3937, 0.0030834535742088934), (1957, 0.0030833981295760385), (749, 0.0030833923931806117), (1232, 0.0030832833814913784), (1351, 0.003082721327768006), (2609, 0.0030822778998799436), (1881, 0.0030819842060135203), (3685, 0.0030818135564647654), (3608, 0.0030816217276180367), (3188, 0.003080237630195789), (3454, 0.0030794062860453704), (1066, 0.003078346549198056), (3341, 0.003076562754495943), (1908, 0.0030764977083507106), (1223, 0.0030752986456975065), (2117, 0.0030743343569689502), (4438, 0.003073776702830075), (3449, 0.0030736393076749523), (1946, 0.0030731233722768305), (542, 0.0030720405051633593), (1725, 0.0030714248952656504), (938, 0.0030696855723695497), (2012, 0.003068785016689863), (1539, 0.003066915779464772), (3834, 0.0030655784878720117), (3542, 0.003065069106758381), (995, 0.0030648499881295284), (1333, 0.003064739479748663), (1065, 0.0030646178629030562), (3532, 0.003064316324281741), (135, 0.003064078651698925), (3470, 0.003059988918416873), (2758, 0.0030599736402088843), (2210, 0.003059141799017596), (2455, 0.0030589470122621993), (4789, 0.0030585948143693927), (4270, 0.0030576303632563464), (2126, 0.0030575633561401175), (4064, 0.003057070935783066), (1098, 0.0030557102528245205), (3074, 0.0030556164276750236), (2839, 0.0030553412263105463), (2009, 0.003055038452541518), (2845, 0.003052503046072288), (4795, 0.0030524544216574455), (2512, 0.0030506648365025333), (4351, 0.0030504838860374766), (1204, 0.003049412773875113), (4103, 0.003049057264534741), (1588, 0.0030480018531364402), (2463, 0.003046008814078442), (1591, 0.0030448404066956984), (239, 0.003044394186500565), (662, 0.003042584318647576), (4013, 0.003041638997825809), (1252, 0.0030413441400056087), (4190, 0.0030403254494243293), (2680, 0.0030397179026467095), (2306, 0.0030381679842373436), (545, 0.0030380908603768663), (621, 0.0030374581874516794), (1338, 0.0030362762160209833), (2173, 0.0030361308061148846), (2195, 0.0030347285333215046), (2365, 0.0030336253198526984), (3931, 0.003032378592035993), (2731, 0.0030321775231860757), (2483, 0.0030319791037969035), (2348, 0.003030305867878507), (611, 0.003030272658961779), (3518, 0.00302972325589561), (3223, 0.0030270708266315043), (3708, 0.0030263253403682838), (1994, 0.0030261245607630578), (2520, 0.003024641972768853), (891, 0.00302345067538386), (1075, 0.0030223552426251097), (3636, 0.0030221779837401063), (1736, 0.0030213012703865717), (3095, 0.003019658862906896), (2557, 0.003019609793765856), (346, 0.003019363691252101), (1036, 0.003018842866815094), (1974, 0.0030179595730716055), (3120, 0.0030178965816473765), (2706, 0.0030171814065373553), (4303, 0.0030153220874791107), (407, 0.0030140748153409066), (2073, 0.0030129596437218527), (2992, 0.003012737016476563), (2564, 0.0030125831248703043), (3357, 0.0030105196431671147), (1236, 0.003009980099411969), (827, 0.003009920513566016), (855, 0.003009755502613109), (529, 0.00300882722173977), (1867, 0.0030070511092560918), (1005, 0.003003505015148529), (2025, 0.003002661655817157), (1706, 0.0030022960088354326), (2103, 0.0030018561823783453), (2080, 0.003001268856801912), (3898, 0.0029999160163164717), (1248, 0.002999452738510771), (444, 0.002997893440154743), (3298, 0.002997296910853617), (3474, 0.0029954730017870417), (1841, 0.002995379555481679), (3877, 0.002995162476540864), (4437, 0.002993821550948367), (3801, 0.002992885638297848), (1765, 0.002992467946717931), (2843, 0.0029920829839977813), (4173, 0.002991045212442932), (4637, 0.0029903188460122737), (1307, 0.002987735256271306), (2332, 0.0029873798515266505), (2825, 0.0029869058405512933), (2665, 0.0029858922282183092), (3757, 0.0029855707710245327), (3635, 0.0029836848701471396), (2203, 0.002983083364157614), (684, 0.002981714990726683), (1327, 0.002981458129729035), (1738, 0.0029809432067520346), (2562, 0.00298064013107206), (973, 0.002980279553558673), (2175, 0.002979167823529647), (4398, 0.0029778435225980148), (3346, 0.00297438167944385), (2573, 0.0029732705525508762), (552, 0.002970612383834862), (974, 0.0029704383888160815), (2208, 0.0029672716305219502), (2468, 0.002965592560929328), (1281, 0.0029641268748551433), (3713, 0.002964089709179682), (2643, 0.0029639429484584526), (2818, 0.002963181718812845), (3594, 0.002962906596617922), (3416, 0.0029620120544342253), (2774, 0.002961952474677508), (961, 0.002958318493865883), (559, 0.002957060433413247), (3420, 0.002955550512736738), (2224, 0.0029554449218811042), (987, 0.0029548233597050865), (4643, 0.0029545163142463537), (2647, 0.00295381962972662), (2331, 0.0029531232447891033), (3138, 0.00295257647326744), (3496, 0.0029514123091238277), (950, 0.0029507189901790258), (2381, 0.0029506478840763983), (482, 0.0029495629296242623), (2276, 0.002949525053130331), (333, 0.0029489835351593444), (4104, 0.002946403030432939), (3241, 0.0029456944480812826), (2983, 0.0029456047587228616), (2161, 0.002943621530373058), (872, 0.002942016694692903), (2906, 0.0029417762924366687), (1632, 0.002941660303081597), (1538, 0.002941621221074537), (1472, 0.0029416175084550373), (2924, 0.0029403269485277833), (2440, 0.002940059191042622), (2849, 0.002939389922539509), (4265, 0.0029390924782476914), (4695, 0.002939067851797166), (2340, 0.0029390332254388284), (3104, 0.002938398660957629), (2395, 0.002937954982451894), (650, 0.0029372417394821927), (3870, 0.002936759406095475), (4567, 0.0029364071223938067), (2435, 0.002935856740321214), (2236, 0.0029339924451315174), (2736, 0.002932574557182838), (3562, 0.002929678178799887), (2563, 0.0029292197201767627), (3918, 0.0029290675714159823), (2796, 0.002928450800388217), (1433, 0.002928312969640782), (1255, 0.0029274926946319065), (2739, 0.0029271622513846463), (1855, 0.0029252432873001326), (3476, 0.002923343760812934), (1161, 0.0029226326341752094), (941, 0.0029223479380826646), (3535, 0.002921654436326694), (491, 0.002919459984861213), (4402, 0.0029186640702160063), (2310, 0.002917264653758334), (865, 0.0029166998588065606), (1925, 0.0029159182996310934), (1439, 0.002914044286294391), (3100, 0.002913639658778322), (1810, 0.0029129915138916625), (2508, 0.0029122875213623157), (576, 0.0029116582409324824), (1813, 0.0029104418024051984), (2582, 0.002908852050478373), (3758, 0.002906168728547372), (1497, 0.002902189811458885), (4032, 0.002900692631496619), (2314, 0.002900400810403787), (3643, 0.0028992339958721345), (4220, 0.0028986190693724126), (1575, 0.0028980985727824213), (2580, 0.0028979089762991486), (4329, 0.002895289501486667), (3530, 0.0028939834132810944), (3209, 0.0028938585393650327), (1095, 0.0028934486947893804), (1870, 0.002891812309027592), (3731, 0.002891788349863185), (3165, 0.002890861157218326), (2432, 0.0028881947457230542), (3797, 0.0028869920839419425), (452, 0.002884838481559589), (3540, 0.002884736705657416), (4738, 0.0028845560899169176), (2985, 0.002884506801643958), (454, 0.0028828632607602895), (918, 0.0028828037131290378), (3212, 0.002880954356281358), (2613, 0.002879972302022821), (4793, 0.0028797442876592892), (2553, 0.002877622677408073), (3441, 0.002875540577496469), (3242, 0.002873985540485922), (556, 0.0028733424903928874), (3409, 0.002872817927279386), (1476, 0.002872036233528536), (1793, 0.002871324457723603), (3466, 0.0028682492803986217), (1923, 0.0028675351203963527), (2700, 0.002866347556438783), (2811, 0.0028661754057539017), (2106, 0.002864090121577549), (3753, 0.002862459853343581), (1869, 0.00286147446849572), (2260, 0.0028596246248208932), (1626, 0.00285924716819229), (2291, 0.0028564225241271067), (475, 0.0028518124389744926), (3999, 0.002843274586897871), (2660, 0.0028425482298498404), (2019, 0.002840629606379719), (1052, 0.002839811452274174), (3603, 0.0028382059975622996), (4404, 0.0028380525438990683), (3900, 0.002835703599287231), (2183, 0.0028347051778758923), (2641, 0.0028346578104724296), (3323, 0.0028289172211652027), (3989, 0.0028282154007564756), (3149, 0.0028271774003080933), (4605, 0.002826681337676906), (4085, 0.0028225302100248688), (2860, 0.0028225215240625916), (4194, 0.0028208617813518843), (3602, 0.0028207520863262926), (1109, 0.0028170839951175346), (1570, 0.002815401880487376), (3788, 0.0028150361927864317), (1831, 0.0028119792600373), (3748, 0.0028094475849079446), (3879, 0.002808518937952034), (3277, 0.0028074628920070313), (3552, 0.0028074123955625246), (1477, 0.0028049493758260688), (2787, 0.002804802018025978), (3093, 0.002803145726042931), (145, 0.0028017803174793555), (1700, 0.0028003578710017554), (4107, 0.0027996518430812387), (2898, 0.0027992875848478834), (3219, 0.002794844202185218), (3814, 0.0027936799548781656), (3026, 0.0027904811540040418), (2628, 0.002789888590083976), (3673, 0.002789446889282044), (3880, 0.002785661038291891), (3983, 0.002785005333997401), (2623, 0.002780951056002747), (4083, 0.0027781928413930313), (2887, 0.0027733640638365736), (3019, 0.0027725768100462286), (3370, 0.00277246801325359), (1584, 0.0027721568334665766), (629, 0.0027708975301002233), (2304, 0.002770303243267677), (3070, 0.0027689927789210016), (2832, 0.0027682979790048193), (1795, 0.002766562477560594), (2724, 0.0027664118809707064), (3570, 0.0027661777271033423), (3703, 0.0027659577136716095), (4727, 0.002763211616810809), (851, 0.002762861885273859), (1878, 0.002755538908773484), (84, 0.0027554456459774395), (1888, 0.00275258401658764), (1298, 0.0027491437793887886), (1211, 0.002746067471554954), (3520, 0.0027433707957553104), (1251, 0.002741607412731311), (909, 0.0027415475326446666), (4260, 0.002739588455613006), (2666, 0.0027301719855453025), (1128, 0.00272769116052912), (4796, 0.0027246552238915254), (3722, 0.002724275415259123), (2135, 0.0027236517401695868), (2953, 0.0027226346186628213), (2711, 0.0027224132016026915), (4542, 0.0027211191556220224), (4089, 0.0027206619970807718), (3747, 0.002719932024787197), (2616, 0.0027182260184139004), (1948, 0.002716749019285777), (4226, 0.0027085895837122903), (1768, 0.0027073287794084893), (4364, 0.0027042132330763885), (2013, 0.0027038199061692044), (4150, 0.002697545309790484), (2888, 0.0026952989886421313), (1286, 0.0026928759334273983), (3231, 0.0026896906737434037), (3084, 0.0026841478939014698), (2884, 0.0026833399032796103), (2657, 0.0026755650218005154), (1454, 0.0026754100875025855), (3140, 0.00267365754717999), (3091, 0.0026715102382769505), (3421, 0.0026713716953476307), (4434, 0.0026711589980054893), (4719, 0.002668565259120602), (4288, 0.0026648983130173223), (4474, 0.0026619815751447755), (4144, 0.0026611704399813665), (2925, 0.002656850128312906), (3131, 0.0026519341147384426), (4510, 0.002646122986069247), (97, 0.002638924032345877), (3369, 0.002638502565082811), (1752, 0.0026315409848687355), (2794, 0.002628094571945503), (2742, 0.0026217775547684994), (3492, 0.002621413008340177), (2661, 0.0026198789340577833), (3512, 0.0026131342413165588), (1461, 0.0025896263585128577), (999, 0.002567522282102469), (4486, 0.0025606769495958898), (2954, 0.0025559755958292738), (4206, 0.0025493610855552525), (3645, 0.0025276354370575836), (2677, 0.0025053005378892967), (4174, 0.0024975290800966364), (2877, 0.0024963332800622133), (2138, 0.0024807161697309892), (3553, 0.0024602147245934456), (4742, 0.002440587440282718), (3866, 0.0024395588305083375), (4084, 0.0024353784160112382), (4512, 0.002422101704432275), (2808, 0.002407187136737864), (1316, 0.0024002319870032665), (2784, 0.0023381790421705124), (1304, 0.0023223640457285676), (3974, 0.0023207785999290794), (1748, 0.002315817283299073), (4164, 0.0023073249332894613), (2893, 0.002304425944101302), (2026, 0.00228879550749079), (3906, 0.00227984326665182), (2446, 0.0022733412835276505), (1875, 0.0022039415356286097), (1462, 0.0021686098947583735), (1557, 0.002132204641192995), (2697, 0.002129007556626072), (4452, 0.0021262499344768685), (2456, 0.0018229082771822746), (2524, 0.0014559200507265496), (2, 0.0), (6, 0.0), (7, 0.0), (9, 0.0), (12, 0.0), (13, 0.0), (15, 0.0), (16, 0.0), (17, 0.0), (18, 0.0), (21, 0.0), (23, 0.0), (26, 0.0), (27, 0.0), (28, 0.0), (29, 0.0), (31, 0.0), (32, 0.0), (33, 0.0), (34, 0.0), (35, 0.0), (36, 0.0), (39, 0.0), (40, 0.0), (41, 0.0), (42, 0.0), (44, 0.0), (46, 0.0), (47, 0.0), (48, 0.0), (50, 0.0), (51, 0.0), (52, 0.0), (55, 0.0), (56, 0.0), (57, 0.0), (58, 0.0), (61, 0.0), (62, 0.0), (64, 0.0), (66, 0.0), (67, 0.0), (68, 0.0), (70, 0.0), (71, 0.0), (72, 0.0), (74, 0.0), (75, 0.0), (76, 0.0), (81, 0.0), (83, 0.0), (85, 0.0), (86, 0.0), (90, 0.0), (91, 0.0), (92, 0.0), (94, 0.0), (98, 0.0), (99, 0.0), (105, 0.0), (107, 0.0), (109, 0.0), (117, 0.0), (120, 0.0), (122, 0.0), (126, 0.0), (127, 0.0), (128, 0.0), (129, 0.0), (132, 0.0), (134, 0.0), (136, 0.0), (138, 0.0), (139, 0.0), (141, 0.0), (142, 0.0), (143, 0.0), (144, 0.0), (146, 0.0), (147, 0.0), (148, 0.0), (151, 0.0), (152, 0.0), (153, 0.0), (154, 0.0), (155, 0.0), (158, 0.0), (160, 0.0), (161, 0.0), (162, 0.0), (164, 0.0), (166, 0.0), (168, 0.0), (170, 0.0), (174, 0.0), (177, 0.0), (178, 0.0), (181, 0.0), (182, 0.0), (183, 0.0), (184, 0.0), (185, 0.0), (187, 0.0), (188, 0.0), (190, 0.0), (191, 0.0), (193, 0.0), (194, 0.0), (197, 0.0), (198, 0.0), (200, 0.0), (201, 0.0), (202, 0.0), (203, 0.0), (204, 0.0), (205, 0.0), (206, 0.0), (207, 0.0), (208, 0.0), (209, 0.0), (210, 0.0), (211, 0.0), (213, 0.0), (218, 0.0), (219, 0.0), (220, 0.0), (221, 0.0), (224, 0.0), (227, 0.0), (228, 0.0), (229, 0.0), (230, 0.0), (231, 0.0), (233, 0.0), (235, 0.0), (238, 0.0), (240, 0.0), (241, 0.0), (242, 0.0), (247, 0.0), (249, 0.0), (251, 0.0), (252, 0.0), (253, 0.0), (254, 0.0), (255, 0.0), (258, 0.0), (259, 0.0), (260, 0.0), (261, 0.0), (262, 0.0), (263, 0.0), (265, 0.0), (266, 0.0), (268, 0.0), (269, 0.0), (272, 0.0), (273, 0.0), (275, 0.0), (276, 0.0), (277, 0.0), (278, 0.0), (279, 0.0), (282, 0.0), (284, 0.0), (285, 0.0), (289, 0.0), (290, 0.0), (291, 0.0), (295, 0.0), (296, 0.0), (299, 0.0), (300, 0.0), (302, 0.0), (303, 0.0), (304, 0.0), (306, 0.0), (307, 0.0), (309, 0.0), (311, 0.0), (315, 0.0), (321, 0.0), (322, 0.0), (324, 0.0), (325, 0.0), (328, 0.0), (330, 0.0), (331, 0.0), (332, 0.0), (334, 0.0), (337, 0.0), (338, 0.0), (339, 0.0), (341, 0.0), (343, 0.0), (344, 0.0), (345, 0.0), (347, 0.0), (350, 0.0), (352, 0.0), (355, 0.0), (356, 0.0), (358, 0.0), (359, 0.0), (362, 0.0), (364, 0.0), (366, 0.0), (368, 0.0), (369, 0.0), (370, 0.0), (371, 0.0), (372, 0.0), (373, 0.0), (379, 0.0), (381, 0.0), (388, 0.0), (389, 0.0), (390, 0.0), (391, 0.0), (392, 0.0), (394, 0.0), (397, 0.0), (399, 0.0), (400, 0.0), (402, 0.0), (403, 0.0), (413, 0.0), (414, 0.0), (415, 0.0), (417, 0.0), (418, 0.0), (422, 0.0), (423, 0.0), (424, 0.0), (425, 0.0), (426, 0.0), (427, 0.0), (428, 0.0), (429, 0.0), (430, 0.0), (431, 0.0), (433, 0.0), (435, 0.0), (436, 0.0), (442, 0.0), (443, 0.0), (445, 0.0), (446, 0.0), (447, 0.0), (449, 0.0), (451, 0.0), (453, 0.0), (457, 0.0), (458, 0.0), (459, 0.0), (460, 0.0), (461, 0.0), (464, 0.0), (465, 0.0), (466, 0.0), (467, 0.0), (468, 0.0), (469, 0.0), (471, 0.0), (472, 0.0), (478, 0.0), (479, 0.0), (480, 0.0), (483, 0.0), (486, 0.0), (487, 0.0), (488, 0.0), (490, 0.0), (492, 0.0), (495, 0.0), (496, 0.0), (497, 0.0), (498, 0.0), (499, 0.0), (500, 0.0), (501, 0.0), (502, 0.0), (503, 0.0), (504, 0.0), (506, 0.0), (507, 0.0), (508, 0.0), (509, 0.0), (511, 0.0), (513, 0.0), (514, 0.0), (517, 0.0), (518, 0.0), (519, 0.0), (520, 0.0), (522, 0.0), (523, 0.0), (527, 0.0), (530, 0.0), (532, 0.0), (533, 0.0), (534, 0.0), (539, 0.0), (540, 0.0), (541, 0.0), (549, 0.0), (550, 0.0), (551, 0.0), (555, 0.0), (558, 0.0), (563, 0.0), (565, 0.0), (567, 0.0), (573, 0.0), (578, 0.0), (579, 0.0), (580, 0.0), (581, 0.0), (584, 0.0), (587, 0.0), (591, 0.0), (594, 0.0), (595, 0.0), (597, 0.0), (600, 0.0), (601, 0.0), (603, 0.0), (604, 0.0), (605, 0.0), (607, 0.0), (608, 0.0), (609, 0.0), (613, 0.0), (614, 0.0), (615, 0.0), (616, 0.0), (618, 0.0), (619, 0.0), (623, 0.0), (624, 0.0), (626, 0.0), (630, 0.0), (636, 0.0), (639, 0.0), (640, 0.0), (643, 0.0), (646, 0.0), (649, 0.0), (653, 0.0), (654, 0.0), (655, 0.0), (657, 0.0), (659, 0.0), (661, 0.0), (664, 0.0), (665, 0.0), (666, 0.0), (668, 0.0), (669, 0.0), (674, 0.0), (675, 0.0), (679, 0.0), (682, 0.0), (683, 0.0), (686, 0.0), (687, 0.0), (688, 0.0), (689, 0.0), (695, 0.0), (699, 0.0), (700, 0.0), (701, 0.0), (702, 0.0), (704, 0.0), (705, 0.0), (706, 0.0), (707, 0.0), (708, 0.0), (711, 0.0), (715, 0.0), (718, 0.0), (719, 0.0), (721, 0.0), (723, 0.0), (725, 0.0), (726, 0.0), (727, 0.0), (728, 0.0), (730, 0.0), (731, 0.0), (732, 0.0), (734, 0.0), (735, 0.0), (736, 0.0), (740, 0.0), (742, 0.0), (745, 0.0), (746, 0.0), (748, 0.0), (750, 0.0), (751, 0.0), (753, 0.0), (754, 0.0), (755, 0.0), (756, 0.0), (760, 0.0), (766, 0.0), (768, 0.0), (769, 0.0), (770, 0.0), (780, 0.0), (781, 0.0), (783, 0.0), (786, 0.0), (790, 0.0), (791, 0.0), (792, 0.0), (793, 0.0), (794, 0.0), (796, 0.0), (803, 0.0), (805, 0.0), (810, 0.0), (811, 0.0), (814, 0.0), (816, 0.0), (817, 0.0), (819, 0.0), (820, 0.0), (821, 0.0), (828, 0.0), (830, 0.0), (833, 0.0), (835, 0.0), (837, 0.0), (838, 0.0), (840, 0.0), (841, 0.0), (842, 0.0), (843, 0.0), (846, 0.0), (847, 0.0), (848, 0.0), (857, 0.0), (859, 0.0), (863, 0.0), (864, 0.0), (866, 0.0), (873, 0.0), (876, 0.0), (885, 0.0), (886, 0.0), (887, 0.0), (888, 0.0), (890, 0.0), (893, 0.0), (894, 0.0), (895, 0.0), (896, 0.0), (897, 0.0), (899, 0.0), (900, 0.0), (903, 0.0), (907, 0.0), (908, 0.0), (911, 0.0), (912, 0.0), (913, 0.0), (916, 0.0), (917, 0.0), (923, 0.0), (926, 0.0), (927, 0.0), (930, 0.0), (931, 0.0), (933, 0.0), (934, 0.0), (935, 0.0), (936, 0.0), (937, 0.0), (939, 0.0), (943, 0.0), (948, 0.0), (949, 0.0), (951, 0.0), (952, 0.0), (953, 0.0), (956, 0.0), (957, 0.0), (960, 0.0), (966, 0.0), (976, 0.0), (981, 0.0), (983, 0.0), (984, 0.0), (986, 0.0), (989, 0.0), (992, 0.0), (993, 0.0), (994, 0.0), (997, 0.0), (998, 0.0), (1001, 0.0), (1003, 0.0), (1008, 0.0), (1011, 0.0), (1012, 0.0), (1013, 0.0), (1014, 0.0), (1020, 0.0), (1021, 0.0), (1024, 0.0), (1027, 0.0), (1029, 0.0), (1034, 0.0), (1037, 0.0), (1040, 0.0), (1041, 0.0), (1042, 0.0), (1043, 0.0), (1050, 0.0), (1054, 0.0), (1055, 0.0), (1056, 0.0), (1058, 0.0), (1060, 0.0), (1064, 0.0), (1068, 0.0), (1070, 0.0), (1071, 0.0), (1073, 0.0), (1076, 0.0), (1077, 0.0), (1078, 0.0), (1083, 0.0), (1086, 0.0), (1088, 0.0), (1092, 0.0), (1096, 0.0), (1099, 0.0), (1100, 0.0), (1101, 0.0), (1103, 0.0), (1104, 0.0), (1108, 0.0), (1110, 0.0), (1114, 0.0), (1115, 0.0), (1118, 0.0), (1119, 0.0), (1121, 0.0), (1122, 0.0), (1124, 0.0), (1126, 0.0), (1130, 0.0), (1132, 0.0), (1133, 0.0), (1137, 0.0), (1139, 0.0), (1140, 0.0), (1142, 0.0), (1144, 0.0), (1146, 0.0), (1147, 0.0), (1152, 0.0), (1155, 0.0), (1163, 0.0), (1165, 0.0), (1166, 0.0), (1167, 0.0), (1171, 0.0), (1173, 0.0), (1174, 0.0), (1177, 0.0), (1179, 0.0), (1180, 0.0), (1183, 0.0), (1184, 0.0), (1185, 0.0), (1186, 0.0), (1189, 0.0), (1191, 0.0), (1192, 0.0), (1195, 0.0), (1197, 0.0), (1198, 0.0), (1201, 0.0), (1210, 0.0), (1212, 0.0), (1213, 0.0), (1217, 0.0), (1219, 0.0), (1222, 0.0), (1224, 0.0), (1225, 0.0), (1228, 0.0), (1229, 0.0), (1230, 0.0), (1237, 0.0), (1242, 0.0), (1244, 0.0), (1256, 0.0), (1257, 0.0), (1259, 0.0), (1260, 0.0), (1261, 0.0), (1262, 0.0), (1266, 0.0), (1267, 0.0), (1268, 0.0), (1270, 0.0), (1272, 0.0), (1285, 0.0), (1287, 0.0), (1288, 0.0), (1289, 0.0), (1290, 0.0), (1292, 0.0), (1293, 0.0), (1294, 0.0), (1297, 0.0), (1299, 0.0), (1301, 0.0), (1302, 0.0), (1303, 0.0), (1306, 0.0), (1309, 0.0), (1310, 0.0), (1312, 0.0), (1318, 0.0), (1319, 0.0), (1321, 0.0), (1324, 0.0), (1326, 0.0), (1331, 0.0), (1334, 0.0), (1335, 0.0), (1340, 0.0), (1341, 0.0), (1343, 0.0), (1344, 0.0), (1346, 0.0), (1352, 0.0), (1354, 0.0), (1355, 0.0), (1356, 0.0), (1359, 0.0), (1361, 0.0), (1367, 0.0), (1371, 0.0), (1376, 0.0), (1377, 0.0), (1382, 0.0), (1384, 0.0), (1385, 0.0), (1390, 0.0), (1392, 0.0), (1395, 0.0), (1399, 0.0), (1402, 0.0), (1403, 0.0), (1407, 0.0), (1410, 0.0), (1412, 0.0), (1414, 0.0), (1417, 0.0), (1421, 0.0), (1423, 0.0), (1425, 0.0), (1430, 0.0), (1431, 0.0), (1434, 0.0), (1435, 0.0), (1436, 0.0), (1437, 0.0), (1441, 0.0), (1445, 0.0), (1447, 0.0), (1450, 0.0), (1458, 0.0), (1463, 0.0), (1465, 0.0), (1466, 0.0), (1469, 0.0), (1475, 0.0), (1479, 0.0), (1480, 0.0), (1481, 0.0), (1482, 0.0), (1484, 0.0), (1488, 0.0), (1491, 0.0), (1493, 0.0), (1494, 0.0), (1496, 0.0), (1498, 0.0), (1499, 0.0), (1501, 0.0), (1504, 0.0), (1505, 0.0), (1513, 0.0), (1514, 0.0), (1515, 0.0), (1517, 0.0), (1519, 0.0), (1520, 0.0), (1521, 0.0), (1524, 0.0), (1528, 0.0), (1531, 0.0), (1534, 0.0), (1536, 0.0), (1537, 0.0), (1541, 0.0), (1542, 0.0), (1546, 0.0), (1548, 0.0), (1549, 0.0), (1550, 0.0), (1551, 0.0), (1552, 0.0), (1553, 0.0), (1554, 0.0), (1555, 0.0), (1558, 0.0), (1560, 0.0), (1562, 0.0), (1567, 0.0), (1568, 0.0), (1569, 0.0), (1573, 0.0), (1574, 0.0), (1576, 0.0), (1578, 0.0), (1579, 0.0), (1580, 0.0), (1585, 0.0), (1586, 0.0), (1587, 0.0), (1592, 0.0), (1593, 0.0), (1594, 0.0), (1598, 0.0), (1602, 0.0), (1604, 0.0), (1606, 0.0), (1608, 0.0), (1609, 0.0), (1610, 0.0), (1614, 0.0), (1616, 0.0), (1619, 0.0), (1620, 0.0), (1625, 0.0), (1627, 0.0), (1628, 0.0), (1630, 0.0), (1633, 0.0), (1634, 0.0), (1636, 0.0), (1637, 0.0), (1639, 0.0), (1641, 0.0), (1642, 0.0), (1645, 0.0), (1646, 0.0), (1648, 0.0), (1650, 0.0), (1652, 0.0), (1653, 0.0), (1656, 0.0), (1658, 0.0), (1662, 0.0), (1670, 0.0), (1673, 0.0), (1676, 0.0), (1681, 0.0), (1682, 0.0), (1683, 0.0), (1685, 0.0), (1690, 0.0), (1697, 0.0), (1698, 0.0), (1699, 0.0), (1701, 0.0), (1702, 0.0), (1703, 0.0), (1707, 0.0), (1709, 0.0), (1711, 0.0), (1712, 0.0), (1713, 0.0), (1714, 0.0), (1715, 0.0), (1716, 0.0), (1717, 0.0), (1720, 0.0), (1721, 0.0), (1723, 0.0), (1726, 0.0), (1729, 0.0), (1730, 0.0), (1733, 0.0), (1734, 0.0), (1735, 0.0), (1737, 0.0), (1740, 0.0), (1741, 0.0), (1743, 0.0), (1750, 0.0), (1753, 0.0), (1755, 0.0), (1757, 0.0), (1766, 0.0), (1767, 0.0), (1769, 0.0), (1771, 0.0), (1777, 0.0), (1778, 0.0), (1779, 0.0), (1782, 0.0), (1783, 0.0), (1785, 0.0), (1788, 0.0), (1789, 0.0), (1790, 0.0), (1791, 0.0), (1792, 0.0), (1797, 0.0), (1798, 0.0), (1800, 0.0), (1801, 0.0), (1804, 0.0), (1806, 0.0), (1807, 0.0), (1808, 0.0), (1815, 0.0), (1821, 0.0), (1822, 0.0), (1823, 0.0), (1825, 0.0), (1826, 0.0), (1827, 0.0), (1830, 0.0), (1834, 0.0), (1851, 0.0), (1856, 0.0), (1857, 0.0), (1858, 0.0), (1860, 0.0), (1862, 0.0), (1865, 0.0), (1866, 0.0), (1872, 0.0), (1876, 0.0), (1879, 0.0), (1880, 0.0), (1882, 0.0), (1883, 0.0), (1887, 0.0), (1892, 0.0), (1894, 0.0), (1897, 0.0), (1902, 0.0), (1906, 0.0), (1909, 0.0), (1910, 0.0), (1911, 0.0), (1918, 0.0), (1919, 0.0), (1933, 0.0), (1934, 0.0), (1936, 0.0), (1937, 0.0), (1939, 0.0), (1942, 0.0), (1947, 0.0), (1950, 0.0), (1951, 0.0), (1953, 0.0), (1955, 0.0), (1956, 0.0), (1963, 0.0), (1968, 0.0), (1972, 0.0), (1975, 0.0), (1976, 0.0), (1980, 0.0), (1981, 0.0), (1987, 0.0), (1988, 0.0), (1989, 0.0), (1991, 0.0), (1992, 0.0), (1993, 0.0), (1999, 0.0), (2001, 0.0), (2002, 0.0), (2003, 0.0), (2007, 0.0), (2014, 0.0), (2015, 0.0), (2018, 0.0), (2021, 0.0), (2034, 0.0), (2035, 0.0), (2036, 0.0), (2037, 0.0), (2043, 0.0), (2045, 0.0), (2046, 0.0), (2047, 0.0), (2050, 0.0), (2055, 0.0), (2056, 0.0), (2064, 0.0), (2065, 0.0), (2066, 0.0), (2067, 0.0), (2069, 0.0), (2070, 0.0), (2074, 0.0), (2076, 0.0), (2083, 0.0), (2084, 0.0), (2090, 0.0), (2092, 0.0), (2093, 0.0), (2094, 0.0), (2095, 0.0), (2097, 0.0), (2098, 0.0), (2107, 0.0), (2111, 0.0), (2112, 0.0), (2113, 0.0), (2114, 0.0), (2116, 0.0), (2119, 0.0), (2120, 0.0), (2122, 0.0), (2125, 0.0), (2127, 0.0), (2137, 0.0), (2139, 0.0), (2143, 0.0), (2144, 0.0), (2146, 0.0), (2153, 0.0), (2156, 0.0), (2157, 0.0), (2158, 0.0), (2160, 0.0), (2162, 0.0), (2167, 0.0), (2174, 0.0), (2180, 0.0), (2182, 0.0), (2184, 0.0), (2185, 0.0), (2189, 0.0), (2191, 0.0), (2194, 0.0), (2196, 0.0), (2198, 0.0), (2199, 0.0), (2200, 0.0), (2201, 0.0), (2206, 0.0), (2209, 0.0), (2212, 0.0), (2217, 0.0), (2221, 0.0), (2222, 0.0), (2223, 0.0), (2226, 0.0), (2228, 0.0), (2229, 0.0), (2230, 0.0), (2235, 0.0), (2244, 0.0), (2252, 0.0), (2253, 0.0), (2256, 0.0), (2258, 0.0), (2261, 0.0), (2263, 0.0), (2264, 0.0), (2267, 0.0), (2270, 0.0), (2272, 0.0), (2274, 0.0), (2275, 0.0), (2279, 0.0), (2281, 0.0), (2285, 0.0), (2290, 0.0), (2293, 0.0), (2294, 0.0), (2295, 0.0), (2298, 0.0), (2299, 0.0), (2308, 0.0), (2309, 0.0), (2312, 0.0), (2315, 0.0), (2316, 0.0), (2317, 0.0), (2319, 0.0), (2320, 0.0), (2324, 0.0), (2325, 0.0), (2326, 0.0), (2327, 0.0), (2337, 0.0), (2338, 0.0), (2339, 0.0), (2351, 0.0), (2352, 0.0), (2355, 0.0), (2360, 0.0), (2363, 0.0), (2366, 0.0), (2370, 0.0), (2376, 0.0), (2379, 0.0), (2380, 0.0), (2382, 0.0), (2389, 0.0), (2391, 0.0), (2392, 0.0), (2394, 0.0), (2396, 0.0), (2400, 0.0), (2401, 0.0), (2403, 0.0), (2406, 0.0), (2409, 0.0), (2410, 0.0), (2411, 0.0), (2412, 0.0), (2413, 0.0), (2414, 0.0), (2417, 0.0), (2418, 0.0), (2420, 0.0), (2422, 0.0), (2426, 0.0), (2437, 0.0), (2441, 0.0), (2444, 0.0), (2445, 0.0), (2451, 0.0), (2454, 0.0), (2460, 0.0), (2462, 0.0), (2464, 0.0), (2466, 0.0), (2471, 0.0), (2477, 0.0), (2482, 0.0), (2484, 0.0), (2490, 0.0), (2492, 0.0), (2497, 0.0), (2500, 0.0), (2509, 0.0), (2510, 0.0), (2511, 0.0), (2513, 0.0), (2518, 0.0), (2526, 0.0), (2527, 0.0), (2528, 0.0), (2530, 0.0), (2538, 0.0), (2540, 0.0), (2541, 0.0), (2544, 0.0), (2548, 0.0), (2551, 0.0), (2554, 0.0), (2555, 0.0), (2556, 0.0), (2559, 0.0), (2567, 0.0), (2570, 0.0), (2575, 0.0), (2579, 0.0), (2581, 0.0), (2587, 0.0), (2588, 0.0), (2590, 0.0), (2591, 0.0), (2597, 0.0), (2598, 0.0), (2601, 0.0), (2602, 0.0), (2604, 0.0), (2607, 0.0), (2612, 0.0), (2618, 0.0), (2619, 0.0), (2621, 0.0), (2622, 0.0), (2625, 0.0), (2632, 0.0), (2635, 0.0), (2639, 0.0), (2644, 0.0), (2654, 0.0), (2655, 0.0), (2664, 0.0), (2668, 0.0), (2672, 0.0), (2673, 0.0), (2675, 0.0), (2676, 0.0), (2681, 0.0), (2685, 0.0), (2687, 0.0), (2688, 0.0), (2689, 0.0), (2690, 0.0), (2692, 0.0), (2695, 0.0), (2696, 0.0), (2698, 0.0), (2699, 0.0), (2705, 0.0), (2707, 0.0), (2712, 0.0), (2715, 0.0), (2728, 0.0), (2729, 0.0), (2733, 0.0), (2735, 0.0), (2738, 0.0), (2740, 0.0), (2743, 0.0), (2744, 0.0), (2746, 0.0), (2747, 0.0), (2750, 0.0), (2751, 0.0), (2754, 0.0), (2755, 0.0), (2761, 0.0), (2762, 0.0), (2767, 0.0), (2768, 0.0), (2777, 0.0), (2781, 0.0), (2783, 0.0), (2785, 0.0), (2809, 0.0), (2812, 0.0), (2813, 0.0), (2816, 0.0), (2817, 0.0), (2819, 0.0), (2821, 0.0), (2823, 0.0), (2826, 0.0), (2828, 0.0), (2831, 0.0), (2834, 0.0), (2837, 0.0), (2841, 0.0), (2848, 0.0), (2850, 0.0), (2853, 0.0), (2854, 0.0), (2865, 0.0), (2867, 0.0), (2868, 0.0), (2874, 0.0), (2879, 0.0), (2889, 0.0), (2895, 0.0), (2897, 0.0), (2899, 0.0), (2900, 0.0), (2902, 0.0), (2905, 0.0), (2912, 0.0), (2913, 0.0), (2918, 0.0), (2922, 0.0), (2923, 0.0), (2928, 0.0), (2929, 0.0), (2930, 0.0), (2931, 0.0), (2934, 0.0), (2937, 0.0), (2944, 0.0), (2945, 0.0), (2949, 0.0), (2955, 0.0), (2967, 0.0), (2977, 0.0), (2979, 0.0), (2980, 0.0), (2981, 0.0), (2982, 0.0), (2987, 0.0), (2988, 0.0), (2990, 0.0), (2991, 0.0), (2995, 0.0), (2996, 0.0), (2997, 0.0), (2998, 0.0), (2999, 0.0), (3001, 0.0), (3002, 0.0), (3003, 0.0), (3004, 0.0), (3007, 0.0), (3008, 0.0), (3013, 0.0), (3014, 0.0), (3015, 0.0), (3021, 0.0), (3024, 0.0), (3033, 0.0), (3036, 0.0), (3037, 0.0), (3038, 0.0), (3042, 0.0), (3044, 0.0), (3045, 0.0), (3046, 0.0), (3048, 0.0), (3049, 0.0), (3050, 0.0), (3051, 0.0), (3053, 0.0), (3058, 0.0), (3063, 0.0), (3065, 0.0), (3067, 0.0), (3077, 0.0), (3079, 0.0), (3081, 0.0), (3089, 0.0), (3090, 0.0), (3094, 0.0), (3097, 0.0), (3098, 0.0), (3099, 0.0), (3101, 0.0), (3108, 0.0), (3111, 0.0), (3114, 0.0), (3115, 0.0), (3121, 0.0), (3122, 0.0), (3128, 0.0), (3129, 0.0), (3132, 0.0), (3133, 0.0), (3137, 0.0), (3139, 0.0), (3142, 0.0), (3143, 0.0), (3146, 0.0), (3147, 0.0), (3148, 0.0), (3150, 0.0), (3153, 0.0), (3158, 0.0), (3162, 0.0), (3163, 0.0), (3167, 0.0), (3168, 0.0), (3169, 0.0), (3171, 0.0), (3174, 0.0), (3175, 0.0), (3176, 0.0), (3179, 0.0), (3182, 0.0), (3184, 0.0), (3190, 0.0), (3192, 0.0), (3193, 0.0), (3204, 0.0), (3207, 0.0), (3208, 0.0), (3210, 0.0), (3213, 0.0), (3214, 0.0), (3215, 0.0), (3216, 0.0), (3218, 0.0), (3228, 0.0), (3230, 0.0), (3232, 0.0), (3233, 0.0), (3235, 0.0), (3237, 0.0), (3240, 0.0), (3243, 0.0), (3244, 0.0), (3247, 0.0), (3248, 0.0), (3249, 0.0), (3251, 0.0), (3252, 0.0), (3256, 0.0), (3259, 0.0), (3260, 0.0), (3268, 0.0), (3281, 0.0), (3286, 0.0), (3290, 0.0), (3300, 0.0), (3306, 0.0), (3312, 0.0), (3317, 0.0), (3318, 0.0), (3324, 0.0), (3327, 0.0), (3333, 0.0), (3335, 0.0), (3336, 0.0), (3343, 0.0), (3349, 0.0), (3351, 0.0), (3353, 0.0), (3354, 0.0), (3355, 0.0), (3360, 0.0), (3361, 0.0), (3364, 0.0), (3371, 0.0), (3372, 0.0), (3383, 0.0), (3386, 0.0), (3389, 0.0), (3399, 0.0), (3400, 0.0), (3401, 0.0), (3402, 0.0), (3403, 0.0), (3404, 0.0), (3412, 0.0), (3413, 0.0), (3418, 0.0), (3423, 0.0), (3425, 0.0), (3428, 0.0), (3442, 0.0), (3443, 0.0), (3444, 0.0), (3446, 0.0), (3448, 0.0), (3451, 0.0), (3455, 0.0), (3456, 0.0), (3458, 0.0), (3460, 0.0), (3462, 0.0), (3463, 0.0), (3464, 0.0), (3471, 0.0), (3475, 0.0), (3478, 0.0), (3481, 0.0), (3483, 0.0), (3484, 0.0), (3485, 0.0), (3490, 0.0), (3502, 0.0), (3509, 0.0), (3515, 0.0), (3519, 0.0), (3523, 0.0), (3524, 0.0), (3525, 0.0), (3531, 0.0), (3534, 0.0), (3536, 0.0), (3549, 0.0), (3554, 0.0), (3555, 0.0), (3557, 0.0), (3559, 0.0), (3561, 0.0), (3563, 0.0), (3565, 0.0), (3566, 0.0), (3572, 0.0), (3573, 0.0), (3574, 0.0), (3578, 0.0), (3580, 0.0), (3586, 0.0), (3592, 0.0), (3595, 0.0), (3597, 0.0), (3600, 0.0), (3601, 0.0), (3604, 0.0), (3606, 0.0), (3609, 0.0), (3617, 0.0), (3618, 0.0), (3623, 0.0), (3640, 0.0), (3646, 0.0), (3648, 0.0), (3652, 0.0), (3653, 0.0), (3655, 0.0), (3656, 0.0), (3657, 0.0), (3660, 0.0), (3663, 0.0), (3664, 0.0), (3667, 0.0), (3670, 0.0), (3671, 0.0), (3672, 0.0), (3676, 0.0), (3677, 0.0), (3682, 0.0), (3687, 0.0), (3694, 0.0), (3697, 0.0), (3702, 0.0), (3705, 0.0), (3707, 0.0), (3714, 0.0), (3715, 0.0), (3720, 0.0), (3721, 0.0), (3724, 0.0), (3730, 0.0), (3735, 0.0), (3736, 0.0), (3742, 0.0), (3744, 0.0), (3746, 0.0), (3749, 0.0), (3752, 0.0), (3754, 0.0), (3755, 0.0), (3756, 0.0), (3760, 0.0), (3771, 0.0), (3772, 0.0), (3774, 0.0), (3777, 0.0), (3784, 0.0), (3786, 0.0), (3787, 0.0), (3790, 0.0), (3799, 0.0), (3803, 0.0), (3806, 0.0), (3807, 0.0), (3808, 0.0), (3809, 0.0), (3816, 0.0), (3820, 0.0), (3824, 0.0), (3825, 0.0), (3826, 0.0), (3827, 0.0), (3829, 0.0), (3830, 0.0), (3835, 0.0), (3841, 0.0), (3843, 0.0), (3845, 0.0), (3848, 0.0), (3849, 0.0), (3851, 0.0), (3853, 0.0), (3854, 0.0), (3855, 0.0), (3859, 0.0), (3861, 0.0), (3871, 0.0), (3882, 0.0), (3883, 0.0), (3884, 0.0), (3885, 0.0), (3888, 0.0), (3890, 0.0), (3891, 0.0), (3893, 0.0), (3895, 0.0), (3896, 0.0), (3897, 0.0), (3902, 0.0), (3904, 0.0), (3905, 0.0), (3908, 0.0), (3909, 0.0), (3910, 0.0), (3912, 0.0), (3915, 0.0), (3916, 0.0), (3917, 0.0), (3919, 0.0), (3920, 0.0), (3928, 0.0), (3929, 0.0), (3930, 0.0), (3933, 0.0), (3938, 0.0), (3939, 0.0), (3942, 0.0), (3943, 0.0), (3947, 0.0), (3949, 0.0), (3951, 0.0), (3954, 0.0), (3956, 0.0), (3958, 0.0), (3960, 0.0), (3963, 0.0), (3968, 0.0), (3970, 0.0), (3971, 0.0), (3972, 0.0), (3976, 0.0), (3979, 0.0), (3980, 0.0), (3982, 0.0), (3985, 0.0), (3988, 0.0), (3991, 0.0), (3992, 0.0), (3993, 0.0), (3994, 0.0), (3997, 0.0), (3998, 0.0), (4001, 0.0), (4002, 0.0), (4003, 0.0), (4005, 0.0), (4006, 0.0), (4008, 0.0), (4009, 0.0), (4011, 0.0), (4012, 0.0), (4018, 0.0), (4020, 0.0), (4025, 0.0), (4030, 0.0), (4031, 0.0), (4034, 0.0), (4035, 0.0), (4036, 0.0), (4039, 0.0), (4040, 0.0), (4042, 0.0), (4046, 0.0), (4050, 0.0), (4052, 0.0), (4053, 0.0), (4056, 0.0), (4059, 0.0), (4060, 0.0), (4061, 0.0), (4066, 0.0), (4068, 0.0), (4069, 0.0), (4072, 0.0), (4073, 0.0), (4074, 0.0), (4075, 0.0), (4093, 0.0), (4102, 0.0), (4105, 0.0), (4108, 0.0), (4114, 0.0), (4116, 0.0), (4118, 0.0), (4123, 0.0), (4125, 0.0), (4128, 0.0), (4131, 0.0), (4132, 0.0), (4133, 0.0), (4134, 0.0), (4137, 0.0), (4138, 0.0), (4140, 0.0), (4141, 0.0), (4142, 0.0), (4145, 0.0), (4147, 0.0), (4148, 0.0), (4149, 0.0), (4151, 0.0), (4153, 0.0), (4154, 0.0), (4155, 0.0), (4156, 0.0), (4158, 0.0), (4161, 0.0), (4180, 0.0), (4181, 0.0), (4183, 0.0), (4185, 0.0), (4186, 0.0), (4187, 0.0), (4188, 0.0), (4191, 0.0), (4195, 0.0), (4200, 0.0), (4207, 0.0), (4210, 0.0), (4213, 0.0), (4214, 0.0), (4225, 0.0), (4227, 0.0), (4229, 0.0), (4233, 0.0), (4234, 0.0), (4242, 0.0), (4245, 0.0), (4248, 0.0), (4249, 0.0), (4250, 0.0), (4254, 0.0), (4256, 0.0), (4258, 0.0), (4261, 0.0), (4264, 0.0), (4266, 0.0), (4267, 0.0), (4268, 0.0), (4269, 0.0), (4274, 0.0), (4278, 0.0), (4279, 0.0), (4282, 0.0), (4284, 0.0), (4292, 0.0), (4293, 0.0), (4297, 0.0), (4300, 0.0), (4302, 0.0), (4305, 0.0), (4306, 0.0), (4313, 0.0), (4314, 0.0), (4316, 0.0), (4318, 0.0), (4319, 0.0), (4322, 0.0), (4325, 0.0), (4328, 0.0), (4335, 0.0), (4336, 0.0), (4339, 0.0), (4340, 0.0), (4341, 0.0), (4343, 0.0), (4344, 0.0), (4347, 0.0), (4353, 0.0), (4356, 0.0), (4363, 0.0), (4372, 0.0), (4382, 0.0), (4385, 0.0), (4387, 0.0), (4389, 0.0), (4391, 0.0), (4395, 0.0), (4396, 0.0), (4400, 0.0), (4401, 0.0), (4405, 0.0), (4409, 0.0), (4413, 0.0), (4414, 0.0), (4415, 0.0), (4418, 0.0), (4419, 0.0), (4420, 0.0), (4421, 0.0), (4424, 0.0), (4425, 0.0), (4428, 0.0), (4431, 0.0), (4435, 0.0), (4440, 0.0), (4446, 0.0), (4450, 0.0), (4451, 0.0), (4458, 0.0), (4463, 0.0), (4464, 0.0), (4466, 0.0), (4468, 0.0), (4469, 0.0), (4471, 0.0), (4472, 0.0), (4473, 0.0), (4477, 0.0), (4478, 0.0), (4480, 0.0), (4481, 0.0), (4487, 0.0), (4489, 0.0), (4490, 0.0), (4491, 0.0), (4492, 0.0), (4495, 0.0), (4500, 0.0), (4503, 0.0), (4504, 0.0), (4506, 0.0), (4508, 0.0), (4513, 0.0), (4515, 0.0), (4517, 0.0), (4520, 0.0), (4521, 0.0), (4524, 0.0), (4530, 0.0), (4534, 0.0), (4536, 0.0), (4537, 0.0), (4546, 0.0), (4550, 0.0), (4552, 0.0), (4553, 0.0), (4554, 0.0), (4555, 0.0), (4557, 0.0), (4559, 0.0), (4560, 0.0), (4561, 0.0), (4562, 0.0), (4566, 0.0), (4568, 0.0), (4569, 0.0), (4570, 0.0), (4571, 0.0), (4575, 0.0), (4576, 0.0), (4577, 0.0), (4581, 0.0), (4584, 0.0), (4587, 0.0), (4593, 0.0), (4595, 0.0), (4596, 0.0), (4597, 0.0), (4598, 0.0), (4600, 0.0), (4601, 0.0), (4604, 0.0), (4609, 0.0), (4611, 0.0), (4616, 0.0), (4617, 0.0), (4621, 0.0), (4622, 0.0), (4623, 0.0), (4625, 0.0), (4628, 0.0), (4629, 0.0), (4633, 0.0), (4639, 0.0), (4644, 0.0), (4645, 0.0), (4650, 0.0), (4652, 0.0), (4657, 0.0), (4660, 0.0), (4663, 0.0), (4665, 0.0), (4669, 0.0), (4673, 0.0), (4674, 0.0), (4680, 0.0), (4681, 0.0), (4682, 0.0), (4684, 0.0), (4685, 0.0), (4689, 0.0), (4698, 0.0), (4710, 0.0), (4711, 0.0), (4712, 0.0), (4713, 0.0), (4716, 0.0), (4723, 0.0), (4725, 0.0), (4728, 0.0), (4729, 0.0), (4731, 0.0), (4732, 0.0), (4736, 0.0), (4737, 0.0), (4739, 0.0), (4740, 0.0), (4741, 0.0), (4743, 0.0), (4745, 0.0), (4748, 0.0), (4753, 0.0), (4755, 0.0), (4756, 0.0), (4757, 0.0), (4761, 0.0), (4763, 0.0), (4765, 0.0), (4766, 0.0), (4767, 0.0), (4769, 0.0), (4771, 0.0), (4773, 0.0), (4779, 0.0), (4781, 0.0), (4783, 0.0), (4787, 0.0), (4788, 0.0), (4791, 0.0), (4792, 0.0), (4794, 0.0), (4797, 0.0), (4798, 0.0), (4801, 0.0), (4802, 0.0)]\n"
          ]
        }
      ]
    },
    {
      "cell_type": "code",
      "source": [
        "# print the name of similar movies based on the index\n",
        "print('Movies suggested for you: \\n')\n",
        "\n",
        "i=1\n",
        "for movie in sorted_similar_movies:\n",
        "  index=movie[0]\n",
        "  tital_from_index=data[data.index==index]['title'].values[0]\n",
        "  if(i<30):\n",
        "    print(i,'.',tital_from_index)\n",
        "    i+=1\n"
      ],
      "metadata": {
        "colab": {
          "base_uri": "https://localhost:8080/"
        },
        "id": "H0g448VIHjRg",
        "outputId": "6f4348e9-bd67-4ec5-8677-066e605f075c"
      },
      "execution_count": null,
      "outputs": [
        {
          "output_type": "stream",
          "name": "stdout",
          "text": [
            "Movies suggested for you: \n",
            "\n",
            "1 . Slam\n",
            "2 . The Dangerous Lives of Altar Boys\n",
            "3 . Mad City\n",
            "4 . Saved!\n",
            "5 . I Want Your Money\n",
            "6 . Lovely, Still\n",
            "7 . The Sixth Sense\n",
            "8 . All That Jazz\n",
            "9 . The Messenger\n",
            "10 . Everything Put Together\n",
            "11 . The Signal\n",
            "12 . To Write Love on Her Arms\n",
            "13 . JFK\n",
            "14 . Palo Alto\n",
            "15 . The Last Samurai\n",
            "16 . The Fisher King\n",
            "17 . Life During Wartime\n",
            "18 . The Book Thief\n",
            "19 . King Kong\n",
            "20 . One to Another\n",
            "21 . The Bucket List\n",
            "22 . The Hotel New Hampshire\n",
            "23 . The Kentucky Fried Movie\n",
            "24 . The Wicked Within\n",
            "25 . Ratatouille\n",
            "26 . Solaris\n",
            "27 . But I'm a Cheerleader\n",
            "28 . A Streetcar Named Desire\n",
            "29 . Open Water\n"
          ]
        }
      ]
    },
    {
      "cell_type": "markdown",
      "source": [
        "Movie Recomendation system"
      ],
      "metadata": {
        "id": "hU_9OOZYKfjH"
      }
    },
    {
      "cell_type": "code",
      "source": [
        "# getting the movie name from the user\n",
        "movie_name=input(\"Enter your favourite movie name: \")\n",
        "list_of_all_titles=data['title'].tolist()\n",
        "find_close_match=difflib.get_close_matches(movie_name, list_of_all_titles)\n",
        "close_match=find_close_match[0]\n",
        "index_of_the_movie=data[data.title==close_match]['index'].values[0]\n",
        "similarity_score=list(enumerate(similarity[index_of_the_movie]))\n",
        "sorted_similar_movies=sorted(similarity_score, key=lambda x:x[1], reverse=True)\n",
        "# print the name of similar movies based on the index\n",
        "print('Movies suggested for you: \\n')\n",
        "\n",
        "i=1\n",
        "for movie in sorted_similar_movies:\n",
        "  index=movie[0]\n",
        "  tital_from_index=data[data.index==index]['title'].values[0]\n",
        "  if(i<30):\n",
        "    print(i,'.',tital_from_index)\n",
        "    i+=1\n"
      ],
      "metadata": {
        "colab": {
          "base_uri": "https://localhost:8080/"
        },
        "id": "_iNNuT1CJyI7",
        "outputId": "63c6621a-99bd-4506-ace0-74c40accf149"
      },
      "execution_count": null,
      "outputs": [
        {
          "output_type": "stream",
          "name": "stdout",
          "text": [
            "Enter your favourite movie name: Avatar\n",
            "Movies suggested for you: \n",
            "\n",
            "1 . Avatar\n",
            "2 . Alien\n",
            "3 . Aliens\n",
            "4 . Guardians of the Galaxy\n",
            "5 . Star Trek Beyond\n",
            "6 . Star Trek Into Darkness\n",
            "7 . Galaxy Quest\n",
            "8 . Alien³\n",
            "9 . Cargo\n",
            "10 . Trekkies\n",
            "11 . Gravity\n",
            "12 . Moonraker\n",
            "13 . Jason X\n",
            "14 . Pocahontas\n",
            "15 . Space Cowboys\n",
            "16 . The Helix... Loaded\n",
            "17 . Lockout\n",
            "18 . Event Horizon\n",
            "19 . Space Dogs\n",
            "20 . Machete Kills\n",
            "21 . Gettysburg\n",
            "22 . Clash of the Titans\n",
            "23 . Star Wars: Clone Wars: Volume 1\n",
            "24 . The Right Stuff\n",
            "25 . Terminator Salvation\n",
            "26 . The Astronaut's Wife\n",
            "27 . Planet of the Apes\n",
            "28 . Star Trek\n",
            "29 . Wing Commander\n"
          ]
        }
      ]
    },
    {
      "cell_type": "markdown",
      "source": [
        "Indiviual Practice of above code"
      ],
      "metadata": {
        "id": "5j5u6DuUKVYD"
      }
    },
    {
      "cell_type": "code",
      "source": [
        "import numpy as np\n",
        "import pandas as pd\n",
        "import difflib\n",
        "from sklearn.feature_extraction.text import TfidfVectorizer\n",
        "from sklearn.metrics.pairwise import cosine_similarity"
      ],
      "metadata": {
        "id": "Noa9zPN0tN9F"
      },
      "execution_count": null,
      "outputs": []
    },
    {
      "cell_type": "code",
      "source": [
        "data=pd.read_csv('/content/movies.csv')"
      ],
      "metadata": {
        "id": "VFp5I4igt-C8"
      },
      "execution_count": null,
      "outputs": []
    },
    {
      "cell_type": "code",
      "source": [
        "data.shape"
      ],
      "metadata": {
        "colab": {
          "base_uri": "https://localhost:8080/"
        },
        "id": "trsUfQXKuJ-8",
        "outputId": "041f560a-afe1-4604-d319-ff2ca134f357"
      },
      "execution_count": null,
      "outputs": [
        {
          "output_type": "execute_result",
          "data": {
            "text/plain": [
              "(4803, 24)"
            ]
          },
          "metadata": {},
          "execution_count": 3
        }
      ]
    },
    {
      "cell_type": "code",
      "source": [
        "data.head(1)"
      ],
      "metadata": {
        "colab": {
          "base_uri": "https://localhost:8080/",
          "height": 251
        },
        "id": "aVcSeE82uNiS",
        "outputId": "94ea1dcb-55db-4098-b7f8-1f7f0585d264"
      },
      "execution_count": null,
      "outputs": [
        {
          "output_type": "execute_result",
          "data": {
            "text/plain": [
              "   index     budget                                    genres  \\\n",
              "0      0  237000000  Action Adventure Fantasy Science Fiction   \n",
              "\n",
              "                      homepage     id  \\\n",
              "0  http://www.avatarmovie.com/  19995   \n",
              "\n",
              "                                            keywords original_language  \\\n",
              "0  culture clash future space war space colony so...                en   \n",
              "\n",
              "  original_title                                           overview  \\\n",
              "0         Avatar  In the 22nd century, a paraplegic Marine is di...   \n",
              "\n",
              "   popularity  ... runtime                                   spoken_languages  \\\n",
              "0  150.437577  ...   162.0  [{\"iso_639_1\": \"en\", \"name\": \"English\"}, {\"iso...   \n",
              "\n",
              "     status                      tagline   title vote_average vote_count  \\\n",
              "0  Released  Enter the World of Pandora.  Avatar          7.2      11800   \n",
              "\n",
              "                                                cast  \\\n",
              "0  Sam Worthington Zoe Saldana Sigourney Weaver S...   \n",
              "\n",
              "                                                crew       director  \n",
              "0  [{'name': 'Stephen E. Rivkin', 'gender': 0, 'd...  James Cameron  \n",
              "\n",
              "[1 rows x 24 columns]"
            ],
            "text/html": [
              "\n",
              "  <div id=\"df-c86c5625-32c0-40c8-beba-1d7234f47e56\" class=\"colab-df-container\">\n",
              "    <div>\n",
              "<style scoped>\n",
              "    .dataframe tbody tr th:only-of-type {\n",
              "        vertical-align: middle;\n",
              "    }\n",
              "\n",
              "    .dataframe tbody tr th {\n",
              "        vertical-align: top;\n",
              "    }\n",
              "\n",
              "    .dataframe thead th {\n",
              "        text-align: right;\n",
              "    }\n",
              "</style>\n",
              "<table border=\"1\" class=\"dataframe\">\n",
              "  <thead>\n",
              "    <tr style=\"text-align: right;\">\n",
              "      <th></th>\n",
              "      <th>index</th>\n",
              "      <th>budget</th>\n",
              "      <th>genres</th>\n",
              "      <th>homepage</th>\n",
              "      <th>id</th>\n",
              "      <th>keywords</th>\n",
              "      <th>original_language</th>\n",
              "      <th>original_title</th>\n",
              "      <th>overview</th>\n",
              "      <th>popularity</th>\n",
              "      <th>...</th>\n",
              "      <th>runtime</th>\n",
              "      <th>spoken_languages</th>\n",
              "      <th>status</th>\n",
              "      <th>tagline</th>\n",
              "      <th>title</th>\n",
              "      <th>vote_average</th>\n",
              "      <th>vote_count</th>\n",
              "      <th>cast</th>\n",
              "      <th>crew</th>\n",
              "      <th>director</th>\n",
              "    </tr>\n",
              "  </thead>\n",
              "  <tbody>\n",
              "    <tr>\n",
              "      <th>0</th>\n",
              "      <td>0</td>\n",
              "      <td>237000000</td>\n",
              "      <td>Action Adventure Fantasy Science Fiction</td>\n",
              "      <td>http://www.avatarmovie.com/</td>\n",
              "      <td>19995</td>\n",
              "      <td>culture clash future space war space colony so...</td>\n",
              "      <td>en</td>\n",
              "      <td>Avatar</td>\n",
              "      <td>In the 22nd century, a paraplegic Marine is di...</td>\n",
              "      <td>150.437577</td>\n",
              "      <td>...</td>\n",
              "      <td>162.0</td>\n",
              "      <td>[{\"iso_639_1\": \"en\", \"name\": \"English\"}, {\"iso...</td>\n",
              "      <td>Released</td>\n",
              "      <td>Enter the World of Pandora.</td>\n",
              "      <td>Avatar</td>\n",
              "      <td>7.2</td>\n",
              "      <td>11800</td>\n",
              "      <td>Sam Worthington Zoe Saldana Sigourney Weaver S...</td>\n",
              "      <td>[{'name': 'Stephen E. Rivkin', 'gender': 0, 'd...</td>\n",
              "      <td>James Cameron</td>\n",
              "    </tr>\n",
              "  </tbody>\n",
              "</table>\n",
              "<p>1 rows × 24 columns</p>\n",
              "</div>\n",
              "    <div class=\"colab-df-buttons\">\n",
              "\n",
              "  <div class=\"colab-df-container\">\n",
              "    <button class=\"colab-df-convert\" onclick=\"convertToInteractive('df-c86c5625-32c0-40c8-beba-1d7234f47e56')\"\n",
              "            title=\"Convert this dataframe to an interactive table.\"\n",
              "            style=\"display:none;\">\n",
              "\n",
              "  <svg xmlns=\"http://www.w3.org/2000/svg\" height=\"24px\" viewBox=\"0 -960 960 960\">\n",
              "    <path d=\"M120-120v-720h720v720H120Zm60-500h600v-160H180v160Zm220 220h160v-160H400v160Zm0 220h160v-160H400v160ZM180-400h160v-160H180v160Zm440 0h160v-160H620v160ZM180-180h160v-160H180v160Zm440 0h160v-160H620v160Z\"/>\n",
              "  </svg>\n",
              "    </button>\n",
              "\n",
              "  <style>\n",
              "    .colab-df-container {\n",
              "      display:flex;\n",
              "      gap: 12px;\n",
              "    }\n",
              "\n",
              "    .colab-df-convert {\n",
              "      background-color: #E8F0FE;\n",
              "      border: none;\n",
              "      border-radius: 50%;\n",
              "      cursor: pointer;\n",
              "      display: none;\n",
              "      fill: #1967D2;\n",
              "      height: 32px;\n",
              "      padding: 0 0 0 0;\n",
              "      width: 32px;\n",
              "    }\n",
              "\n",
              "    .colab-df-convert:hover {\n",
              "      background-color: #E2EBFA;\n",
              "      box-shadow: 0px 1px 2px rgba(60, 64, 67, 0.3), 0px 1px 3px 1px rgba(60, 64, 67, 0.15);\n",
              "      fill: #174EA6;\n",
              "    }\n",
              "\n",
              "    .colab-df-buttons div {\n",
              "      margin-bottom: 4px;\n",
              "    }\n",
              "\n",
              "    [theme=dark] .colab-df-convert {\n",
              "      background-color: #3B4455;\n",
              "      fill: #D2E3FC;\n",
              "    }\n",
              "\n",
              "    [theme=dark] .colab-df-convert:hover {\n",
              "      background-color: #434B5C;\n",
              "      box-shadow: 0px 1px 3px 1px rgba(0, 0, 0, 0.15);\n",
              "      filter: drop-shadow(0px 1px 2px rgba(0, 0, 0, 0.3));\n",
              "      fill: #FFFFFF;\n",
              "    }\n",
              "  </style>\n",
              "\n",
              "    <script>\n",
              "      const buttonEl =\n",
              "        document.querySelector('#df-c86c5625-32c0-40c8-beba-1d7234f47e56 button.colab-df-convert');\n",
              "      buttonEl.style.display =\n",
              "        google.colab.kernel.accessAllowed ? 'block' : 'none';\n",
              "\n",
              "      async function convertToInteractive(key) {\n",
              "        const element = document.querySelector('#df-c86c5625-32c0-40c8-beba-1d7234f47e56');\n",
              "        const dataTable =\n",
              "          await google.colab.kernel.invokeFunction('convertToInteractive',\n",
              "                                                    [key], {});\n",
              "        if (!dataTable) return;\n",
              "\n",
              "        const docLinkHtml = 'Like what you see? Visit the ' +\n",
              "          '<a target=\"_blank\" href=https://colab.research.google.com/notebooks/data_table.ipynb>data table notebook</a>'\n",
              "          + ' to learn more about interactive tables.';\n",
              "        element.innerHTML = '';\n",
              "        dataTable['output_type'] = 'display_data';\n",
              "        await google.colab.output.renderOutput(dataTable, element);\n",
              "        const docLink = document.createElement('div');\n",
              "        docLink.innerHTML = docLinkHtml;\n",
              "        element.appendChild(docLink);\n",
              "      }\n",
              "    </script>\n",
              "  </div>\n",
              "\n",
              "\n",
              "    </div>\n",
              "  </div>\n"
            ],
            "application/vnd.google.colaboratory.intrinsic+json": {
              "type": "dataframe",
              "variable_name": "data"
            }
          },
          "metadata": {},
          "execution_count": 5
        }
      ]
    },
    {
      "cell_type": "code",
      "source": [
        "data.info()"
      ],
      "metadata": {
        "colab": {
          "base_uri": "https://localhost:8080/"
        },
        "id": "LrOcJPiQuRJC",
        "outputId": "098f3256-83be-4b28-c771-fa7a1e29c7f1"
      },
      "execution_count": null,
      "outputs": [
        {
          "output_type": "stream",
          "name": "stdout",
          "text": [
            "<class 'pandas.core.frame.DataFrame'>\n",
            "RangeIndex: 4803 entries, 0 to 4802\n",
            "Data columns (total 24 columns):\n",
            " #   Column                Non-Null Count  Dtype  \n",
            "---  ------                --------------  -----  \n",
            " 0   index                 4803 non-null   int64  \n",
            " 1   budget                4803 non-null   int64  \n",
            " 2   genres                4775 non-null   object \n",
            " 3   homepage              1712 non-null   object \n",
            " 4   id                    4803 non-null   int64  \n",
            " 5   keywords              4391 non-null   object \n",
            " 6   original_language     4803 non-null   object \n",
            " 7   original_title        4803 non-null   object \n",
            " 8   overview              4800 non-null   object \n",
            " 9   popularity            4803 non-null   float64\n",
            " 10  production_companies  4803 non-null   object \n",
            " 11  production_countries  4803 non-null   object \n",
            " 12  release_date          4802 non-null   object \n",
            " 13  revenue               4803 non-null   int64  \n",
            " 14  runtime               4801 non-null   float64\n",
            " 15  spoken_languages      4803 non-null   object \n",
            " 16  status                4803 non-null   object \n",
            " 17  tagline               3959 non-null   object \n",
            " 18  title                 4803 non-null   object \n",
            " 19  vote_average          4803 non-null   float64\n",
            " 20  vote_count            4803 non-null   int64  \n",
            " 21  cast                  4760 non-null   object \n",
            " 22  crew                  4803 non-null   object \n",
            " 23  director              4773 non-null   object \n",
            "dtypes: float64(3), int64(5), object(16)\n",
            "memory usage: 900.7+ KB\n"
          ]
        }
      ]
    },
    {
      "cell_type": "code",
      "source": [
        "data.isnull().sum()"
      ],
      "metadata": {
        "colab": {
          "base_uri": "https://localhost:8080/"
        },
        "id": "JSb9DxnyuT-z",
        "outputId": "5a2080c2-5614-4ced-a901-8d53aa7c5824"
      },
      "execution_count": null,
      "outputs": [
        {
          "output_type": "execute_result",
          "data": {
            "text/plain": [
              "index                      0\n",
              "budget                     0\n",
              "genres                    28\n",
              "homepage                3091\n",
              "id                         0\n",
              "keywords                 412\n",
              "original_language          0\n",
              "original_title             0\n",
              "overview                   3\n",
              "popularity                 0\n",
              "production_companies       0\n",
              "production_countries       0\n",
              "release_date               1\n",
              "revenue                    0\n",
              "runtime                    2\n",
              "spoken_languages           0\n",
              "status                     0\n",
              "tagline                  844\n",
              "title                      0\n",
              "vote_average               0\n",
              "vote_count                 0\n",
              "cast                      43\n",
              "crew                       0\n",
              "director                  30\n",
              "dtype: int64"
            ]
          },
          "metadata": {},
          "execution_count": 7
        }
      ]
    },
    {
      "cell_type": "code",
      "source": [
        "feature=['genres','keywords','title','cast','director']"
      ],
      "metadata": {
        "id": "3LjPnAqCvGiZ"
      },
      "execution_count": null,
      "outputs": []
    },
    {
      "cell_type": "code",
      "source": [
        "print(feature)"
      ],
      "metadata": {
        "colab": {
          "base_uri": "https://localhost:8080/"
        },
        "id": "yPZhrnqsvj4o",
        "outputId": "7c6da91b-c5d6-4c8a-eb03-a16dcee3a637"
      },
      "execution_count": null,
      "outputs": [
        {
          "output_type": "stream",
          "name": "stdout",
          "text": [
            "['genres', 'keywords', 'title', 'cast', 'director']\n"
          ]
        }
      ]
    },
    {
      "cell_type": "code",
      "source": [
        "for i in feature:\n",
        "  data[i]=data[i].fillna('')\n"
      ],
      "metadata": {
        "id": "DH6Bf_0bvlwq"
      },
      "execution_count": null,
      "outputs": []
    },
    {
      "cell_type": "code",
      "source": [
        "feature=data['genres']+' '+data['keywords']+' '+data['title']+' '+data['cast']+' '+data['director']"
      ],
      "metadata": {
        "id": "a-3AJh9Sv2oK"
      },
      "execution_count": null,
      "outputs": []
    },
    {
      "cell_type": "code",
      "source": [
        "print(feature)"
      ],
      "metadata": {
        "colab": {
          "base_uri": "https://localhost:8080/"
        },
        "id": "z9ijdhohwQij",
        "outputId": "d1e10ea4-cc8d-49c9-a1d2-1512be7f307e"
      },
      "execution_count": null,
      "outputs": [
        {
          "output_type": "stream",
          "name": "stdout",
          "text": [
            "0       Action Adventure Fantasy Science Fiction cultu...\n",
            "1       Adventure Fantasy Action ocean drug abuse exot...\n",
            "2       Action Adventure Crime spy based on novel secr...\n",
            "3       Action Crime Drama Thriller dc comics crime fi...\n",
            "4       Action Adventure Science Fiction based on nove...\n",
            "                              ...                        \n",
            "4798    Action Crime Thriller united states\\u2013mexic...\n",
            "4799    Comedy Romance  Newlyweds Edward Burns Kerry B...\n",
            "4800    Comedy Drama Romance TV Movie date love at fir...\n",
            "4801      Shanghai Calling Daniel Henney Eliza Coupe B...\n",
            "4802    Documentary obsession camcorder crush dream gi...\n",
            "Length: 4803, dtype: object\n"
          ]
        }
      ]
    },
    {
      "cell_type": "code",
      "source": [
        "vector=TfidfVectorizer()"
      ],
      "metadata": {
        "id": "yKshC_pOwSVp"
      },
      "execution_count": null,
      "outputs": []
    },
    {
      "cell_type": "code",
      "source": [
        "feature=vector.fit_transform(feature)"
      ],
      "metadata": {
        "id": "d4Zm_UtEwXUZ"
      },
      "execution_count": null,
      "outputs": []
    },
    {
      "cell_type": "code",
      "source": [
        "print(feature)"
      ],
      "metadata": {
        "colab": {
          "base_uri": "https://localhost:8080/"
        },
        "id": "BIP00hCgxM9q",
        "outputId": "620e9fcf-1864-4ba0-a2f7-15259e16fc63"
      },
      "execution_count": null,
      "outputs": [
        {
          "output_type": "stream",
          "name": "stdout",
          "text": [
            "  (0, 2471)\t0.17934890220389116\n",
            "  (0, 7809)\t0.11754904703299243\n",
            "  (0, 13148)\t0.20168608727942994\n",
            "  (0, 10322)\t0.1667461227601918\n",
            "  (0, 8839)\t0.23580014500028515\n",
            "  (0, 14767)\t0.15731772662342236\n",
            "  (0, 16831)\t0.20604347408586013\n",
            "  (0, 14211)\t0.2138604832941835\n",
            "  (0, 13450)\t0.22609868792212612\n",
            "  (0, 17448)\t0.20845327343836825\n",
            "  (0, 17158)\t0.24550160207844418\n",
            "  (0, 13480)\t0.1557115734521532\n",
            "  (0, 1036)\t0.29622336649947856\n",
            "  (0, 14425)\t0.2221267092193267\n",
            "  (0, 3261)\t0.2591750378594026\n",
            "  (0, 16754)\t0.13181785740568822\n",
            "  (0, 14528)\t0.35560814891558984\n",
            "  (0, 5854)\t0.18767372561034484\n",
            "  (0, 3100)\t0.23060174597886596\n",
            "  (0, 3707)\t0.2221267092193267\n",
            "  (0, 5437)\t0.10767939588044251\n",
            "  (0, 13728)\t0.10767939588044251\n",
            "  (0, 5284)\t0.11542535783031438\n",
            "  (0, 238)\t0.09430085253959875\n",
            "  (0, 170)\t0.08164397506394087\n",
            "  :\t:\n",
            "  (4801, 4876)\t0.2535523074724754\n",
            "  (4801, 361)\t0.18187718973706643\n",
            "  (4801, 6980)\t0.2961009192988059\n",
            "  (4801, 11778)\t0.22117043096289332\n",
            "  (4801, 1690)\t0.15953826496111637\n",
            "  (4801, 3829)\t0.3429574294506934\n",
            "  (4802, 7039)\t0.5155526141236372\n",
            "  (4802, 5367)\t0.2077488917620507\n",
            "  (4802, 2465)\t0.21709421212519522\n",
            "  (4802, 3680)\t0.2308869049340199\n",
            "  (4802, 10837)\t0.163908275070186\n",
            "  (4802, 4643)\t0.21709421212519522\n",
            "  (4802, 6453)\t0.19675316465688356\n",
            "  (4802, 4375)\t0.13912921440625245\n",
            "  (4802, 13109)\t0.15302505645417255\n",
            "  (4802, 1318)\t0.1773438122132163\n",
            "  (4802, 4552)\t0.35101818859877537\n",
            "  (4802, 3893)\t0.19020480999739658\n",
            "  (4802, 3457)\t0.19675316465688356\n",
            "  (4802, 6178)\t0.16105691467382957\n",
            "  (4802, 17074)\t0.15845823302392734\n",
            "  (4802, 5016)\t0.14542127111950243\n",
            "  (4802, 2148)\t0.28035478939525743\n",
            "  (4802, 4536)\t0.163908275070186\n",
            "  (4802, 11296)\t0.16706679682542735\n"
          ]
        }
      ]
    },
    {
      "cell_type": "code",
      "source": [
        "similarity=cosine_similarity(feature)"
      ],
      "metadata": {
        "id": "4uPGtIalxUqp"
      },
      "execution_count": null,
      "outputs": []
    },
    {
      "cell_type": "code",
      "source": [
        "print(similarity)"
      ],
      "metadata": {
        "colab": {
          "base_uri": "https://localhost:8080/"
        },
        "id": "ahT__x-Oxcfa",
        "outputId": "b0019716-403a-4c52-89f3-44f240487c7a"
      },
      "execution_count": null,
      "outputs": [
        {
          "output_type": "stream",
          "name": "stdout",
          "text": [
            "[[1.         0.0237934  0.04095406 ... 0.         0.         0.        ]\n",
            " [0.0237934  1.         0.01318767 ... 0.03982525 0.         0.        ]\n",
            " [0.04095406 0.01318767 1.         ... 0.         0.05773922 0.        ]\n",
            " ...\n",
            " [0.         0.03982525 0.         ... 1.         0.         0.05747071]\n",
            " [0.         0.         0.05773922 ... 0.         1.         0.        ]\n",
            " [0.         0.         0.         ... 0.05747071 0.         1.        ]]\n"
          ]
        }
      ]
    },
    {
      "cell_type": "code",
      "source": [
        "input=input(\"Enter your favourite movie\")"
      ],
      "metadata": {
        "colab": {
          "base_uri": "https://localhost:8080/"
        },
        "id": "XYTimTdlxeaB",
        "outputId": "70d97725-1828-40a8-a5f3-7557f6a23dca"
      },
      "execution_count": null,
      "outputs": [
        {
          "name": "stdout",
          "output_type": "stream",
          "text": [
            "Enter your favourite movieislam\n"
          ]
        }
      ]
    },
    {
      "cell_type": "code",
      "source": [
        "input1=data['title'].tolist()"
      ],
      "metadata": {
        "id": "YSBQOwwVxqTS"
      },
      "execution_count": null,
      "outputs": []
    },
    {
      "cell_type": "code",
      "source": [
        "close_find_match=difflib.get_close_matches(input,input1)"
      ],
      "metadata": {
        "id": "a_18tlPGxzCC"
      },
      "execution_count": null,
      "outputs": []
    },
    {
      "cell_type": "code",
      "source": [
        "print(close_find_match)"
      ],
      "metadata": {
        "colab": {
          "base_uri": "https://localhost:8080/"
        },
        "id": "5UEe5csKx_I5",
        "outputId": "d0e8071d-88a8-4d53-ea6a-3c3dcd31c535"
      },
      "execution_count": null,
      "outputs": [
        {
          "output_type": "stream",
          "name": "stdout",
          "text": [
            "['Slam', 'Bandslam', 'Osama']\n"
          ]
        }
      ]
    },
    {
      "cell_type": "code",
      "source": [
        "close_match=close_find_match[0]"
      ],
      "metadata": {
        "id": "blpoPvEvyT15"
      },
      "execution_count": null,
      "outputs": []
    },
    {
      "cell_type": "code",
      "source": [
        "print(close_match)"
      ],
      "metadata": {
        "colab": {
          "base_uri": "https://localhost:8080/"
        },
        "id": "sX4pHx7ayYaJ",
        "outputId": "51ecd554-e894-4be9-9546-2264be9c5249"
      },
      "execution_count": null,
      "outputs": [
        {
          "output_type": "stream",
          "name": "stdout",
          "text": [
            "Slam\n"
          ]
        }
      ]
    },
    {
      "cell_type": "code",
      "source": [
        "index_match=data[data.title==close_match]['index'].values[0]"
      ],
      "metadata": {
        "id": "IVt1CAO0yaB5"
      },
      "execution_count": null,
      "outputs": []
    },
    {
      "cell_type": "code",
      "source": [
        "print(index_match)"
      ],
      "metadata": {
        "colab": {
          "base_uri": "https://localhost:8080/"
        },
        "id": "nEtbRkYXyn5K",
        "outputId": "0c098718-a8fb-48dc-eda3-2d68477f6ae6"
      },
      "execution_count": null,
      "outputs": [
        {
          "output_type": "stream",
          "name": "stdout",
          "text": [
            "4369\n"
          ]
        }
      ]
    },
    {
      "cell_type": "code",
      "source": [
        "similarity_score=list(enumerate(similarity[index_match]))"
      ],
      "metadata": {
        "id": "B7wCdGHkyv-z"
      },
      "execution_count": null,
      "outputs": []
    },
    {
      "cell_type": "code",
      "source": [
        "sorted_similarity=sorted(similarity_score, key=lambda x:x[1], reverse=True)"
      ],
      "metadata": {
        "id": "88cVaZpEy5vq"
      },
      "execution_count": null,
      "outputs": []
    },
    {
      "cell_type": "code",
      "source": [
        "print(\"Your Favourite movie recomendation is \\n\")\n",
        "\n",
        "i=1\n",
        "for movie in sorted_similaity:\n",
        "  index=movie[0]\n",
        "  name=data[data.index==index]['title'].values[0]\n",
        "  if i<30:\n",
        "    print(i,\" \",name)\n",
        "    i+=1"
      ],
      "metadata": {
        "colab": {
          "base_uri": "https://localhost:8080/"
        },
        "id": "cnJDleemzhcp",
        "outputId": "ced8e144-d787-4195-bda0-49e2f7763508"
      },
      "execution_count": null,
      "outputs": [
        {
          "output_type": "stream",
          "name": "stdout",
          "text": [
            "Your Favourite movie recomendation is \n",
            "\n",
            "1   Slam\n",
            "2   Fabled\n",
            "3   The Dangerous Lives of Altar Boys\n",
            "4   The Messenger\n",
            "5   The Signal\n",
            "6   Saved!\n",
            "7   Everything Put Together\n",
            "8   Palo Alto\n",
            "9   Max Payne\n",
            "10   The Hotel New Hampshire\n",
            "11   The Wicked Within\n",
            "12   Ratatouille\n",
            "13   Red Sonja\n",
            "14   One to Another\n",
            "15   To Write Love on Her Arms\n",
            "16   Life During Wartime\n",
            "17   Open Water\n",
            "18   Captive\n",
            "19   The Good Thief\n",
            "20   Videodrome\n",
            "21   The Duchess\n",
            "22   The Good Dinosaur\n",
            "23   The Family Man\n",
            "24   For Love of the Game\n",
            "25   Somewhere\n",
            "26   What Just Happened\n",
            "27   My Big Fat Independent Movie\n",
            "28   Stargate: The Ark of Truth\n",
            "29   Malone\n"
          ]
        }
      ]
    },
    {
      "cell_type": "code",
      "source": [],
      "metadata": {
        "id": "AzO1ULV70PTK"
      },
      "execution_count": null,
      "outputs": []
    }
  ]
}